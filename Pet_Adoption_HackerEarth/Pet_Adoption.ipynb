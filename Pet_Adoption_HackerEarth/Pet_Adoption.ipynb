{
  "nbformat": 4,
  "nbformat_minor": 0,
  "metadata": {
    "colab": {
      "name": "Pet_Adoption.ipynb",
      "provenance": [],
      "collapsed_sections": []
    },
    "kernelspec": {
      "name": "python3",
      "display_name": "Python 3"
    }
  },
  "cells": [
    {
      "cell_type": "code",
      "metadata": {
        "id": "sUnWBAgG9HQ8",
        "colab": {
          "base_uri": "https://localhost:8080/",
          "height": 105
        },
        "outputId": "75e07013-e307-4de4-d61a-c541dab415ed"
      },
      "source": [
        "!pip install bayesian-optimization"
      ],
      "execution_count": null,
      "outputs": [
        {
          "output_type": "stream",
          "text": [
            "Requirement already satisfied: bayesian-optimization in /usr/local/lib/python3.6/dist-packages (1.2.0)\n",
            "Requirement already satisfied: numpy>=1.9.0 in /usr/local/lib/python3.6/dist-packages (from bayesian-optimization) (1.18.5)\n",
            "Requirement already satisfied: scikit-learn>=0.18.0 in /usr/local/lib/python3.6/dist-packages (from bayesian-optimization) (0.22.2.post1)\n",
            "Requirement already satisfied: scipy>=0.14.0 in /usr/local/lib/python3.6/dist-packages (from bayesian-optimization) (1.4.1)\n",
            "Requirement already satisfied: joblib>=0.11 in /usr/local/lib/python3.6/dist-packages (from scikit-learn>=0.18.0->bayesian-optimization) (0.16.0)\n"
          ],
          "name": "stdout"
        }
      ]
    },
    {
      "cell_type": "code",
      "metadata": {
        "id": "OtWqdD4p8F2s",
        "colab": {
          "base_uri": "https://localhost:8080/",
          "height": 72
        },
        "outputId": "52e6467d-e652-4483-f98d-d6d20e6556c0"
      },
      "source": [
        "import pandas as pd\n",
        "import numpy as np\n",
        "import matplotlib.pyplot as plt\n",
        "import seaborn as sns\n",
        "\n",
        "from sklearn.model_selection import train_test_split\n",
        "from bayes_opt import BayesianOptimization\n",
        "from sklearn.model_selection import cross_val_score"
      ],
      "execution_count": null,
      "outputs": [
        {
          "output_type": "stream",
          "text": [
            "/usr/local/lib/python3.6/dist-packages/statsmodels/tools/_testing.py:19: FutureWarning: pandas.util.testing is deprecated. Use the functions in the public API at pandas.testing instead.\n",
            "  import pandas.util.testing as tm\n"
          ],
          "name": "stderr"
        }
      ]
    },
    {
      "cell_type": "code",
      "metadata": {
        "id": "wz2FkTke9O22",
        "colab": {
          "base_uri": "https://localhost:8080/",
          "height": 125
        },
        "outputId": "1426f33f-616a-46b1-fcd4-e6fdfec726e8"
      },
      "source": [
        "from google.colab import drive\n",
        "drive.mount('/content/gdrive')"
      ],
      "execution_count": null,
      "outputs": [
        {
          "output_type": "stream",
          "text": [
            "Go to this URL in a browser: https://accounts.google.com/o/oauth2/auth?client_id=947318989803-6bn6qk8qdgf4n4g3pfee6491hc0brc4i.apps.googleusercontent.com&redirect_uri=urn%3aietf%3awg%3aoauth%3a2.0%3aoob&scope=email%20https%3a%2f%2fwww.googleapis.com%2fauth%2fdocs.test%20https%3a%2f%2fwww.googleapis.com%2fauth%2fdrive%20https%3a%2f%2fwww.googleapis.com%2fauth%2fdrive.photos.readonly%20https%3a%2f%2fwww.googleapis.com%2fauth%2fpeopleapi.readonly&response_type=code\n",
            "\n",
            "Enter your authorization code:\n",
            "··········\n",
            "Mounted at /content/gdrive\n"
          ],
          "name": "stdout"
        }
      ]
    },
    {
      "cell_type": "code",
      "metadata": {
        "id": "EIgkZ0q9-S6D",
        "colab": {
          "base_uri": "https://localhost:8080/",
          "height": 35
        },
        "outputId": "6b9a03f4-0c0e-4c0b-c4ad-75f5b5992a86"
      },
      "source": [
        "pwd"
      ],
      "execution_count": null,
      "outputs": [
        {
          "output_type": "execute_result",
          "data": {
            "application/vnd.google.colaboratory.intrinsic+json": {
              "type": "string"
            },
            "text/plain": [
              "'/content'"
            ]
          },
          "metadata": {
            "tags": []
          },
          "execution_count": 448
        }
      ]
    },
    {
      "cell_type": "code",
      "metadata": {
        "id": "Z5G2I0Rh9bpR"
      },
      "source": [
        "train_df=pd.read_csv('/content/gdrive/My Drive/HackerEarth/Pet Adoption/train.csv')\n",
        "test_df=pd.read_csv('/content/gdrive/My Drive/HackerEarth/Pet Adoption/test.csv')"
      ],
      "execution_count": null,
      "outputs": []
    },
    {
      "cell_type": "code",
      "metadata": {
        "id": "gMLRY2i8-Dr-",
        "colab": {
          "base_uri": "https://localhost:8080/",
          "height": 197
        },
        "outputId": "611fa099-6292-4cfe-ca61-ba7829eff82b"
      },
      "source": [
        "train_df.head()"
      ],
      "execution_count": null,
      "outputs": [
        {
          "output_type": "execute_result",
          "data": {
            "text/html": [
              "<div>\n",
              "<style scoped>\n",
              "    .dataframe tbody tr th:only-of-type {\n",
              "        vertical-align: middle;\n",
              "    }\n",
              "\n",
              "    .dataframe tbody tr th {\n",
              "        vertical-align: top;\n",
              "    }\n",
              "\n",
              "    .dataframe thead th {\n",
              "        text-align: right;\n",
              "    }\n",
              "</style>\n",
              "<table border=\"1\" class=\"dataframe\">\n",
              "  <thead>\n",
              "    <tr style=\"text-align: right;\">\n",
              "      <th></th>\n",
              "      <th>pet_id</th>\n",
              "      <th>issue_date</th>\n",
              "      <th>listing_date</th>\n",
              "      <th>condition</th>\n",
              "      <th>color_type</th>\n",
              "      <th>length(m)</th>\n",
              "      <th>height(cm)</th>\n",
              "      <th>X1</th>\n",
              "      <th>X2</th>\n",
              "      <th>breed_category</th>\n",
              "      <th>pet_category</th>\n",
              "    </tr>\n",
              "  </thead>\n",
              "  <tbody>\n",
              "    <tr>\n",
              "      <th>0</th>\n",
              "      <td>ANSL_69903</td>\n",
              "      <td>2016-07-10 00:00:00</td>\n",
              "      <td>2016-09-21 16:25:00</td>\n",
              "      <td>2.0</td>\n",
              "      <td>Brown Tabby</td>\n",
              "      <td>0.80</td>\n",
              "      <td>7.78</td>\n",
              "      <td>13</td>\n",
              "      <td>9</td>\n",
              "      <td>0.0</td>\n",
              "      <td>1</td>\n",
              "    </tr>\n",
              "    <tr>\n",
              "      <th>1</th>\n",
              "      <td>ANSL_66892</td>\n",
              "      <td>2013-11-21 00:00:00</td>\n",
              "      <td>2018-12-27 17:47:00</td>\n",
              "      <td>1.0</td>\n",
              "      <td>White</td>\n",
              "      <td>0.72</td>\n",
              "      <td>14.19</td>\n",
              "      <td>13</td>\n",
              "      <td>9</td>\n",
              "      <td>0.0</td>\n",
              "      <td>2</td>\n",
              "    </tr>\n",
              "    <tr>\n",
              "      <th>2</th>\n",
              "      <td>ANSL_69750</td>\n",
              "      <td>2014-09-28 00:00:00</td>\n",
              "      <td>2016-10-19 08:24:00</td>\n",
              "      <td>NaN</td>\n",
              "      <td>Brown</td>\n",
              "      <td>0.15</td>\n",
              "      <td>40.90</td>\n",
              "      <td>15</td>\n",
              "      <td>4</td>\n",
              "      <td>2.0</td>\n",
              "      <td>4</td>\n",
              "    </tr>\n",
              "    <tr>\n",
              "      <th>3</th>\n",
              "      <td>ANSL_71623</td>\n",
              "      <td>2016-12-31 00:00:00</td>\n",
              "      <td>2019-01-25 18:30:00</td>\n",
              "      <td>1.0</td>\n",
              "      <td>White</td>\n",
              "      <td>0.62</td>\n",
              "      <td>17.82</td>\n",
              "      <td>0</td>\n",
              "      <td>1</td>\n",
              "      <td>0.0</td>\n",
              "      <td>2</td>\n",
              "    </tr>\n",
              "    <tr>\n",
              "      <th>4</th>\n",
              "      <td>ANSL_57969</td>\n",
              "      <td>2017-09-28 00:00:00</td>\n",
              "      <td>2017-11-19 09:38:00</td>\n",
              "      <td>2.0</td>\n",
              "      <td>Black</td>\n",
              "      <td>0.50</td>\n",
              "      <td>11.06</td>\n",
              "      <td>18</td>\n",
              "      <td>4</td>\n",
              "      <td>0.0</td>\n",
              "      <td>1</td>\n",
              "    </tr>\n",
              "  </tbody>\n",
              "</table>\n",
              "</div>"
            ],
            "text/plain": [
              "       pet_id           issue_date  ... breed_category  pet_category\n",
              "0  ANSL_69903  2016-07-10 00:00:00  ...            0.0             1\n",
              "1  ANSL_66892  2013-11-21 00:00:00  ...            0.0             2\n",
              "2  ANSL_69750  2014-09-28 00:00:00  ...            2.0             4\n",
              "3  ANSL_71623  2016-12-31 00:00:00  ...            0.0             2\n",
              "4  ANSL_57969  2017-09-28 00:00:00  ...            0.0             1\n",
              "\n",
              "[5 rows x 11 columns]"
            ]
          },
          "metadata": {
            "tags": []
          },
          "execution_count": 5
        }
      ]
    },
    {
      "cell_type": "code",
      "metadata": {
        "id": "BQvYPkVEfrCl",
        "colab": {
          "base_uri": "https://localhost:8080/",
          "height": 185
        },
        "outputId": "f931a36c-ac6f-4833-faa2-be76db254e31"
      },
      "source": [
        "g=sns.scatterplot(x='X1',y='X2',data=train_df,palette=cmap, legend='full')\n",
        "g"
      ],
      "execution_count": null,
      "outputs": [
        {
          "output_type": "error",
          "ename": "NameError",
          "evalue": "ignored",
          "traceback": [
            "\u001b[0;31m---------------------------------------------------------------------------\u001b[0m",
            "\u001b[0;31mNameError\u001b[0m                                 Traceback (most recent call last)",
            "\u001b[0;32m<ipython-input-6-35113dd1095e>\u001b[0m in \u001b[0;36m<module>\u001b[0;34m()\u001b[0m\n\u001b[0;32m----> 1\u001b[0;31m \u001b[0mg\u001b[0m\u001b[0;34m=\u001b[0m\u001b[0msns\u001b[0m\u001b[0;34m.\u001b[0m\u001b[0mscatterplot\u001b[0m\u001b[0;34m(\u001b[0m\u001b[0mx\u001b[0m\u001b[0;34m=\u001b[0m\u001b[0;34m'X1'\u001b[0m\u001b[0;34m,\u001b[0m\u001b[0my\u001b[0m\u001b[0;34m=\u001b[0m\u001b[0;34m'X2'\u001b[0m\u001b[0;34m,\u001b[0m\u001b[0mdata\u001b[0m\u001b[0;34m=\u001b[0m\u001b[0mtrain_df\u001b[0m\u001b[0;34m,\u001b[0m\u001b[0mpalette\u001b[0m\u001b[0;34m=\u001b[0m\u001b[0mcmap\u001b[0m\u001b[0;34m,\u001b[0m \u001b[0mlegend\u001b[0m\u001b[0;34m=\u001b[0m\u001b[0;34m'full'\u001b[0m\u001b[0;34m)\u001b[0m\u001b[0;34m\u001b[0m\u001b[0;34m\u001b[0m\u001b[0m\n\u001b[0m\u001b[1;32m      2\u001b[0m \u001b[0mg\u001b[0m\u001b[0;34m\u001b[0m\u001b[0;34m\u001b[0m\u001b[0m\n",
            "\u001b[0;31mNameError\u001b[0m: name 'cmap' is not defined"
          ]
        }
      ]
    },
    {
      "cell_type": "code",
      "metadata": {
        "id": "E9sh0eqC-4op",
        "colab": {
          "base_uri": "https://localhost:8080/",
          "height": 197
        },
        "outputId": "f719dfaa-8a6d-418b-ac10-5d2c61b45bcb"
      },
      "source": [
        "test_df.head()"
      ],
      "execution_count": null,
      "outputs": [
        {
          "output_type": "execute_result",
          "data": {
            "text/html": [
              "<div>\n",
              "<style scoped>\n",
              "    .dataframe tbody tr th:only-of-type {\n",
              "        vertical-align: middle;\n",
              "    }\n",
              "\n",
              "    .dataframe tbody tr th {\n",
              "        vertical-align: top;\n",
              "    }\n",
              "\n",
              "    .dataframe thead th {\n",
              "        text-align: right;\n",
              "    }\n",
              "</style>\n",
              "<table border=\"1\" class=\"dataframe\">\n",
              "  <thead>\n",
              "    <tr style=\"text-align: right;\">\n",
              "      <th></th>\n",
              "      <th>pet_id</th>\n",
              "      <th>issue_date</th>\n",
              "      <th>listing_date</th>\n",
              "      <th>condition</th>\n",
              "      <th>color_type</th>\n",
              "      <th>length(m)</th>\n",
              "      <th>height(cm)</th>\n",
              "      <th>X1</th>\n",
              "      <th>X2</th>\n",
              "    </tr>\n",
              "  </thead>\n",
              "  <tbody>\n",
              "    <tr>\n",
              "      <th>0</th>\n",
              "      <td>ANSL_75005</td>\n",
              "      <td>2005-08-17 00:00:00</td>\n",
              "      <td>2017-09-07 15:35:00</td>\n",
              "      <td>0.0</td>\n",
              "      <td>Black</td>\n",
              "      <td>0.87</td>\n",
              "      <td>42.73</td>\n",
              "      <td>0</td>\n",
              "      <td>7</td>\n",
              "    </tr>\n",
              "    <tr>\n",
              "      <th>1</th>\n",
              "      <td>ANSL_76663</td>\n",
              "      <td>2018-11-15 00:00:00</td>\n",
              "      <td>2019-05-08 17:24:00</td>\n",
              "      <td>1.0</td>\n",
              "      <td>Orange Tabby</td>\n",
              "      <td>0.06</td>\n",
              "      <td>6.71</td>\n",
              "      <td>0</td>\n",
              "      <td>1</td>\n",
              "    </tr>\n",
              "    <tr>\n",
              "      <th>2</th>\n",
              "      <td>ANSL_58259</td>\n",
              "      <td>2012-10-11 00:00:00</td>\n",
              "      <td>2018-04-02 16:51:00</td>\n",
              "      <td>1.0</td>\n",
              "      <td>Black</td>\n",
              "      <td>0.24</td>\n",
              "      <td>41.21</td>\n",
              "      <td>0</td>\n",
              "      <td>7</td>\n",
              "    </tr>\n",
              "    <tr>\n",
              "      <th>3</th>\n",
              "      <td>ANSL_67171</td>\n",
              "      <td>2015-02-13 00:00:00</td>\n",
              "      <td>2018-04-06 07:25:00</td>\n",
              "      <td>1.0</td>\n",
              "      <td>Black</td>\n",
              "      <td>0.29</td>\n",
              "      <td>8.46</td>\n",
              "      <td>7</td>\n",
              "      <td>1</td>\n",
              "    </tr>\n",
              "    <tr>\n",
              "      <th>4</th>\n",
              "      <td>ANSL_72871</td>\n",
              "      <td>2017-01-18 00:00:00</td>\n",
              "      <td>2018-04-26 13:42:00</td>\n",
              "      <td>1.0</td>\n",
              "      <td>Brown</td>\n",
              "      <td>0.71</td>\n",
              "      <td>30.92</td>\n",
              "      <td>0</td>\n",
              "      <td>7</td>\n",
              "    </tr>\n",
              "  </tbody>\n",
              "</table>\n",
              "</div>"
            ],
            "text/plain": [
              "       pet_id           issue_date         listing_date  ...  height(cm) X1  X2\n",
              "0  ANSL_75005  2005-08-17 00:00:00  2017-09-07 15:35:00  ...       42.73  0   7\n",
              "1  ANSL_76663  2018-11-15 00:00:00  2019-05-08 17:24:00  ...        6.71  0   1\n",
              "2  ANSL_58259  2012-10-11 00:00:00  2018-04-02 16:51:00  ...       41.21  0   7\n",
              "3  ANSL_67171  2015-02-13 00:00:00  2018-04-06 07:25:00  ...        8.46  7   1\n",
              "4  ANSL_72871  2017-01-18 00:00:00  2018-04-26 13:42:00  ...       30.92  0   7\n",
              "\n",
              "[5 rows x 9 columns]"
            ]
          },
          "metadata": {
            "tags": []
          },
          "execution_count": 7
        }
      ]
    },
    {
      "cell_type": "code",
      "metadata": {
        "id": "O2Dz3aXUAL4N",
        "colab": {
          "base_uri": "https://localhost:8080/",
          "height": 296
        },
        "outputId": "1e3bf183-3738-4df1-e85d-9087af49cfcf"
      },
      "source": [
        "sns.scatterplot(x=train_df['X1'],y=train_df['pet_category'])"
      ],
      "execution_count": null,
      "outputs": [
        {
          "output_type": "execute_result",
          "data": {
            "text/plain": [
              "<matplotlib.axes._subplots.AxesSubplot at 0x7f34956859e8>"
            ]
          },
          "metadata": {
            "tags": []
          },
          "execution_count": 8
        },
        {
          "output_type": "display_data",
          "data": {
            "image/png": "[encoded data removed]",
            "text/plain": [
              "<Figure size 432x288 with 1 Axes>"
            ]
          },
          "metadata": {
            "tags": [],
            "needs_background": "light"
          }
        }
      ]
    },
    {
      "cell_type": "code",
      "metadata": {
        "id": "-YMVk9XODZNW",
        "colab": {
          "base_uri": "https://localhost:8080/",
          "height": 105
        },
        "outputId": "435b7b65-51e2-4d0f-a49a-58d2400487dd"
      },
      "source": [
        "train_df['pet_category'].value_counts()"
      ],
      "execution_count": null,
      "outputs": [
        {
          "output_type": "execute_result",
          "data": {
            "text/plain": [
              "2    10621\n",
              "1     7184\n",
              "4      941\n",
              "0       88\n",
              "Name: pet_category, dtype: int64"
            ]
          },
          "metadata": {
            "tags": []
          },
          "execution_count": 9
        }
      ]
    },
    {
      "cell_type": "code",
      "metadata": {
        "id": "_Otwzd5jp5jR",
        "colab": {
          "base_uri": "https://localhost:8080/",
          "height": 87
        },
        "outputId": "37c3a41d-a9a3-42e2-b96b-4cf218d9307b"
      },
      "source": [
        "train_df['breed_category'].value_counts()"
      ],
      "execution_count": null,
      "outputs": [
        {
          "output_type": "execute_result",
          "data": {
            "text/plain": [
              "0.0    9000\n",
              "1.0    8357\n",
              "2.0    1477\n",
              "Name: breed_category, dtype: int64"
            ]
          },
          "metadata": {
            "tags": []
          },
          "execution_count": 10
        }
      ]
    },
    {
      "cell_type": "code",
      "metadata": {
        "id": "vxB_iB0or65c",
        "colab": {
          "base_uri": "https://localhost:8080/",
          "height": 230
        },
        "outputId": "7fc3495c-fd3c-450f-b11b-5b731bbaf086"
      },
      "source": [
        "train_df.isnull().sum()"
      ],
      "execution_count": null,
      "outputs": [
        {
          "output_type": "execute_result",
          "data": {
            "text/plain": [
              "pet_id               0\n",
              "issue_date           0\n",
              "listing_date         0\n",
              "condition         1477\n",
              "color_type           0\n",
              "length(m)            0\n",
              "height(cm)           0\n",
              "X1                   0\n",
              "X2                   0\n",
              "breed_category       0\n",
              "pet_category         0\n",
              "dtype: int64"
            ]
          },
          "metadata": {
            "tags": []
          },
          "execution_count": 11
        }
      ]
    },
    {
      "cell_type": "code",
      "metadata": {
        "id": "uGKvNVLpeI59",
        "colab": {
          "base_uri": "https://localhost:8080/",
          "height": 194
        },
        "outputId": "7b3d1e1a-acd7-4497-f0f7-42a36b88e494"
      },
      "source": [
        "test_df.isnull().sum()"
      ],
      "execution_count": null,
      "outputs": [
        {
          "output_type": "execute_result",
          "data": {
            "text/plain": [
              "pet_id            0\n",
              "issue_date        0\n",
              "listing_date      0\n",
              "condition       619\n",
              "color_type        0\n",
              "length(m)         0\n",
              "height(cm)        0\n",
              "X1                0\n",
              "X2                0\n",
              "dtype: int64"
            ]
          },
          "metadata": {
            "tags": []
          },
          "execution_count": 12
        }
      ]
    },
    {
      "cell_type": "code",
      "metadata": {
        "id": "cPCIdtZCo0A1"
      },
      "source": [
        "def knn_regressor_for_null_values(knn_df,index):\n",
        "  #get name of target column from index\n",
        "  targetname=knn_df.columns[index]\n",
        "  #create a new dataframe with no NA values\n",
        "  knn_new_df=knn_df.dropna(axis=0)\n",
        "  #split into target and dependent variables X and y\n",
        "  y=knn_new_df[targetname]\n",
        "  knn_new_df.drop(knn_new_df.columns[[index]],axis=1,inplace=True)\n",
        "  X=knn_new_df\n",
        "  X=X.to_numpy()\n",
        "  y=y.to_numpy()\n",
        "  #X_train, X_test, y_train, y_test = train_test_split(X, y, test_size = 0.05, random_state = 0)\n",
        "  from sklearn.neighbors import KNeighborsClassifier\n",
        "  model = KNeighborsClassifier(n_neighbors=200)\n",
        "  model.fit(X,y)\n",
        "  #now create a subset dataframe with all null values of target variable\n",
        "  bool_series = pd.isnull(knn_df[targetname])\n",
        "  null_df=knn_df[bool_series]\n",
        "  main_test=null_df.drop(null_df.columns[[index]],axis=1)\n",
        "  main_test=main_test.to_numpy()\n",
        "  #make predictions for target variable\n",
        "  actual_pred=model.predict(main_test)\n",
        "  actual_pred=pd.Series(actual_pred)\n",
        "  actual_pred.columns=targetname\n",
        "  actual_pred.index=null_df.index\n",
        "  #replace null values in original knn_df with pred values\n",
        "  knn_df[knn_df.columns[index]].fillna(actual_pred, inplace=True)\n",
        "  return knn_df\n",
        "  \n",
        "\n",
        "\n",
        "\n",
        "  \n"
      ],
      "execution_count": null,
      "outputs": []
    },
    {
      "cell_type": "code",
      "metadata": {
        "id": "tNNxe4jksF2l",
        "colab": {
          "base_uri": "https://localhost:8080/",
          "height": 197
        },
        "outputId": "af2414e3-9170-4773-da01-063d327da822"
      },
      "source": [
        "knn_train_df=train_df[['condition','breed_category','pet_category']]\n",
        "knn_train_df.head()"
      ],
      "execution_count": null,
      "outputs": [
        {
          "output_type": "execute_result",
          "data": {
            "text/html": [
              "<div>\n",
              "<style scoped>\n",
              "    .dataframe tbody tr th:only-of-type {\n",
              "        vertical-align: middle;\n",
              "    }\n",
              "\n",
              "    .dataframe tbody tr th {\n",
              "        vertical-align: top;\n",
              "    }\n",
              "\n",
              "    .dataframe thead th {\n",
              "        text-align: right;\n",
              "    }\n",
              "</style>\n",
              "<table border=\"1\" class=\"dataframe\">\n",
              "  <thead>\n",
              "    <tr style=\"text-align: right;\">\n",
              "      <th></th>\n",
              "      <th>condition</th>\n",
              "      <th>breed_category</th>\n",
              "      <th>pet_category</th>\n",
              "    </tr>\n",
              "  </thead>\n",
              "  <tbody>\n",
              "    <tr>\n",
              "      <th>0</th>\n",
              "      <td>2.0</td>\n",
              "      <td>0.0</td>\n",
              "      <td>1</td>\n",
              "    </tr>\n",
              "    <tr>\n",
              "      <th>1</th>\n",
              "      <td>1.0</td>\n",
              "      <td>0.0</td>\n",
              "      <td>2</td>\n",
              "    </tr>\n",
              "    <tr>\n",
              "      <th>2</th>\n",
              "      <td>NaN</td>\n",
              "      <td>2.0</td>\n",
              "      <td>4</td>\n",
              "    </tr>\n",
              "    <tr>\n",
              "      <th>3</th>\n",
              "      <td>1.0</td>\n",
              "      <td>0.0</td>\n",
              "      <td>2</td>\n",
              "    </tr>\n",
              "    <tr>\n",
              "      <th>4</th>\n",
              "      <td>2.0</td>\n",
              "      <td>0.0</td>\n",
              "      <td>1</td>\n",
              "    </tr>\n",
              "  </tbody>\n",
              "</table>\n",
              "</div>"
            ],
            "text/plain": [
              "   condition  breed_category  pet_category\n",
              "0        2.0             0.0             1\n",
              "1        1.0             0.0             2\n",
              "2        NaN             2.0             4\n",
              "3        1.0             0.0             2\n",
              "4        2.0             0.0             1"
            ]
          },
          "metadata": {
            "tags": []
          },
          "execution_count": 14
        }
      ]
    },
    {
      "cell_type": "code",
      "metadata": {
        "id": "PnjNwzC-sO0j",
        "colab": {
          "base_uri": "https://localhost:8080/",
          "height": 375
        },
        "outputId": "f74fbe69-d9ec-4f12-8c44-4fbbdf82f49c"
      },
      "source": [
        "knn_train_df=knn_regressor_for_null_values(knn_train_df,0)\n",
        "knn_train_df.head()"
      ],
      "execution_count": null,
      "outputs": [
        {
          "output_type": "stream",
          "text": [
            "/usr/local/lib/python3.6/dist-packages/pandas/core/frame.py:3997: SettingWithCopyWarning: \n",
            "A value is trying to be set on a copy of a slice from a DataFrame\n",
            "\n",
            "See the caveats in the documentation: https://pandas.pydata.org/pandas-docs/stable/user_guide/indexing.html#returning-a-view-versus-a-copy\n",
            "  errors=errors,\n",
            "/usr/local/lib/python3.6/dist-packages/pandas/core/generic.py:6245: SettingWithCopyWarning: \n",
            "A value is trying to be set on a copy of a slice from a DataFrame\n",
            "\n",
            "See the caveats in the documentation: https://pandas.pydata.org/pandas-docs/stable/user_guide/indexing.html#returning-a-view-versus-a-copy\n",
            "  self._update_inplace(new_data)\n"
          ],
          "name": "stderr"
        },
        {
          "output_type": "execute_result",
          "data": {
            "text/html": [
              "<div>\n",
              "<style scoped>\n",
              "    .dataframe tbody tr th:only-of-type {\n",
              "        vertical-align: middle;\n",
              "    }\n",
              "\n",
              "    .dataframe tbody tr th {\n",
              "        vertical-align: top;\n",
              "    }\n",
              "\n",
              "    .dataframe thead th {\n",
              "        text-align: right;\n",
              "    }\n",
              "</style>\n",
              "<table border=\"1\" class=\"dataframe\">\n",
              "  <thead>\n",
              "    <tr style=\"text-align: right;\">\n",
              "      <th></th>\n",
              "      <th>condition</th>\n",
              "      <th>breed_category</th>\n",
              "      <th>pet_category</th>\n",
              "    </tr>\n",
              "  </thead>\n",
              "  <tbody>\n",
              "    <tr>\n",
              "      <th>0</th>\n",
              "      <td>2.0</td>\n",
              "      <td>0.0</td>\n",
              "      <td>1</td>\n",
              "    </tr>\n",
              "    <tr>\n",
              "      <th>1</th>\n",
              "      <td>1.0</td>\n",
              "      <td>0.0</td>\n",
              "      <td>2</td>\n",
              "    </tr>\n",
              "    <tr>\n",
              "      <th>2</th>\n",
              "      <td>2.0</td>\n",
              "      <td>2.0</td>\n",
              "      <td>4</td>\n",
              "    </tr>\n",
              "    <tr>\n",
              "      <th>3</th>\n",
              "      <td>1.0</td>\n",
              "      <td>0.0</td>\n",
              "      <td>2</td>\n",
              "    </tr>\n",
              "    <tr>\n",
              "      <th>4</th>\n",
              "      <td>2.0</td>\n",
              "      <td>0.0</td>\n",
              "      <td>1</td>\n",
              "    </tr>\n",
              "  </tbody>\n",
              "</table>\n",
              "</div>"
            ],
            "text/plain": [
              "   condition  breed_category  pet_category\n",
              "0        2.0             0.0             1\n",
              "1        1.0             0.0             2\n",
              "2        2.0             2.0             4\n",
              "3        1.0             0.0             2\n",
              "4        2.0             0.0             1"
            ]
          },
          "metadata": {
            "tags": []
          },
          "execution_count": 15
        }
      ]
    },
    {
      "cell_type": "code",
      "metadata": {
        "id": "JXUDzSdbXusU"
      },
      "source": [
        "train_df.drop(['condition','breed_category','pet_category'],axis=1,inplace=True)\n",
        "train_df=pd.concat([train_df,knn_train_df],axis=1)"
      ],
      "execution_count": null,
      "outputs": []
    },
    {
      "cell_type": "code",
      "metadata": {
        "id": "sP9lVBaPdsz4",
        "colab": {
          "base_uri": "https://localhost:8080/",
          "height": 197
        },
        "outputId": "34f8d5c5-689c-4b04-9fc6-0c73e0736ab2"
      },
      "source": [
        "knn_test_df=test_df[['condition','length(m)','height(cm)','X1','X2']]\n",
        "knn_test_df.head()\n"
      ],
      "execution_count": null,
      "outputs": [
        {
          "output_type": "execute_result",
          "data": {
            "text/html": [
              "<div>\n",
              "<style scoped>\n",
              "    .dataframe tbody tr th:only-of-type {\n",
              "        vertical-align: middle;\n",
              "    }\n",
              "\n",
              "    .dataframe tbody tr th {\n",
              "        vertical-align: top;\n",
              "    }\n",
              "\n",
              "    .dataframe thead th {\n",
              "        text-align: right;\n",
              "    }\n",
              "</style>\n",
              "<table border=\"1\" class=\"dataframe\">\n",
              "  <thead>\n",
              "    <tr style=\"text-align: right;\">\n",
              "      <th></th>\n",
              "      <th>condition</th>\n",
              "      <th>length(m)</th>\n",
              "      <th>height(cm)</th>\n",
              "      <th>X1</th>\n",
              "      <th>X2</th>\n",
              "    </tr>\n",
              "  </thead>\n",
              "  <tbody>\n",
              "    <tr>\n",
              "      <th>0</th>\n",
              "      <td>0.0</td>\n",
              "      <td>0.87</td>\n",
              "      <td>42.73</td>\n",
              "      <td>0</td>\n",
              "      <td>7</td>\n",
              "    </tr>\n",
              "    <tr>\n",
              "      <th>1</th>\n",
              "      <td>1.0</td>\n",
              "      <td>0.06</td>\n",
              "      <td>6.71</td>\n",
              "      <td>0</td>\n",
              "      <td>1</td>\n",
              "    </tr>\n",
              "    <tr>\n",
              "      <th>2</th>\n",
              "      <td>1.0</td>\n",
              "      <td>0.24</td>\n",
              "      <td>41.21</td>\n",
              "      <td>0</td>\n",
              "      <td>7</td>\n",
              "    </tr>\n",
              "    <tr>\n",
              "      <th>3</th>\n",
              "      <td>1.0</td>\n",
              "      <td>0.29</td>\n",
              "      <td>8.46</td>\n",
              "      <td>7</td>\n",
              "      <td>1</td>\n",
              "    </tr>\n",
              "    <tr>\n",
              "      <th>4</th>\n",
              "      <td>1.0</td>\n",
              "      <td>0.71</td>\n",
              "      <td>30.92</td>\n",
              "      <td>0</td>\n",
              "      <td>7</td>\n",
              "    </tr>\n",
              "  </tbody>\n",
              "</table>\n",
              "</div>"
            ],
            "text/plain": [
              "   condition  length(m)  height(cm)  X1  X2\n",
              "0        0.0       0.87       42.73   0   7\n",
              "1        1.0       0.06        6.71   0   1\n",
              "2        1.0       0.24       41.21   0   7\n",
              "3        1.0       0.29        8.46   7   1\n",
              "4        1.0       0.71       30.92   0   7"
            ]
          },
          "metadata": {
            "tags": []
          },
          "execution_count": 17
        }
      ]
    },
    {
      "cell_type": "code",
      "metadata": {
        "id": "5rkxXGZGe2t2",
        "colab": {
          "base_uri": "https://localhost:8080/",
          "height": 375
        },
        "outputId": "0f1eea6a-6acc-4922-e8bf-555754f42bcd"
      },
      "source": [
        "knn_test_df=knn_regressor_for_null_values(knn_test_df,0)\n",
        "knn_test_df.head()"
      ],
      "execution_count": null,
      "outputs": [
        {
          "output_type": "stream",
          "text": [
            "/usr/local/lib/python3.6/dist-packages/pandas/core/frame.py:3997: SettingWithCopyWarning: \n",
            "A value is trying to be set on a copy of a slice from a DataFrame\n",
            "\n",
            "See the caveats in the documentation: https://pandas.pydata.org/pandas-docs/stable/user_guide/indexing.html#returning-a-view-versus-a-copy\n",
            "  errors=errors,\n",
            "/usr/local/lib/python3.6/dist-packages/pandas/core/generic.py:6245: SettingWithCopyWarning: \n",
            "A value is trying to be set on a copy of a slice from a DataFrame\n",
            "\n",
            "See the caveats in the documentation: https://pandas.pydata.org/pandas-docs/stable/user_guide/indexing.html#returning-a-view-versus-a-copy\n",
            "  self._update_inplace(new_data)\n"
          ],
          "name": "stderr"
        },
        {
          "output_type": "execute_result",
          "data": {
            "text/html": [
              "<div>\n",
              "<style scoped>\n",
              "    .dataframe tbody tr th:only-of-type {\n",
              "        vertical-align: middle;\n",
              "    }\n",
              "\n",
              "    .dataframe tbody tr th {\n",
              "        vertical-align: top;\n",
              "    }\n",
              "\n",
              "    .dataframe thead th {\n",
              "        text-align: right;\n",
              "    }\n",
              "</style>\n",
              "<table border=\"1\" class=\"dataframe\">\n",
              "  <thead>\n",
              "    <tr style=\"text-align: right;\">\n",
              "      <th></th>\n",
              "      <th>condition</th>\n",
              "      <th>length(m)</th>\n",
              "      <th>height(cm)</th>\n",
              "      <th>X1</th>\n",
              "      <th>X2</th>\n",
              "    </tr>\n",
              "  </thead>\n",
              "  <tbody>\n",
              "    <tr>\n",
              "      <th>0</th>\n",
              "      <td>0.0</td>\n",
              "      <td>0.87</td>\n",
              "      <td>42.73</td>\n",
              "      <td>0</td>\n",
              "      <td>7</td>\n",
              "    </tr>\n",
              "    <tr>\n",
              "      <th>1</th>\n",
              "      <td>1.0</td>\n",
              "      <td>0.06</td>\n",
              "      <td>6.71</td>\n",
              "      <td>0</td>\n",
              "      <td>1</td>\n",
              "    </tr>\n",
              "    <tr>\n",
              "      <th>2</th>\n",
              "      <td>1.0</td>\n",
              "      <td>0.24</td>\n",
              "      <td>41.21</td>\n",
              "      <td>0</td>\n",
              "      <td>7</td>\n",
              "    </tr>\n",
              "    <tr>\n",
              "      <th>3</th>\n",
              "      <td>1.0</td>\n",
              "      <td>0.29</td>\n",
              "      <td>8.46</td>\n",
              "      <td>7</td>\n",
              "      <td>1</td>\n",
              "    </tr>\n",
              "    <tr>\n",
              "      <th>4</th>\n",
              "      <td>1.0</td>\n",
              "      <td>0.71</td>\n",
              "      <td>30.92</td>\n",
              "      <td>0</td>\n",
              "      <td>7</td>\n",
              "    </tr>\n",
              "  </tbody>\n",
              "</table>\n",
              "</div>"
            ],
            "text/plain": [
              "   condition  length(m)  height(cm)  X1  X2\n",
              "0        0.0       0.87       42.73   0   7\n",
              "1        1.0       0.06        6.71   0   1\n",
              "2        1.0       0.24       41.21   0   7\n",
              "3        1.0       0.29        8.46   7   1\n",
              "4        1.0       0.71       30.92   0   7"
            ]
          },
          "metadata": {
            "tags": []
          },
          "execution_count": 18
        }
      ]
    },
    {
      "cell_type": "code",
      "metadata": {
        "id": "2JLrxBVhfw1g"
      },
      "source": [
        "test_df.drop(['condition','length(m)','height(cm)','X1','X2'],axis=1,inplace=True)\n",
        "test_df=pd.concat([test_df,knn_test_df],axis=1)"
      ],
      "execution_count": null,
      "outputs": []
    },
    {
      "cell_type": "code",
      "metadata": {
        "id": "pLEdUkcngM9_",
        "colab": {
          "base_uri": "https://localhost:8080/",
          "height": 197
        },
        "outputId": "e3d25e76-a290-49e1-eedd-1fe08dc00b60"
      },
      "source": [
        "test_df.head()"
      ],
      "execution_count": null,
      "outputs": [
        {
          "output_type": "execute_result",
          "data": {
            "text/html": [
              "<div>\n",
              "<style scoped>\n",
              "    .dataframe tbody tr th:only-of-type {\n",
              "        vertical-align: middle;\n",
              "    }\n",
              "\n",
              "    .dataframe tbody tr th {\n",
              "        vertical-align: top;\n",
              "    }\n",
              "\n",
              "    .dataframe thead th {\n",
              "        text-align: right;\n",
              "    }\n",
              "</style>\n",
              "<table border=\"1\" class=\"dataframe\">\n",
              "  <thead>\n",
              "    <tr style=\"text-align: right;\">\n",
              "      <th></th>\n",
              "      <th>pet_id</th>\n",
              "      <th>issue_date</th>\n",
              "      <th>listing_date</th>\n",
              "      <th>color_type</th>\n",
              "      <th>condition</th>\n",
              "      <th>length(m)</th>\n",
              "      <th>height(cm)</th>\n",
              "      <th>X1</th>\n",
              "      <th>X2</th>\n",
              "    </tr>\n",
              "  </thead>\n",
              "  <tbody>\n",
              "    <tr>\n",
              "      <th>0</th>\n",
              "      <td>ANSL_75005</td>\n",
              "      <td>2005-08-17 00:00:00</td>\n",
              "      <td>2017-09-07 15:35:00</td>\n",
              "      <td>Black</td>\n",
              "      <td>0.0</td>\n",
              "      <td>0.87</td>\n",
              "      <td>42.73</td>\n",
              "      <td>0</td>\n",
              "      <td>7</td>\n",
              "    </tr>\n",
              "    <tr>\n",
              "      <th>1</th>\n",
              "      <td>ANSL_76663</td>\n",
              "      <td>2018-11-15 00:00:00</td>\n",
              "      <td>2019-05-08 17:24:00</td>\n",
              "      <td>Orange Tabby</td>\n",
              "      <td>1.0</td>\n",
              "      <td>0.06</td>\n",
              "      <td>6.71</td>\n",
              "      <td>0</td>\n",
              "      <td>1</td>\n",
              "    </tr>\n",
              "    <tr>\n",
              "      <th>2</th>\n",
              "      <td>ANSL_58259</td>\n",
              "      <td>2012-10-11 00:00:00</td>\n",
              "      <td>2018-04-02 16:51:00</td>\n",
              "      <td>Black</td>\n",
              "      <td>1.0</td>\n",
              "      <td>0.24</td>\n",
              "      <td>41.21</td>\n",
              "      <td>0</td>\n",
              "      <td>7</td>\n",
              "    </tr>\n",
              "    <tr>\n",
              "      <th>3</th>\n",
              "      <td>ANSL_67171</td>\n",
              "      <td>2015-02-13 00:00:00</td>\n",
              "      <td>2018-04-06 07:25:00</td>\n",
              "      <td>Black</td>\n",
              "      <td>1.0</td>\n",
              "      <td>0.29</td>\n",
              "      <td>8.46</td>\n",
              "      <td>7</td>\n",
              "      <td>1</td>\n",
              "    </tr>\n",
              "    <tr>\n",
              "      <th>4</th>\n",
              "      <td>ANSL_72871</td>\n",
              "      <td>2017-01-18 00:00:00</td>\n",
              "      <td>2018-04-26 13:42:00</td>\n",
              "      <td>Brown</td>\n",
              "      <td>1.0</td>\n",
              "      <td>0.71</td>\n",
              "      <td>30.92</td>\n",
              "      <td>0</td>\n",
              "      <td>7</td>\n",
              "    </tr>\n",
              "  </tbody>\n",
              "</table>\n",
              "</div>"
            ],
            "text/plain": [
              "       pet_id           issue_date         listing_date  ... height(cm)  X1  X2\n",
              "0  ANSL_75005  2005-08-17 00:00:00  2017-09-07 15:35:00  ...      42.73   0   7\n",
              "1  ANSL_76663  2018-11-15 00:00:00  2019-05-08 17:24:00  ...       6.71   0   1\n",
              "2  ANSL_58259  2012-10-11 00:00:00  2018-04-02 16:51:00  ...      41.21   0   7\n",
              "3  ANSL_67171  2015-02-13 00:00:00  2018-04-06 07:25:00  ...       8.46   7   1\n",
              "4  ANSL_72871  2017-01-18 00:00:00  2018-04-26 13:42:00  ...      30.92   0   7\n",
              "\n",
              "[5 rows x 9 columns]"
            ]
          },
          "metadata": {
            "tags": []
          },
          "execution_count": 20
        }
      ]
    },
    {
      "cell_type": "code",
      "metadata": {
        "id": "fw2dGMIpgPK1",
        "colab": {
          "base_uri": "https://localhost:8080/",
          "height": 194
        },
        "outputId": "524d1d96-f63c-48e7-8722-906b48f33d46"
      },
      "source": [
        "test_df.isnull().sum()"
      ],
      "execution_count": null,
      "outputs": [
        {
          "output_type": "execute_result",
          "data": {
            "text/plain": [
              "pet_id          0\n",
              "issue_date      0\n",
              "listing_date    0\n",
              "color_type      0\n",
              "condition       0\n",
              "length(m)       0\n",
              "height(cm)      0\n",
              "X1              0\n",
              "X2              0\n",
              "dtype: int64"
            ]
          },
          "metadata": {
            "tags": []
          },
          "execution_count": 21
        }
      ]
    },
    {
      "cell_type": "code",
      "metadata": {
        "id": "X6A8sWc4gS2Z",
        "colab": {
          "base_uri": "https://localhost:8080/",
          "height": 197
        },
        "outputId": "7f895c4d-8b7a-4bd1-aa0f-70b38ae2eb86"
      },
      "source": [
        "train_df.head()"
      ],
      "execution_count": null,
      "outputs": [
        {
          "output_type": "execute_result",
          "data": {
            "text/html": [
              "<div>\n",
              "<style scoped>\n",
              "    .dataframe tbody tr th:only-of-type {\n",
              "        vertical-align: middle;\n",
              "    }\n",
              "\n",
              "    .dataframe tbody tr th {\n",
              "        vertical-align: top;\n",
              "    }\n",
              "\n",
              "    .dataframe thead th {\n",
              "        text-align: right;\n",
              "    }\n",
              "</style>\n",
              "<table border=\"1\" class=\"dataframe\">\n",
              "  <thead>\n",
              "    <tr style=\"text-align: right;\">\n",
              "      <th></th>\n",
              "      <th>pet_id</th>\n",
              "      <th>issue_date</th>\n",
              "      <th>listing_date</th>\n",
              "      <th>color_type</th>\n",
              "      <th>length(m)</th>\n",
              "      <th>height(cm)</th>\n",
              "      <th>X1</th>\n",
              "      <th>X2</th>\n",
              "      <th>condition</th>\n",
              "      <th>breed_category</th>\n",
              "      <th>pet_category</th>\n",
              "    </tr>\n",
              "  </thead>\n",
              "  <tbody>\n",
              "    <tr>\n",
              "      <th>0</th>\n",
              "      <td>ANSL_69903</td>\n",
              "      <td>2016-07-10 00:00:00</td>\n",
              "      <td>2016-09-21 16:25:00</td>\n",
              "      <td>Brown Tabby</td>\n",
              "      <td>0.80</td>\n",
              "      <td>7.78</td>\n",
              "      <td>13</td>\n",
              "      <td>9</td>\n",
              "      <td>2.0</td>\n",
              "      <td>0.0</td>\n",
              "      <td>1</td>\n",
              "    </tr>\n",
              "    <tr>\n",
              "      <th>1</th>\n",
              "      <td>ANSL_66892</td>\n",
              "      <td>2013-11-21 00:00:00</td>\n",
              "      <td>2018-12-27 17:47:00</td>\n",
              "      <td>White</td>\n",
              "      <td>0.72</td>\n",
              "      <td>14.19</td>\n",
              "      <td>13</td>\n",
              "      <td>9</td>\n",
              "      <td>1.0</td>\n",
              "      <td>0.0</td>\n",
              "      <td>2</td>\n",
              "    </tr>\n",
              "    <tr>\n",
              "      <th>2</th>\n",
              "      <td>ANSL_69750</td>\n",
              "      <td>2014-09-28 00:00:00</td>\n",
              "      <td>2016-10-19 08:24:00</td>\n",
              "      <td>Brown</td>\n",
              "      <td>0.15</td>\n",
              "      <td>40.90</td>\n",
              "      <td>15</td>\n",
              "      <td>4</td>\n",
              "      <td>2.0</td>\n",
              "      <td>2.0</td>\n",
              "      <td>4</td>\n",
              "    </tr>\n",
              "    <tr>\n",
              "      <th>3</th>\n",
              "      <td>ANSL_71623</td>\n",
              "      <td>2016-12-31 00:00:00</td>\n",
              "      <td>2019-01-25 18:30:00</td>\n",
              "      <td>White</td>\n",
              "      <td>0.62</td>\n",
              "      <td>17.82</td>\n",
              "      <td>0</td>\n",
              "      <td>1</td>\n",
              "      <td>1.0</td>\n",
              "      <td>0.0</td>\n",
              "      <td>2</td>\n",
              "    </tr>\n",
              "    <tr>\n",
              "      <th>4</th>\n",
              "      <td>ANSL_57969</td>\n",
              "      <td>2017-09-28 00:00:00</td>\n",
              "      <td>2017-11-19 09:38:00</td>\n",
              "      <td>Black</td>\n",
              "      <td>0.50</td>\n",
              "      <td>11.06</td>\n",
              "      <td>18</td>\n",
              "      <td>4</td>\n",
              "      <td>2.0</td>\n",
              "      <td>0.0</td>\n",
              "      <td>1</td>\n",
              "    </tr>\n",
              "  </tbody>\n",
              "</table>\n",
              "</div>"
            ],
            "text/plain": [
              "       pet_id           issue_date  ... breed_category pet_category\n",
              "0  ANSL_69903  2016-07-10 00:00:00  ...            0.0            1\n",
              "1  ANSL_66892  2013-11-21 00:00:00  ...            0.0            2\n",
              "2  ANSL_69750  2014-09-28 00:00:00  ...            2.0            4\n",
              "3  ANSL_71623  2016-12-31 00:00:00  ...            0.0            2\n",
              "4  ANSL_57969  2017-09-28 00:00:00  ...            0.0            1\n",
              "\n",
              "[5 rows x 11 columns]"
            ]
          },
          "metadata": {
            "tags": []
          },
          "execution_count": 22
        }
      ]
    },
    {
      "cell_type": "code",
      "metadata": {
        "id": "Y7D9wPcVg3YC"
      },
      "source": [
        "train_df['length(m)']=train_df['length(m)']*100\n",
        "train_df.rename(columns = {'length(m)':'length(cm)'}, inplace = True)\n",
        "test_df['length(m)']=test_df['length(m)']*100\n",
        "test_df.rename(columns = {'length(m)':'length(cm)'}, inplace = True)"
      ],
      "execution_count": null,
      "outputs": []
    },
    {
      "cell_type": "code",
      "metadata": {
        "id": "vc92xdbZhprz",
        "colab": {
          "base_uri": "https://localhost:8080/",
          "height": 197
        },
        "outputId": "1c4b3169-cf59-4c4c-f3d9-7abdf3046b9a"
      },
      "source": [
        "train_df.head()"
      ],
      "execution_count": null,
      "outputs": [
        {
          "output_type": "execute_result",
          "data": {
            "text/html": [
              "<div>\n",
              "<style scoped>\n",
              "    .dataframe tbody tr th:only-of-type {\n",
              "        vertical-align: middle;\n",
              "    }\n",
              "\n",
              "    .dataframe tbody tr th {\n",
              "        vertical-align: top;\n",
              "    }\n",
              "\n",
              "    .dataframe thead th {\n",
              "        text-align: right;\n",
              "    }\n",
              "</style>\n",
              "<table border=\"1\" class=\"dataframe\">\n",
              "  <thead>\n",
              "    <tr style=\"text-align: right;\">\n",
              "      <th></th>\n",
              "      <th>pet_id</th>\n",
              "      <th>issue_date</th>\n",
              "      <th>listing_date</th>\n",
              "      <th>color_type</th>\n",
              "      <th>length(cm)</th>\n",
              "      <th>height(cm)</th>\n",
              "      <th>X1</th>\n",
              "      <th>X2</th>\n",
              "      <th>condition</th>\n",
              "      <th>breed_category</th>\n",
              "      <th>pet_category</th>\n",
              "    </tr>\n",
              "  </thead>\n",
              "  <tbody>\n",
              "    <tr>\n",
              "      <th>0</th>\n",
              "      <td>ANSL_69903</td>\n",
              "      <td>2016-07-10 00:00:00</td>\n",
              "      <td>2016-09-21 16:25:00</td>\n",
              "      <td>Brown Tabby</td>\n",
              "      <td>80.0</td>\n",
              "      <td>7.78</td>\n",
              "      <td>13</td>\n",
              "      <td>9</td>\n",
              "      <td>2.0</td>\n",
              "      <td>0.0</td>\n",
              "      <td>1</td>\n",
              "    </tr>\n",
              "    <tr>\n",
              "      <th>1</th>\n",
              "      <td>ANSL_66892</td>\n",
              "      <td>2013-11-21 00:00:00</td>\n",
              "      <td>2018-12-27 17:47:00</td>\n",
              "      <td>White</td>\n",
              "      <td>72.0</td>\n",
              "      <td>14.19</td>\n",
              "      <td>13</td>\n",
              "      <td>9</td>\n",
              "      <td>1.0</td>\n",
              "      <td>0.0</td>\n",
              "      <td>2</td>\n",
              "    </tr>\n",
              "    <tr>\n",
              "      <th>2</th>\n",
              "      <td>ANSL_69750</td>\n",
              "      <td>2014-09-28 00:00:00</td>\n",
              "      <td>2016-10-19 08:24:00</td>\n",
              "      <td>Brown</td>\n",
              "      <td>15.0</td>\n",
              "      <td>40.90</td>\n",
              "      <td>15</td>\n",
              "      <td>4</td>\n",
              "      <td>2.0</td>\n",
              "      <td>2.0</td>\n",
              "      <td>4</td>\n",
              "    </tr>\n",
              "    <tr>\n",
              "      <th>3</th>\n",
              "      <td>ANSL_71623</td>\n",
              "      <td>2016-12-31 00:00:00</td>\n",
              "      <td>2019-01-25 18:30:00</td>\n",
              "      <td>White</td>\n",
              "      <td>62.0</td>\n",
              "      <td>17.82</td>\n",
              "      <td>0</td>\n",
              "      <td>1</td>\n",
              "      <td>1.0</td>\n",
              "      <td>0.0</td>\n",
              "      <td>2</td>\n",
              "    </tr>\n",
              "    <tr>\n",
              "      <th>4</th>\n",
              "      <td>ANSL_57969</td>\n",
              "      <td>2017-09-28 00:00:00</td>\n",
              "      <td>2017-11-19 09:38:00</td>\n",
              "      <td>Black</td>\n",
              "      <td>50.0</td>\n",
              "      <td>11.06</td>\n",
              "      <td>18</td>\n",
              "      <td>4</td>\n",
              "      <td>2.0</td>\n",
              "      <td>0.0</td>\n",
              "      <td>1</td>\n",
              "    </tr>\n",
              "  </tbody>\n",
              "</table>\n",
              "</div>"
            ],
            "text/plain": [
              "       pet_id           issue_date  ... breed_category pet_category\n",
              "0  ANSL_69903  2016-07-10 00:00:00  ...            0.0            1\n",
              "1  ANSL_66892  2013-11-21 00:00:00  ...            0.0            2\n",
              "2  ANSL_69750  2014-09-28 00:00:00  ...            2.0            4\n",
              "3  ANSL_71623  2016-12-31 00:00:00  ...            0.0            2\n",
              "4  ANSL_57969  2017-09-28 00:00:00  ...            0.0            1\n",
              "\n",
              "[5 rows x 11 columns]"
            ]
          },
          "metadata": {
            "tags": []
          },
          "execution_count": 24
        }
      ]
    },
    {
      "cell_type": "code",
      "metadata": {
        "id": "bpW6Z09Wh1Ay",
        "colab": {
          "base_uri": "https://localhost:8080/",
          "height": 230
        },
        "outputId": "ad8bf8d3-fa04-4924-ebcd-d8f827efd422"
      },
      "source": [
        "train_df['color_type'].unique()"
      ],
      "execution_count": null,
      "outputs": [
        {
          "output_type": "execute_result",
          "data": {
            "text/plain": [
              "array(['Brown Tabby', 'White', 'Brown', 'Black', 'Red', 'Tricolor',\n",
              "       'Calico', 'Brown Brindle', 'Blue', 'Tortie', 'Gray', 'Fawn',\n",
              "       'Buff', 'Torbie', 'Orange Tabby', 'Sable', 'Tan', 'Blue Tick',\n",
              "       'Orange', 'Blue Tabby', 'Chocolate', 'Black Tabby',\n",
              "       'Black Brindle', 'Cream Tabby', 'Gold', 'Calico Point',\n",
              "       'Blue Merle', 'Red Merle', 'Yellow', 'Lynx Point', 'Blue Cream',\n",
              "       'Flame Point', 'Cream', 'Yellow Brindle', 'Blue Tiger',\n",
              "       'Seal Point', 'Red Tick', 'Brown Merle', 'Black Smoke',\n",
              "       'Gray Tabby', 'Green', 'Tortie Point', 'Blue Smoke', 'Apricot',\n",
              "       'Blue Point', 'Silver Tabby', 'Lilac Point', 'Silver',\n",
              "       'Brown Tiger', 'Liver', 'Agouti', 'Chocolate Point', 'Liver Tick',\n",
              "       'Pink', 'Black Tiger', 'Silver Lynx Point'], dtype=object)"
            ]
          },
          "metadata": {
            "tags": []
          },
          "execution_count": 25
        }
      ]
    },
    {
      "cell_type": "code",
      "metadata": {
        "id": "JCU5ULCciYHl",
        "colab": {
          "base_uri": "https://localhost:8080/",
          "height": 34
        },
        "outputId": "508c5699-72bd-4c98-a769-fc1c6105d4d7"
      },
      "source": [
        "train_df['color_type'].groupby(train_df.breed_category).value_counts().sum()"
      ],
      "execution_count": null,
      "outputs": [
        {
          "output_type": "execute_result",
          "data": {
            "text/plain": [
              "18834"
            ]
          },
          "metadata": {
            "tags": []
          },
          "execution_count": 26
        }
      ]
    },
    {
      "cell_type": "code",
      "metadata": {
        "id": "UPgkYC7wsFbE"
      },
      "source": [
        "from sklearn.preprocessing import LabelEncoder\n",
        "labelencoder = LabelEncoder()\n",
        "train_df['color_type'] = labelencoder.fit_transform(train_df['color_type'])\n",
        "test_df['color_type'] = labelencoder.fit_transform(test_df['color_type'])"
      ],
      "execution_count": null,
      "outputs": []
    },
    {
      "cell_type": "code",
      "metadata": {
        "id": "jHYkPTRHx2D4",
        "colab": {
          "base_uri": "https://localhost:8080/",
          "height": 197
        },
        "outputId": "f4bfc273-57a2-4ab8-9a39-931c092b5292"
      },
      "source": [
        "train_df.head()"
      ],
      "execution_count": null,
      "outputs": [
        {
          "output_type": "execute_result",
          "data": {
            "text/html": [
              "<div>\n",
              "<style scoped>\n",
              "    .dataframe tbody tr th:only-of-type {\n",
              "        vertical-align: middle;\n",
              "    }\n",
              "\n",
              "    .dataframe tbody tr th {\n",
              "        vertical-align: top;\n",
              "    }\n",
              "\n",
              "    .dataframe thead th {\n",
              "        text-align: right;\n",
              "    }\n",
              "</style>\n",
              "<table border=\"1\" class=\"dataframe\">\n",
              "  <thead>\n",
              "    <tr style=\"text-align: right;\">\n",
              "      <th></th>\n",
              "      <th>pet_id</th>\n",
              "      <th>issue_date</th>\n",
              "      <th>listing_date</th>\n",
              "      <th>color_type</th>\n",
              "      <th>length(cm)</th>\n",
              "      <th>height(cm)</th>\n",
              "      <th>X1</th>\n",
              "      <th>X2</th>\n",
              "      <th>condition</th>\n",
              "      <th>breed_category</th>\n",
              "      <th>pet_category</th>\n",
              "    </tr>\n",
              "  </thead>\n",
              "  <tbody>\n",
              "    <tr>\n",
              "      <th>0</th>\n",
              "      <td>ANSL_69903</td>\n",
              "      <td>2016-07-10 00:00:00</td>\n",
              "      <td>2016-09-21 16:25:00</td>\n",
              "      <td>18</td>\n",
              "      <td>80.0</td>\n",
              "      <td>7.78</td>\n",
              "      <td>13</td>\n",
              "      <td>9</td>\n",
              "      <td>2.0</td>\n",
              "      <td>0.0</td>\n",
              "      <td>1</td>\n",
              "    </tr>\n",
              "    <tr>\n",
              "      <th>1</th>\n",
              "      <td>ANSL_66892</td>\n",
              "      <td>2013-11-21 00:00:00</td>\n",
              "      <td>2018-12-27 17:47:00</td>\n",
              "      <td>53</td>\n",
              "      <td>72.0</td>\n",
              "      <td>14.19</td>\n",
              "      <td>13</td>\n",
              "      <td>9</td>\n",
              "      <td>1.0</td>\n",
              "      <td>0.0</td>\n",
              "      <td>2</td>\n",
              "    </tr>\n",
              "    <tr>\n",
              "      <th>2</th>\n",
              "      <td>ANSL_69750</td>\n",
              "      <td>2014-09-28 00:00:00</td>\n",
              "      <td>2016-10-19 08:24:00</td>\n",
              "      <td>15</td>\n",
              "      <td>15.0</td>\n",
              "      <td>40.90</td>\n",
              "      <td>15</td>\n",
              "      <td>4</td>\n",
              "      <td>2.0</td>\n",
              "      <td>2.0</td>\n",
              "      <td>4</td>\n",
              "    </tr>\n",
              "    <tr>\n",
              "      <th>3</th>\n",
              "      <td>ANSL_71623</td>\n",
              "      <td>2016-12-31 00:00:00</td>\n",
              "      <td>2019-01-25 18:30:00</td>\n",
              "      <td>53</td>\n",
              "      <td>62.0</td>\n",
              "      <td>17.82</td>\n",
              "      <td>0</td>\n",
              "      <td>1</td>\n",
              "      <td>1.0</td>\n",
              "      <td>0.0</td>\n",
              "      <td>2</td>\n",
              "    </tr>\n",
              "    <tr>\n",
              "      <th>4</th>\n",
              "      <td>ANSL_57969</td>\n",
              "      <td>2017-09-28 00:00:00</td>\n",
              "      <td>2017-11-19 09:38:00</td>\n",
              "      <td>2</td>\n",
              "      <td>50.0</td>\n",
              "      <td>11.06</td>\n",
              "      <td>18</td>\n",
              "      <td>4</td>\n",
              "      <td>2.0</td>\n",
              "      <td>0.0</td>\n",
              "      <td>1</td>\n",
              "    </tr>\n",
              "  </tbody>\n",
              "</table>\n",
              "</div>"
            ],
            "text/plain": [
              "       pet_id           issue_date  ... breed_category  pet_category\n",
              "0  ANSL_69903  2016-07-10 00:00:00  ...            0.0             1\n",
              "1  ANSL_66892  2013-11-21 00:00:00  ...            0.0             2\n",
              "2  ANSL_69750  2014-09-28 00:00:00  ...            2.0             4\n",
              "3  ANSL_71623  2016-12-31 00:00:00  ...            0.0             2\n",
              "4  ANSL_57969  2017-09-28 00:00:00  ...            0.0             1\n",
              "\n",
              "[5 rows x 11 columns]"
            ]
          },
          "metadata": {
            "tags": []
          },
          "execution_count": 28
        }
      ]
    },
    {
      "cell_type": "code",
      "metadata": {
        "id": "p9GV9G8Sx9_d",
        "colab": {
          "base_uri": "https://localhost:8080/",
          "height": 336
        },
        "outputId": "7ed7488d-2611-4925-a925-d9740d1b9674"
      },
      "source": [
        "train_df.info()"
      ],
      "execution_count": null,
      "outputs": [
        {
          "output_type": "stream",
          "text": [
            "<class 'pandas.core.frame.DataFrame'>\n",
            "RangeIndex: 18834 entries, 0 to 18833\n",
            "Data columns (total 11 columns):\n",
            " #   Column          Non-Null Count  Dtype  \n",
            "---  ------          --------------  -----  \n",
            " 0   pet_id          18834 non-null  object \n",
            " 1   issue_date      18834 non-null  object \n",
            " 2   listing_date    18834 non-null  object \n",
            " 3   color_type      18834 non-null  int64  \n",
            " 4   length(cm)      18834 non-null  float64\n",
            " 5   height(cm)      18834 non-null  float64\n",
            " 6   X1              18834 non-null  int64  \n",
            " 7   X2              18834 non-null  int64  \n",
            " 8   condition       18834 non-null  float64\n",
            " 9   breed_category  18834 non-null  float64\n",
            " 10  pet_category    18834 non-null  int64  \n",
            "dtypes: float64(4), int64(4), object(3)\n",
            "memory usage: 1.6+ MB\n"
          ],
          "name": "stdout"
        }
      ]
    },
    {
      "cell_type": "code",
      "metadata": {
        "id": "l-93-swa0tH7"
      },
      "source": [
        "train_df['issue_date']=pd.to_datetime(train_df['issue_date'])\n",
        "train_df['listing_date']=pd.to_datetime(train_df['listing_date'])\n",
        "test_df['issue_date']=pd.to_datetime(test_df['issue_date'])\n",
        "test_df['listing_date']=pd.to_datetime(test_df['listing_date'])\n"
      ],
      "execution_count": null,
      "outputs": []
    },
    {
      "cell_type": "code",
      "metadata": {
        "id": "EYiss4hK2LWA"
      },
      "source": [
        "train_df['days']=train_df['listing_date']-train_df['issue_date']\n",
        "train_df['days']=abs(train_df['days'].apply(lambda x:x/np.timedelta64(1, 'D')))\n",
        "test_df['days']=test_df['listing_date']-test_df['issue_date']\n",
        "test_df['days']=abs(test_df['days'].apply(lambda x:x/np.timedelta64(1, 'D')))\n",
        "train_df['days']=train_df['days'].astype(int)\n",
        "test_df['days']=test_df['days'].astype(int)\n"
      ],
      "execution_count": null,
      "outputs": []
    },
    {
      "cell_type": "code",
      "metadata": {
        "id": "75gvCHPl5p93",
        "colab": {
          "base_uri": "https://localhost:8080/",
          "height": 197
        },
        "outputId": "6d53e7d4-74f5-448c-b346-4bce07f5c5b6"
      },
      "source": [
        "train_df.head()"
      ],
      "execution_count": null,
      "outputs": [
        {
          "output_type": "execute_result",
          "data": {
            "text/html": [
              "<div>\n",
              "<style scoped>\n",
              "    .dataframe tbody tr th:only-of-type {\n",
              "        vertical-align: middle;\n",
              "    }\n",
              "\n",
              "    .dataframe tbody tr th {\n",
              "        vertical-align: top;\n",
              "    }\n",
              "\n",
              "    .dataframe thead th {\n",
              "        text-align: right;\n",
              "    }\n",
              "</style>\n",
              "<table border=\"1\" class=\"dataframe\">\n",
              "  <thead>\n",
              "    <tr style=\"text-align: right;\">\n",
              "      <th></th>\n",
              "      <th>pet_id</th>\n",
              "      <th>issue_date</th>\n",
              "      <th>listing_date</th>\n",
              "      <th>color_type</th>\n",
              "      <th>length(cm)</th>\n",
              "      <th>height(cm)</th>\n",
              "      <th>X1</th>\n",
              "      <th>X2</th>\n",
              "      <th>condition</th>\n",
              "      <th>breed_category</th>\n",
              "      <th>pet_category</th>\n",
              "      <th>days</th>\n",
              "    </tr>\n",
              "  </thead>\n",
              "  <tbody>\n",
              "    <tr>\n",
              "      <th>0</th>\n",
              "      <td>ANSL_69903</td>\n",
              "      <td>2016-07-10</td>\n",
              "      <td>2016-09-21 16:25:00</td>\n",
              "      <td>18</td>\n",
              "      <td>80.0</td>\n",
              "      <td>7.78</td>\n",
              "      <td>13</td>\n",
              "      <td>9</td>\n",
              "      <td>2.0</td>\n",
              "      <td>0.0</td>\n",
              "      <td>1</td>\n",
              "      <td>73</td>\n",
              "    </tr>\n",
              "    <tr>\n",
              "      <th>1</th>\n",
              "      <td>ANSL_66892</td>\n",
              "      <td>2013-11-21</td>\n",
              "      <td>2018-12-27 17:47:00</td>\n",
              "      <td>53</td>\n",
              "      <td>72.0</td>\n",
              "      <td>14.19</td>\n",
              "      <td>13</td>\n",
              "      <td>9</td>\n",
              "      <td>1.0</td>\n",
              "      <td>0.0</td>\n",
              "      <td>2</td>\n",
              "      <td>1862</td>\n",
              "    </tr>\n",
              "    <tr>\n",
              "      <th>2</th>\n",
              "      <td>ANSL_69750</td>\n",
              "      <td>2014-09-28</td>\n",
              "      <td>2016-10-19 08:24:00</td>\n",
              "      <td>15</td>\n",
              "      <td>15.0</td>\n",
              "      <td>40.90</td>\n",
              "      <td>15</td>\n",
              "      <td>4</td>\n",
              "      <td>2.0</td>\n",
              "      <td>2.0</td>\n",
              "      <td>4</td>\n",
              "      <td>752</td>\n",
              "    </tr>\n",
              "    <tr>\n",
              "      <th>3</th>\n",
              "      <td>ANSL_71623</td>\n",
              "      <td>2016-12-31</td>\n",
              "      <td>2019-01-25 18:30:00</td>\n",
              "      <td>53</td>\n",
              "      <td>62.0</td>\n",
              "      <td>17.82</td>\n",
              "      <td>0</td>\n",
              "      <td>1</td>\n",
              "      <td>1.0</td>\n",
              "      <td>0.0</td>\n",
              "      <td>2</td>\n",
              "      <td>755</td>\n",
              "    </tr>\n",
              "    <tr>\n",
              "      <th>4</th>\n",
              "      <td>ANSL_57969</td>\n",
              "      <td>2017-09-28</td>\n",
              "      <td>2017-11-19 09:38:00</td>\n",
              "      <td>2</td>\n",
              "      <td>50.0</td>\n",
              "      <td>11.06</td>\n",
              "      <td>18</td>\n",
              "      <td>4</td>\n",
              "      <td>2.0</td>\n",
              "      <td>0.0</td>\n",
              "      <td>1</td>\n",
              "      <td>52</td>\n",
              "    </tr>\n",
              "  </tbody>\n",
              "</table>\n",
              "</div>"
            ],
            "text/plain": [
              "       pet_id issue_date  ... pet_category  days\n",
              "0  ANSL_69903 2016-07-10  ...            1    73\n",
              "1  ANSL_66892 2013-11-21  ...            2  1862\n",
              "2  ANSL_69750 2014-09-28  ...            4   752\n",
              "3  ANSL_71623 2016-12-31  ...            2   755\n",
              "4  ANSL_57969 2017-09-28  ...            1    52\n",
              "\n",
              "[5 rows x 12 columns]"
            ]
          },
          "metadata": {
            "tags": []
          },
          "execution_count": 32
        }
      ]
    },
    {
      "cell_type": "code",
      "metadata": {
        "id": "dEaVgGVyvuq2",
        "colab": {
          "base_uri": "https://localhost:8080/",
          "height": 247
        },
        "outputId": "a7b2a6c3-f34b-41db-97a4-9c339fcbb21f"
      },
      "source": [
        "train_df.isnull().sum()"
      ],
      "execution_count": null,
      "outputs": [
        {
          "output_type": "execute_result",
          "data": {
            "text/plain": [
              "pet_id            0\n",
              "issue_date        0\n",
              "listing_date      0\n",
              "color_type        0\n",
              "length(cm)        0\n",
              "height(cm)        0\n",
              "X1                0\n",
              "X2                0\n",
              "condition         0\n",
              "breed_category    0\n",
              "pet_category      0\n",
              "days              0\n",
              "dtype: int64"
            ]
          },
          "metadata": {
            "tags": []
          },
          "execution_count": 33
        }
      ]
    },
    {
      "cell_type": "code",
      "metadata": {
        "id": "edU78P_gSB59",
        "colab": {
          "base_uri": "https://localhost:8080/",
          "height": 297
        },
        "outputId": "e55d9cde-e265-403d-b786-26d3b6f0a858"
      },
      "source": [
        "import seaborn as sns\n",
        "sns.scatterplot(x=train_df['breed_category'],y=train_df['days'])"
      ],
      "execution_count": null,
      "outputs": [
        {
          "output_type": "execute_result",
          "data": {
            "text/plain": [
              "<matplotlib.axes._subplots.AxesSubplot at 0x7f3492a2ec18>"
            ]
          },
          "metadata": {
            "tags": []
          },
          "execution_count": 34
        },
        {
          "output_type": "display_data",
          "data": {
            "image/png": "[encoded data removed]",
            "text/plain": [
              "<Figure size 432x288 with 1 Axes>"
            ]
          },
          "metadata": {
            "tags": [],
            "needs_background": "light"
          }
        }
      ]
    },
    {
      "cell_type": "code",
      "metadata": {
        "id": "xQiXCcwejffZ",
        "colab": {
          "base_uri": "https://localhost:8080/",
          "height": 105
        },
        "outputId": "dd7356a4-01f5-4f56-9809-dcf8e1be8230"
      },
      "source": [
        "train_df['days'].groupby(train_df['breed_category']).mean()"
      ],
      "execution_count": null,
      "outputs": [
        {
          "output_type": "execute_result",
          "data": {
            "text/plain": [
              "breed_category\n",
              "0.0    922.408222\n",
              "1.0    870.787005\n",
              "2.0    358.945836\n",
              "Name: days, dtype: float64"
            ]
          },
          "metadata": {
            "tags": []
          },
          "execution_count": 35
        }
      ]
    },
    {
      "cell_type": "code",
      "metadata": {
        "id": "bS_iJ4D9TOX-",
        "colab": {
          "base_uri": "https://localhost:8080/",
          "height": 296
        },
        "outputId": "b3bef7bf-8eec-49f9-8373-5258e9468001"
      },
      "source": [
        "sns.scatterplot(x=train_df['X1'],y=train_df['breed_category'])"
      ],
      "execution_count": null,
      "outputs": [
        {
          "output_type": "execute_result",
          "data": {
            "text/plain": [
              "<matplotlib.axes._subplots.AxesSubplot at 0x7f34927cee48>"
            ]
          },
          "metadata": {
            "tags": []
          },
          "execution_count": 36
        },
        {
          "output_type": "display_data",
          "data": {
            "image/png": "[encoded data removed]",
            "text/plain": [
              "<Figure size 432x288 with 1 Axes>"
            ]
          },
          "metadata": {
            "tags": [],
            "needs_background": "light"
          }
        }
      ]
    },
    {
      "cell_type": "code",
      "metadata": {
        "id": "VhuGE9P_QV7F",
        "colab": {
          "base_uri": "https://localhost:8080/",
          "height": 354
        },
        "outputId": "662c52e0-932f-4725-fe04-a5f7a854de46"
      },
      "source": [
        "train_df.info()"
      ],
      "execution_count": null,
      "outputs": [
        {
          "output_type": "stream",
          "text": [
            "<class 'pandas.core.frame.DataFrame'>\n",
            "RangeIndex: 18834 entries, 0 to 18833\n",
            "Data columns (total 12 columns):\n",
            " #   Column          Non-Null Count  Dtype         \n",
            "---  ------          --------------  -----         \n",
            " 0   pet_id          18834 non-null  object        \n",
            " 1   issue_date      18834 non-null  datetime64[ns]\n",
            " 2   listing_date    18834 non-null  datetime64[ns]\n",
            " 3   color_type      18834 non-null  int64         \n",
            " 4   length(cm)      18834 non-null  float64       \n",
            " 5   height(cm)      18834 non-null  float64       \n",
            " 6   X1              18834 non-null  int64         \n",
            " 7   X2              18834 non-null  int64         \n",
            " 8   condition       18834 non-null  float64       \n",
            " 9   breed_category  18834 non-null  float64       \n",
            " 10  pet_category    18834 non-null  int64         \n",
            " 11  days            18834 non-null  int64         \n",
            "dtypes: datetime64[ns](2), float64(4), int64(5), object(1)\n",
            "memory usage: 1.7+ MB\n"
          ],
          "name": "stdout"
        }
      ]
    },
    {
      "cell_type": "code",
      "metadata": {
        "id": "Q6rgILaGf75h",
        "colab": {
          "base_uri": "https://localhost:8080/",
          "height": 197
        },
        "outputId": "7c84ef1d-c48b-4312-f9f5-2f74ef26aa2f"
      },
      "source": [
        "test_df.head()"
      ],
      "execution_count": null,
      "outputs": [
        {
          "output_type": "execute_result",
          "data": {
            "text/html": [
              "<div>\n",
              "<style scoped>\n",
              "    .dataframe tbody tr th:only-of-type {\n",
              "        vertical-align: middle;\n",
              "    }\n",
              "\n",
              "    .dataframe tbody tr th {\n",
              "        vertical-align: top;\n",
              "    }\n",
              "\n",
              "    .dataframe thead th {\n",
              "        text-align: right;\n",
              "    }\n",
              "</style>\n",
              "<table border=\"1\" class=\"dataframe\">\n",
              "  <thead>\n",
              "    <tr style=\"text-align: right;\">\n",
              "      <th></th>\n",
              "      <th>pet_id</th>\n",
              "      <th>issue_date</th>\n",
              "      <th>listing_date</th>\n",
              "      <th>color_type</th>\n",
              "      <th>condition</th>\n",
              "      <th>length(cm)</th>\n",
              "      <th>height(cm)</th>\n",
              "      <th>X1</th>\n",
              "      <th>X2</th>\n",
              "      <th>days</th>\n",
              "    </tr>\n",
              "  </thead>\n",
              "  <tbody>\n",
              "    <tr>\n",
              "      <th>0</th>\n",
              "      <td>ANSL_75005</td>\n",
              "      <td>2005-08-17</td>\n",
              "      <td>2017-09-07 15:35:00</td>\n",
              "      <td>2</td>\n",
              "      <td>0.0</td>\n",
              "      <td>87.0</td>\n",
              "      <td>42.73</td>\n",
              "      <td>0</td>\n",
              "      <td>7</td>\n",
              "      <td>4404</td>\n",
              "    </tr>\n",
              "    <tr>\n",
              "      <th>1</th>\n",
              "      <td>ANSL_76663</td>\n",
              "      <td>2018-11-15</td>\n",
              "      <td>2019-05-08 17:24:00</td>\n",
              "      <td>36</td>\n",
              "      <td>1.0</td>\n",
              "      <td>6.0</td>\n",
              "      <td>6.71</td>\n",
              "      <td>0</td>\n",
              "      <td>1</td>\n",
              "      <td>174</td>\n",
              "    </tr>\n",
              "    <tr>\n",
              "      <th>2</th>\n",
              "      <td>ANSL_58259</td>\n",
              "      <td>2012-10-11</td>\n",
              "      <td>2018-04-02 16:51:00</td>\n",
              "      <td>2</td>\n",
              "      <td>1.0</td>\n",
              "      <td>24.0</td>\n",
              "      <td>41.21</td>\n",
              "      <td>0</td>\n",
              "      <td>7</td>\n",
              "      <td>1999</td>\n",
              "    </tr>\n",
              "    <tr>\n",
              "      <th>3</th>\n",
              "      <td>ANSL_67171</td>\n",
              "      <td>2015-02-13</td>\n",
              "      <td>2018-04-06 07:25:00</td>\n",
              "      <td>2</td>\n",
              "      <td>1.0</td>\n",
              "      <td>29.0</td>\n",
              "      <td>8.46</td>\n",
              "      <td>7</td>\n",
              "      <td>1</td>\n",
              "      <td>1148</td>\n",
              "    </tr>\n",
              "    <tr>\n",
              "      <th>4</th>\n",
              "      <td>ANSL_72871</td>\n",
              "      <td>2017-01-18</td>\n",
              "      <td>2018-04-26 13:42:00</td>\n",
              "      <td>14</td>\n",
              "      <td>1.0</td>\n",
              "      <td>71.0</td>\n",
              "      <td>30.92</td>\n",
              "      <td>0</td>\n",
              "      <td>7</td>\n",
              "      <td>463</td>\n",
              "    </tr>\n",
              "  </tbody>\n",
              "</table>\n",
              "</div>"
            ],
            "text/plain": [
              "       pet_id issue_date        listing_date  ...  X1  X2  days\n",
              "0  ANSL_75005 2005-08-17 2017-09-07 15:35:00  ...   0   7  4404\n",
              "1  ANSL_76663 2018-11-15 2019-05-08 17:24:00  ...   0   1   174\n",
              "2  ANSL_58259 2012-10-11 2018-04-02 16:51:00  ...   0   7  1999\n",
              "3  ANSL_67171 2015-02-13 2018-04-06 07:25:00  ...   7   1  1148\n",
              "4  ANSL_72871 2017-01-18 2018-04-26 13:42:00  ...   0   7   463\n",
              "\n",
              "[5 rows x 10 columns]"
            ]
          },
          "metadata": {
            "tags": []
          },
          "execution_count": 38
        }
      ]
    },
    {
      "cell_type": "code",
      "metadata": {
        "id": "61Uih9FRHOCz"
      },
      "source": [
        "\n",
        "train_df.drop(['pet_id','issue_date','listing_date','pet_category'],axis=1,inplace=True)\n",
        "test_pet_id=test_df['pet_id']\n",
        "test_df.drop(['pet_id','issue_date','listing_date'],axis=1,inplace=True)"
      ],
      "execution_count": null,
      "outputs": []
    },
    {
      "cell_type": "code",
      "metadata": {
        "id": "titrTnsAd7Oh",
        "colab": {
          "base_uri": "https://localhost:8080/",
          "height": 197
        },
        "outputId": "2355e60a-a465-48e1-d7d3-2795499dee18"
      },
      "source": [
        "train_df.head()"
      ],
      "execution_count": null,
      "outputs": [
        {
          "output_type": "execute_result",
          "data": {
            "text/html": [
              "<div>\n",
              "<style scoped>\n",
              "    .dataframe tbody tr th:only-of-type {\n",
              "        vertical-align: middle;\n",
              "    }\n",
              "\n",
              "    .dataframe tbody tr th {\n",
              "        vertical-align: top;\n",
              "    }\n",
              "\n",
              "    .dataframe thead th {\n",
              "        text-align: right;\n",
              "    }\n",
              "</style>\n",
              "<table border=\"1\" class=\"dataframe\">\n",
              "  <thead>\n",
              "    <tr style=\"text-align: right;\">\n",
              "      <th></th>\n",
              "      <th>color_type</th>\n",
              "      <th>length(cm)</th>\n",
              "      <th>height(cm)</th>\n",
              "      <th>X1</th>\n",
              "      <th>X2</th>\n",
              "      <th>condition</th>\n",
              "      <th>breed_category</th>\n",
              "      <th>days</th>\n",
              "    </tr>\n",
              "  </thead>\n",
              "  <tbody>\n",
              "    <tr>\n",
              "      <th>0</th>\n",
              "      <td>18</td>\n",
              "      <td>80.0</td>\n",
              "      <td>7.78</td>\n",
              "      <td>13</td>\n",
              "      <td>9</td>\n",
              "      <td>2.0</td>\n",
              "      <td>0.0</td>\n",
              "      <td>73</td>\n",
              "    </tr>\n",
              "    <tr>\n",
              "      <th>1</th>\n",
              "      <td>53</td>\n",
              "      <td>72.0</td>\n",
              "      <td>14.19</td>\n",
              "      <td>13</td>\n",
              "      <td>9</td>\n",
              "      <td>1.0</td>\n",
              "      <td>0.0</td>\n",
              "      <td>1862</td>\n",
              "    </tr>\n",
              "    <tr>\n",
              "      <th>2</th>\n",
              "      <td>15</td>\n",
              "      <td>15.0</td>\n",
              "      <td>40.90</td>\n",
              "      <td>15</td>\n",
              "      <td>4</td>\n",
              "      <td>2.0</td>\n",
              "      <td>2.0</td>\n",
              "      <td>752</td>\n",
              "    </tr>\n",
              "    <tr>\n",
              "      <th>3</th>\n",
              "      <td>53</td>\n",
              "      <td>62.0</td>\n",
              "      <td>17.82</td>\n",
              "      <td>0</td>\n",
              "      <td>1</td>\n",
              "      <td>1.0</td>\n",
              "      <td>0.0</td>\n",
              "      <td>755</td>\n",
              "    </tr>\n",
              "    <tr>\n",
              "      <th>4</th>\n",
              "      <td>2</td>\n",
              "      <td>50.0</td>\n",
              "      <td>11.06</td>\n",
              "      <td>18</td>\n",
              "      <td>4</td>\n",
              "      <td>2.0</td>\n",
              "      <td>0.0</td>\n",
              "      <td>52</td>\n",
              "    </tr>\n",
              "  </tbody>\n",
              "</table>\n",
              "</div>"
            ],
            "text/plain": [
              "   color_type  length(cm)  height(cm)  X1  X2  condition  breed_category  days\n",
              "0          18        80.0        7.78  13   9        2.0             0.0    73\n",
              "1          53        72.0       14.19  13   9        1.0             0.0  1862\n",
              "2          15        15.0       40.90  15   4        2.0             2.0   752\n",
              "3          53        62.0       17.82   0   1        1.0             0.0   755\n",
              "4           2        50.0       11.06  18   4        2.0             0.0    52"
            ]
          },
          "metadata": {
            "tags": []
          },
          "execution_count": 40
        }
      ]
    },
    {
      "cell_type": "code",
      "metadata": {
        "id": "6a1Ad_qkm-_h",
        "colab": {
          "base_uri": "https://localhost:8080/",
          "height": 197
        },
        "outputId": "0d39d352-c547-4823-92ea-21d87845ec13"
      },
      "source": [
        "test_df.head()"
      ],
      "execution_count": null,
      "outputs": [
        {
          "output_type": "execute_result",
          "data": {
            "text/html": [
              "<div>\n",
              "<style scoped>\n",
              "    .dataframe tbody tr th:only-of-type {\n",
              "        vertical-align: middle;\n",
              "    }\n",
              "\n",
              "    .dataframe tbody tr th {\n",
              "        vertical-align: top;\n",
              "    }\n",
              "\n",
              "    .dataframe thead th {\n",
              "        text-align: right;\n",
              "    }\n",
              "</style>\n",
              "<table border=\"1\" class=\"dataframe\">\n",
              "  <thead>\n",
              "    <tr style=\"text-align: right;\">\n",
              "      <th></th>\n",
              "      <th>color_type</th>\n",
              "      <th>condition</th>\n",
              "      <th>length(cm)</th>\n",
              "      <th>height(cm)</th>\n",
              "      <th>X1</th>\n",
              "      <th>X2</th>\n",
              "      <th>days</th>\n",
              "    </tr>\n",
              "  </thead>\n",
              "  <tbody>\n",
              "    <tr>\n",
              "      <th>0</th>\n",
              "      <td>2</td>\n",
              "      <td>0.0</td>\n",
              "      <td>87.0</td>\n",
              "      <td>42.73</td>\n",
              "      <td>0</td>\n",
              "      <td>7</td>\n",
              "      <td>4404</td>\n",
              "    </tr>\n",
              "    <tr>\n",
              "      <th>1</th>\n",
              "      <td>36</td>\n",
              "      <td>1.0</td>\n",
              "      <td>6.0</td>\n",
              "      <td>6.71</td>\n",
              "      <td>0</td>\n",
              "      <td>1</td>\n",
              "      <td>174</td>\n",
              "    </tr>\n",
              "    <tr>\n",
              "      <th>2</th>\n",
              "      <td>2</td>\n",
              "      <td>1.0</td>\n",
              "      <td>24.0</td>\n",
              "      <td>41.21</td>\n",
              "      <td>0</td>\n",
              "      <td>7</td>\n",
              "      <td>1999</td>\n",
              "    </tr>\n",
              "    <tr>\n",
              "      <th>3</th>\n",
              "      <td>2</td>\n",
              "      <td>1.0</td>\n",
              "      <td>29.0</td>\n",
              "      <td>8.46</td>\n",
              "      <td>7</td>\n",
              "      <td>1</td>\n",
              "      <td>1148</td>\n",
              "    </tr>\n",
              "    <tr>\n",
              "      <th>4</th>\n",
              "      <td>14</td>\n",
              "      <td>1.0</td>\n",
              "      <td>71.0</td>\n",
              "      <td>30.92</td>\n",
              "      <td>0</td>\n",
              "      <td>7</td>\n",
              "      <td>463</td>\n",
              "    </tr>\n",
              "  </tbody>\n",
              "</table>\n",
              "</div>"
            ],
            "text/plain": [
              "   color_type  condition  length(cm)  height(cm)  X1  X2  days\n",
              "0           2        0.0        87.0       42.73   0   7  4404\n",
              "1          36        1.0         6.0        6.71   0   1   174\n",
              "2           2        1.0        24.0       41.21   0   7  1999\n",
              "3           2        1.0        29.0        8.46   7   1  1148\n",
              "4          14        1.0        71.0       30.92   0   7   463"
            ]
          },
          "metadata": {
            "tags": []
          },
          "execution_count": 41
        }
      ]
    },
    {
      "cell_type": "code",
      "metadata": {
        "id": "9i_Vc9-hOfot",
        "colab": {
          "base_uri": "https://localhost:8080/",
          "height": 70
        },
        "outputId": "d7ed246e-adf2-4ad9-c843-13c5c5288fa0"
      },
      "source": [
        "pip install xgboost"
      ],
      "execution_count": null,
      "outputs": [
        {
          "output_type": "stream",
          "text": [
            "Requirement already satisfied: xgboost in /usr/local/lib/python3.6/dist-packages (0.90)\n",
            "Requirement already satisfied: scipy in /usr/local/lib/python3.6/dist-packages (from xgboost) (1.4.1)\n",
            "Requirement already satisfied: numpy in /usr/local/lib/python3.6/dist-packages (from xgboost) (1.18.5)\n"
          ],
          "name": "stdout"
        }
      ]
    },
    {
      "cell_type": "code",
      "metadata": {
        "id": "Ry4nGvxvFDa_",
        "colab": {
          "base_uri": "https://localhost:8080/",
          "height": 336
        },
        "outputId": "66a43e76-85ea-4aa5-e4b4-eaa075ba2738"
      },
      "source": [
        "pip install catboost"
      ],
      "execution_count": null,
      "outputs": [
        {
          "output_type": "stream",
          "text": [
            "Collecting catboost\n",
            "\u001b[?25l  Downloading https://files.pythonhosted.org/packages/96/6c/6608210b29649267de52001b09e369777ee2a5cfe1c71fa75eba82a4f2dc/catboost-0.24-cp36-none-manylinux1_x86_64.whl (65.9MB)\n",
            "\u001b[K     |████████████████████████████████| 65.9MB 70kB/s \n",
            "\u001b[?25hRequirement already satisfied: scipy in /usr/local/lib/python3.6/dist-packages (from catboost) (1.4.1)\n",
            "Requirement already satisfied: plotly in /usr/local/lib/python3.6/dist-packages (from catboost) (4.4.1)\n",
            "Requirement already satisfied: six in /usr/local/lib/python3.6/dist-packages (from catboost) (1.15.0)\n",
            "Requirement already satisfied: graphviz in /usr/local/lib/python3.6/dist-packages (from catboost) (0.10.1)\n",
            "Requirement already satisfied: numpy>=1.16.0 in /usr/local/lib/python3.6/dist-packages (from catboost) (1.18.5)\n",
            "Requirement already satisfied: matplotlib in /usr/local/lib/python3.6/dist-packages (from catboost) (3.2.2)\n",
            "Requirement already satisfied: pandas>=0.24.0 in /usr/local/lib/python3.6/dist-packages (from catboost) (1.0.5)\n",
            "Requirement already satisfied: retrying>=1.3.3 in /usr/local/lib/python3.6/dist-packages (from plotly->catboost) (1.3.3)\n",
            "Requirement already satisfied: kiwisolver>=1.0.1 in /usr/local/lib/python3.6/dist-packages (from matplotlib->catboost) (1.2.0)\n",
            "Requirement already satisfied: cycler>=0.10 in /usr/local/lib/python3.6/dist-packages (from matplotlib->catboost) (0.10.0)\n",
            "Requirement already satisfied: python-dateutil>=2.1 in /usr/local/lib/python3.6/dist-packages (from matplotlib->catboost) (2.8.1)\n",
            "Requirement already satisfied: pyparsing!=2.0.4,!=2.1.2,!=2.1.6,>=2.0.1 in /usr/local/lib/python3.6/dist-packages (from matplotlib->catboost) (2.4.7)\n",
            "Requirement already satisfied: pytz>=2017.2 in /usr/local/lib/python3.6/dist-packages (from pandas>=0.24.0->catboost) (2018.9)\n",
            "Installing collected packages: catboost\n",
            "Successfully installed catboost-0.24\n"
          ],
          "name": "stdout"
        }
      ]
    },
    {
      "cell_type": "code",
      "metadata": {
        "id": "qZFJRIaWqXVN"
      },
      "source": [
        "#from xgboost import XGBClassifier\n",
        "from sklearn.ensemble import GradientBoostingClassifier\n",
        "from sklearn.linear_model import LogisticRegression\n",
        "from catboost import CatBoostClassifier\n",
        "\n",
        "from sklearn.metrics import *"
      ],
      "execution_count": null,
      "outputs": []
    },
    {
      "cell_type": "code",
      "metadata": {
        "id": "Lhe41Jtjsxye"
      },
      "source": [
        "X=train_df[['color_type','condition','length(cm)','height(cm)','X1','X2','days']]\n",
        "y=train_df[['breed_category']]"
      ],
      "execution_count": null,
      "outputs": []
    },
    {
      "cell_type": "code",
      "metadata": {
        "id": "zNzcu7qe61eg"
      },
      "source": [
        "X_train, X_test, y_train, y_test = train_test_split(X, y, test_size = 0.01, random_state = 0)"
      ],
      "execution_count": null,
      "outputs": []
    },
    {
      "cell_type": "code",
      "metadata": {
        "id": "hawzkOXeJmrP"
      },
      "source": [
        "from sklearn.preprocessing import StandardScaler\n",
        "scaler = StandardScaler()\n",
        "X_train=scaler.fit_transform(X_train)\n"
      ],
      "execution_count": null,
      "outputs": []
    },
    {
      "cell_type": "code",
      "metadata": {
        "id": "QYWDDCbvtE5e",
        "colab": {
          "base_uri": "https://localhost:8080/",
          "height": 232
        },
        "outputId": "ebddcd13-fec4-4fa0-a7dd-4294acf14908"
      },
      "source": [
        "from imblearn.over_sampling import SMOTE \n",
        "sm = SMOTE(random_state = 2) \n",
        "X_train_res, y_train_res = sm.fit_sample(X_train, y_train) \n",
        "print(X_train_res.shape,y_train_res.shape)"
      ],
      "execution_count": null,
      "outputs": [
        {
          "output_type": "stream",
          "text": [
            "(26727, 7) (26727,)\n"
          ],
          "name": "stdout"
        },
        {
          "output_type": "stream",
          "text": [
            "/usr/local/lib/python3.6/dist-packages/sklearn/externals/six.py:31: FutureWarning: The module is deprecated in version 0.21 and will be removed in version 0.23 since we've dropped support for Python 2.7. Please rely on the official version of six (https://pypi.org/project/six/).\n",
            "  \"(https://pypi.org/project/six/).\", FutureWarning)\n",
            "/usr/local/lib/python3.6/dist-packages/sklearn/utils/deprecation.py:144: FutureWarning: The sklearn.neighbors.base module is  deprecated in version 0.22 and will be removed in version 0.24. The corresponding classes / functions should instead be imported from sklearn.neighbors. Anything that cannot be imported from sklearn.neighbors is now part of the private API.\n",
            "  warnings.warn(message, FutureWarning)\n",
            "/usr/local/lib/python3.6/dist-packages/sklearn/utils/validation.py:760: DataConversionWarning: A column-vector y was passed when a 1d array was expected. Please change the shape of y to (n_samples, ), for example using ravel().\n",
            "  y = column_or_1d(y, warn=True)\n",
            "/usr/local/lib/python3.6/dist-packages/sklearn/utils/deprecation.py:87: FutureWarning: Function safe_indexing is deprecated; safe_indexing is deprecated in version 0.22 and will be removed in version 0.24.\n",
            "  warnings.warn(msg, category=FutureWarning)\n",
            "/usr/local/lib/python3.6/dist-packages/sklearn/utils/deprecation.py:87: FutureWarning: Function safe_indexing is deprecated; safe_indexing is deprecated in version 0.22 and will be removed in version 0.24.\n",
            "  warnings.warn(msg, category=FutureWarning)\n"
          ],
          "name": "stderr"
        }
      ]
    },
    {
      "cell_type": "code",
      "metadata": {
        "id": "Iocne2b-FwaO"
      },
      "source": [
        "clf1 = LogisticRegression(random_state=0)\n",
        "clf2=GradientBoostingClassifier(random_state=0)\n",
        "clf4=CatBoostClassifier(random_state=0)\n",
        "    "
      ],
      "execution_count": null,
      "outputs": []
    },
    {
      "cell_type": "code",
      "metadata": {
        "id": "pBk9ks_lJspv"
      },
      "source": [
        "from sklearn.ensemble import  VotingClassifier\n",
        "model_breed = VotingClassifier(estimators=[('clf1', clf1), ('clf2', clf2),('clf4',clf4)], voting='hard')\n"
      ],
      "execution_count": null,
      "outputs": []
    },
    {
      "cell_type": "code",
      "metadata": {
        "id": "jKMHExHJISnt"
      },
      "source": [
        "model_pet = VotingClassifier(estimators=[('clf1', clf1), ('clf2', clf2),('clf4',clf4)], voting='soft')"
      ],
      "execution_count": null,
      "outputs": []
    },
    {
      "cell_type": "code",
      "metadata": {
        "id": "EV3B6b5ex_N0",
        "colab": {
          "base_uri": "https://localhost:8080/",
          "height": 1000
        },
        "outputId": "7802f49f-29b1-4109-8223-7f8fb0b53ea4"
      },
      "source": [
        "model_breed.fit(X_train_res, y_train_res.ravel())"
      ],
      "execution_count": null,
      "outputs": [
        {
          "output_type": "stream",
          "text": [
            "/usr/local/lib/python3.6/dist-packages/sklearn/linear_model/_logistic.py:940: ConvergenceWarning: lbfgs failed to converge (status=1):\n",
            "STOP: TOTAL NO. of ITERATIONS REACHED LIMIT.\n",
            "\n",
            "Increase the number of iterations (max_iter) or scale the data as shown in:\n",
            "    https://scikit-learn.org/stable/modules/preprocessing.html\n",
            "Please also refer to the documentation for alternative solver options:\n",
            "    https://scikit-learn.org/stable/modules/linear_model.html#logistic-regression\n",
            "  extra_warning_msg=_LOGISTIC_SOLVER_CONVERGENCE_MSG)\n"
          ],
          "name": "stderr"
        },
        {
          "output_type": "stream",
          "text": [
            "Learning rate set to 0.093562\n",
            "0:\tlearn: 0.9705738\ttotal: 68.9ms\tremaining: 1m 8s\n",
            "1:\tlearn: 0.8697566\ttotal: 89.9ms\tremaining: 44.9s\n",
            "2:\tlearn: 0.7880186\ttotal: 110ms\tremaining: 36.6s\n",
            "3:\tlearn: 0.7225264\ttotal: 130ms\tremaining: 32.4s\n",
            "4:\tlearn: 0.6669253\ttotal: 150ms\tremaining: 29.8s\n",
            "5:\tlearn: 0.6192747\ttotal: 170ms\tremaining: 28.2s\n",
            "6:\tlearn: 0.5784761\ttotal: 190ms\tremaining: 27s\n",
            "7:\tlearn: 0.5444240\ttotal: 216ms\tremaining: 26.7s\n",
            "8:\tlearn: 0.5142124\ttotal: 243ms\tremaining: 26.8s\n",
            "9:\tlearn: 0.4859221\ttotal: 263ms\tremaining: 26s\n",
            "10:\tlearn: 0.4597329\ttotal: 283ms\tremaining: 25.4s\n",
            "11:\tlearn: 0.4378768\ttotal: 302ms\tremaining: 24.9s\n",
            "12:\tlearn: 0.4175378\ttotal: 324ms\tremaining: 24.6s\n",
            "13:\tlearn: 0.3994734\ttotal: 345ms\tremaining: 24.3s\n",
            "14:\tlearn: 0.3837279\ttotal: 365ms\tremaining: 23.9s\n",
            "15:\tlearn: 0.3678540\ttotal: 385ms\tremaining: 23.7s\n",
            "16:\tlearn: 0.3565933\ttotal: 405ms\tremaining: 23.4s\n",
            "17:\tlearn: 0.3452180\ttotal: 427ms\tremaining: 23.3s\n",
            "18:\tlearn: 0.3344421\ttotal: 446ms\tremaining: 23s\n",
            "19:\tlearn: 0.3242235\ttotal: 465ms\tremaining: 22.8s\n",
            "20:\tlearn: 0.3138326\ttotal: 486ms\tremaining: 22.6s\n",
            "21:\tlearn: 0.3048287\ttotal: 506ms\tremaining: 22.5s\n",
            "22:\tlearn: 0.2973988\ttotal: 526ms\tremaining: 22.3s\n",
            "23:\tlearn: 0.2890392\ttotal: 546ms\tremaining: 22.2s\n",
            "24:\tlearn: 0.2831747\ttotal: 565ms\tremaining: 22s\n",
            "25:\tlearn: 0.2768730\ttotal: 586ms\tremaining: 21.9s\n",
            "26:\tlearn: 0.2711107\ttotal: 606ms\tremaining: 21.8s\n",
            "27:\tlearn: 0.2666730\ttotal: 626ms\tremaining: 21.7s\n",
            "28:\tlearn: 0.2619688\ttotal: 648ms\tremaining: 21.7s\n",
            "29:\tlearn: 0.2571452\ttotal: 669ms\tremaining: 21.6s\n",
            "30:\tlearn: 0.2532072\ttotal: 688ms\tremaining: 21.5s\n",
            "31:\tlearn: 0.2501846\ttotal: 708ms\tremaining: 21.4s\n",
            "32:\tlearn: 0.2469276\ttotal: 727ms\tremaining: 21.3s\n",
            "33:\tlearn: 0.2440678\ttotal: 747ms\tremaining: 21.2s\n",
            "34:\tlearn: 0.2408487\ttotal: 766ms\tremaining: 21.1s\n",
            "35:\tlearn: 0.2383448\ttotal: 785ms\tremaining: 21s\n",
            "36:\tlearn: 0.2351117\ttotal: 805ms\tremaining: 20.9s\n",
            "37:\tlearn: 0.2327044\ttotal: 826ms\tremaining: 20.9s\n",
            "38:\tlearn: 0.2307990\ttotal: 845ms\tremaining: 20.8s\n",
            "39:\tlearn: 0.2296103\ttotal: 868ms\tremaining: 20.8s\n",
            "40:\tlearn: 0.2277205\ttotal: 887ms\tremaining: 20.7s\n",
            "41:\tlearn: 0.2255723\ttotal: 906ms\tremaining: 20.7s\n",
            "42:\tlearn: 0.2243870\ttotal: 925ms\tremaining: 20.6s\n",
            "43:\tlearn: 0.2232948\ttotal: 945ms\tremaining: 20.5s\n",
            "44:\tlearn: 0.2211728\ttotal: 965ms\tremaining: 20.5s\n",
            "45:\tlearn: 0.2197561\ttotal: 984ms\tremaining: 20.4s\n",
            "46:\tlearn: 0.2185870\ttotal: 1s\tremaining: 20.3s\n",
            "47:\tlearn: 0.2173672\ttotal: 1.02s\tremaining: 20.3s\n",
            "48:\tlearn: 0.2162542\ttotal: 1.04s\tremaining: 20.2s\n",
            "49:\tlearn: 0.2152649\ttotal: 1.06s\tremaining: 20.2s\n",
            "50:\tlearn: 0.2146044\ttotal: 1.08s\tremaining: 20.2s\n",
            "51:\tlearn: 0.2139128\ttotal: 1.1s\tremaining: 20.1s\n",
            "52:\tlearn: 0.2128260\ttotal: 1.12s\tremaining: 20.1s\n",
            "53:\tlearn: 0.2116494\ttotal: 1.14s\tremaining: 20s\n",
            "54:\tlearn: 0.2109392\ttotal: 1.16s\tremaining: 20s\n",
            "55:\tlearn: 0.2101710\ttotal: 1.19s\tremaining: 20s\n",
            "56:\tlearn: 0.2095342\ttotal: 1.21s\tremaining: 20s\n",
            "57:\tlearn: 0.2086741\ttotal: 1.23s\tremaining: 20s\n",
            "58:\tlearn: 0.2078883\ttotal: 1.25s\tremaining: 20s\n",
            "59:\tlearn: 0.2068302\ttotal: 1.27s\tremaining: 20s\n",
            "60:\tlearn: 0.2060284\ttotal: 1.3s\tremaining: 20s\n",
            "61:\tlearn: 0.2051620\ttotal: 1.31s\tremaining: 19.9s\n",
            "62:\tlearn: 0.2045986\ttotal: 1.34s\tremaining: 19.9s\n",
            "63:\tlearn: 0.2040563\ttotal: 1.35s\tremaining: 19.8s\n",
            "64:\tlearn: 0.2038285\ttotal: 1.37s\tremaining: 19.8s\n",
            "65:\tlearn: 0.2034243\ttotal: 1.39s\tremaining: 19.7s\n",
            "66:\tlearn: 0.2027813\ttotal: 1.41s\tremaining: 19.7s\n",
            "67:\tlearn: 0.2019805\ttotal: 1.43s\tremaining: 19.7s\n",
            "68:\tlearn: 0.2015415\ttotal: 1.45s\tremaining: 19.6s\n",
            "69:\tlearn: 0.2008467\ttotal: 1.47s\tremaining: 19.6s\n",
            "70:\tlearn: 0.2003919\ttotal: 1.49s\tremaining: 19.5s\n",
            "71:\tlearn: 0.2000078\ttotal: 1.51s\tremaining: 19.5s\n",
            "72:\tlearn: 0.1994236\ttotal: 1.53s\tremaining: 19.5s\n",
            "73:\tlearn: 0.1987676\ttotal: 1.55s\tremaining: 19.5s\n",
            "74:\tlearn: 0.1982568\ttotal: 1.57s\tremaining: 19.4s\n",
            "75:\tlearn: 0.1975907\ttotal: 1.59s\tremaining: 19.4s\n",
            "76:\tlearn: 0.1968550\ttotal: 1.61s\tremaining: 19.3s\n",
            "77:\tlearn: 0.1964848\ttotal: 1.63s\tremaining: 19.3s\n",
            "78:\tlearn: 0.1961397\ttotal: 1.65s\tremaining: 19.3s\n",
            "79:\tlearn: 0.1953935\ttotal: 1.67s\tremaining: 19.2s\n",
            "80:\tlearn: 0.1947962\ttotal: 1.69s\tremaining: 19.2s\n",
            "81:\tlearn: 0.1943718\ttotal: 1.71s\tremaining: 19.2s\n"
          ],
          "name": "stdout"
        }
      ]
    },
    {
      "cell_type": "code",
      "metadata": {
        "id": "rpyHuePoIfs0",
        "colab": {
          "base_uri": "https://localhost:8080/",
          "height": 1000
        },
        "outputId": "cf8a0e4d-0dab-41af-88f0-8aa9f9a0b6ac"
      },
      "source": [
        "model_pet.fit(X_train_res, y_train_res)"
      ],
      "execution_count": null,
      "outputs": [
        {
          "output_type": "stream",
          "text": [
            "Learning rate set to 0.095749\n",
            "0:\tlearn: 1.2616694\ttotal: 33.6ms\tremaining: 33.5s\n",
            "1:\tlearn: 1.1625283\ttotal: 64.6ms\tremaining: 32.2s\n",
            "2:\tlearn: 1.0893771\ttotal: 105ms\tremaining: 34.8s\n",
            "3:\tlearn: 1.0283216\ttotal: 136ms\tremaining: 33.9s\n",
            "4:\tlearn: 0.9793928\ttotal: 168ms\tremaining: 33.4s\n",
            "5:\tlearn: 0.9361892\ttotal: 204ms\tremaining: 33.8s\n",
            "6:\tlearn: 0.8977837\ttotal: 236ms\tremaining: 33.5s\n",
            "7:\tlearn: 0.8655975\ttotal: 267ms\tremaining: 33.1s\n",
            "8:\tlearn: 0.8366895\ttotal: 299ms\tremaining: 33s\n",
            "9:\tlearn: 0.8101188\ttotal: 331ms\tremaining: 32.7s\n",
            "10:\tlearn: 0.7872022\ttotal: 363ms\tremaining: 32.6s\n",
            "11:\tlearn: 0.7620067\ttotal: 395ms\tremaining: 32.6s\n",
            "12:\tlearn: 0.7400359\ttotal: 433ms\tremaining: 32.8s\n",
            "13:\tlearn: 0.7200911\ttotal: 464ms\tremaining: 32.7s\n",
            "14:\tlearn: 0.7036566\ttotal: 495ms\tremaining: 32.5s\n",
            "15:\tlearn: 0.6909097\ttotal: 524ms\tremaining: 32.3s\n",
            "16:\tlearn: 0.6749985\ttotal: 556ms\tremaining: 32.2s\n",
            "17:\tlearn: 0.6622213\ttotal: 588ms\tremaining: 32.1s\n",
            "18:\tlearn: 0.6506274\ttotal: 618ms\tremaining: 31.9s\n",
            "19:\tlearn: 0.6402180\ttotal: 656ms\tremaining: 32.1s\n",
            "20:\tlearn: 0.6296615\ttotal: 687ms\tremaining: 32s\n",
            "21:\tlearn: 0.6198305\ttotal: 720ms\tremaining: 32s\n",
            "22:\tlearn: 0.6102197\ttotal: 753ms\tremaining: 32s\n",
            "23:\tlearn: 0.6016621\ttotal: 784ms\tremaining: 31.9s\n",
            "24:\tlearn: 0.5945040\ttotal: 813ms\tremaining: 31.7s\n",
            "25:\tlearn: 0.5850203\ttotal: 845ms\tremaining: 31.7s\n",
            "26:\tlearn: 0.5780922\ttotal: 879ms\tremaining: 31.7s\n",
            "27:\tlearn: 0.5718132\ttotal: 910ms\tremaining: 31.6s\n",
            "28:\tlearn: 0.5643516\ttotal: 940ms\tremaining: 31.5s\n",
            "29:\tlearn: 0.5584252\ttotal: 972ms\tremaining: 31.4s\n",
            "30:\tlearn: 0.5532771\ttotal: 1s\tremaining: 31.3s\n",
            "31:\tlearn: 0.5474277\ttotal: 1.03s\tremaining: 31.2s\n",
            "32:\tlearn: 0.5407033\ttotal: 1.06s\tremaining: 31.2s\n",
            "33:\tlearn: 0.5357648\ttotal: 1.1s\tremaining: 31.4s\n",
            "34:\tlearn: 0.5307043\ttotal: 1.14s\tremaining: 31.3s\n",
            "35:\tlearn: 0.5259303\ttotal: 1.17s\tremaining: 31.2s\n",
            "36:\tlearn: 0.5192690\ttotal: 1.19s\tremaining: 31.1s\n",
            "37:\tlearn: 0.5128072\ttotal: 1.23s\tremaining: 31s\n",
            "38:\tlearn: 0.5068272\ttotal: 1.26s\tremaining: 31s\n",
            "39:\tlearn: 0.5025907\ttotal: 1.29s\tremaining: 30.9s\n",
            "40:\tlearn: 0.4993297\ttotal: 1.32s\tremaining: 30.9s\n",
            "41:\tlearn: 0.4953187\ttotal: 1.35s\tremaining: 30.9s\n",
            "42:\tlearn: 0.4908742\ttotal: 1.38s\tremaining: 30.8s\n",
            "43:\tlearn: 0.4875530\ttotal: 1.41s\tremaining: 30.7s\n",
            "44:\tlearn: 0.4831910\ttotal: 1.44s\tremaining: 30.6s\n",
            "45:\tlearn: 0.4801090\ttotal: 1.47s\tremaining: 30.6s\n",
            "46:\tlearn: 0.4757261\ttotal: 1.51s\tremaining: 30.5s\n",
            "47:\tlearn: 0.4727696\ttotal: 1.54s\tremaining: 30.5s\n",
            "48:\tlearn: 0.4684673\ttotal: 1.57s\tremaining: 30.5s\n",
            "49:\tlearn: 0.4648972\ttotal: 1.6s\tremaining: 30.4s\n",
            "50:\tlearn: 0.4608429\ttotal: 1.63s\tremaining: 30.4s\n",
            "51:\tlearn: 0.4572289\ttotal: 1.66s\tremaining: 30.3s\n",
            "52:\tlearn: 0.4552375\ttotal: 1.69s\tremaining: 30.2s\n",
            "53:\tlearn: 0.4517765\ttotal: 1.72s\tremaining: 30.1s\n",
            "54:\tlearn: 0.4487939\ttotal: 1.75s\tremaining: 30.1s\n",
            "55:\tlearn: 0.4457346\ttotal: 1.78s\tremaining: 30.1s\n",
            "56:\tlearn: 0.4423333\ttotal: 1.82s\tremaining: 30.1s\n",
            "57:\tlearn: 0.4397960\ttotal: 1.85s\tremaining: 30s\n",
            "58:\tlearn: 0.4368420\ttotal: 1.88s\tremaining: 30s\n",
            "59:\tlearn: 0.4347653\ttotal: 1.91s\tremaining: 29.9s\n",
            "60:\tlearn: 0.4315919\ttotal: 1.94s\tremaining: 29.8s\n",
            "61:\tlearn: 0.4289341\ttotal: 1.97s\tremaining: 29.8s\n",
            "62:\tlearn: 0.4262843\ttotal: 2s\tremaining: 29.7s\n",
            "63:\tlearn: 0.4242449\ttotal: 2.03s\tremaining: 29.7s\n",
            "64:\tlearn: 0.4212407\ttotal: 2.06s\tremaining: 29.7s\n",
            "65:\tlearn: 0.4187262\ttotal: 2.09s\tremaining: 29.6s\n",
            "66:\tlearn: 0.4162060\ttotal: 2.13s\tremaining: 29.7s\n",
            "67:\tlearn: 0.4131957\ttotal: 2.16s\tremaining: 29.6s\n",
            "68:\tlearn: 0.4107079\ttotal: 2.2s\tremaining: 29.6s\n",
            "69:\tlearn: 0.4073998\ttotal: 2.23s\tremaining: 29.6s\n",
            "70:\tlearn: 0.4055254\ttotal: 2.26s\tremaining: 29.6s\n",
            "71:\tlearn: 0.4033113\ttotal: 2.29s\tremaining: 29.5s\n",
            "72:\tlearn: 0.4015604\ttotal: 2.32s\tremaining: 29.4s\n",
            "73:\tlearn: 0.3995286\ttotal: 2.35s\tremaining: 29.4s\n",
            "74:\tlearn: 0.3972932\ttotal: 2.38s\tremaining: 29.3s\n",
            "75:\tlearn: 0.3954269\ttotal: 2.41s\tremaining: 29.3s\n",
            "76:\tlearn: 0.3937650\ttotal: 2.44s\tremaining: 29.3s\n",
            "77:\tlearn: 0.3920645\ttotal: 2.47s\tremaining: 29.2s\n",
            "78:\tlearn: 0.3904539\ttotal: 2.5s\tremaining: 29.2s\n",
            "79:\tlearn: 0.3881367\ttotal: 2.54s\tremaining: 29.2s\n",
            "80:\tlearn: 0.3864224\ttotal: 2.56s\tremaining: 29.1s\n",
            "81:\tlearn: 0.3848478\ttotal: 2.59s\tremaining: 29s\n",
            "82:\tlearn: 0.3831859\ttotal: 2.63s\tremaining: 29s\n",
            "83:\tlearn: 0.3811097\ttotal: 2.66s\tremaining: 29s\n",
            "84:\tlearn: 0.3803015\ttotal: 2.69s\tremaining: 28.9s\n",
            "85:\tlearn: 0.3782439\ttotal: 2.72s\tremaining: 28.9s\n",
            "86:\tlearn: 0.3760502\ttotal: 2.75s\tremaining: 28.9s\n",
            "87:\tlearn: 0.3747829\ttotal: 2.78s\tremaining: 28.8s\n",
            "88:\tlearn: 0.3733454\ttotal: 2.81s\tremaining: 28.8s\n",
            "89:\tlearn: 0.3712701\ttotal: 2.84s\tremaining: 28.8s\n",
            "90:\tlearn: 0.3696940\ttotal: 2.88s\tremaining: 28.7s\n",
            "91:\tlearn: 0.3678224\ttotal: 2.91s\tremaining: 28.7s\n",
            "92:\tlearn: 0.3661788\ttotal: 2.94s\tremaining: 28.7s\n",
            "93:\tlearn: 0.3648449\ttotal: 2.97s\tremaining: 28.6s\n",
            "94:\tlearn: 0.3632740\ttotal: 3s\tremaining: 28.6s\n",
            "95:\tlearn: 0.3615262\ttotal: 3.03s\tremaining: 28.5s\n",
            "96:\tlearn: 0.3603395\ttotal: 3.06s\tremaining: 28.5s\n",
            "97:\tlearn: 0.3586972\ttotal: 3.09s\tremaining: 28.5s\n",
            "98:\tlearn: 0.3570537\ttotal: 3.13s\tremaining: 28.5s\n",
            "99:\tlearn: 0.3557834\ttotal: 3.17s\tremaining: 28.5s\n",
            "100:\tlearn: 0.3544881\ttotal: 3.2s\tremaining: 28.5s\n",
            "101:\tlearn: 0.3531809\ttotal: 3.23s\tremaining: 28.4s\n",
            "102:\tlearn: 0.3514538\ttotal: 3.26s\tremaining: 28.4s\n",
            "103:\tlearn: 0.3498958\ttotal: 3.29s\tremaining: 28.3s\n",
            "104:\tlearn: 0.3488177\ttotal: 3.32s\tremaining: 28.3s\n",
            "105:\tlearn: 0.3482357\ttotal: 3.35s\tremaining: 28.3s\n",
            "106:\tlearn: 0.3474676\ttotal: 3.38s\tremaining: 28.2s\n",
            "107:\tlearn: 0.3467394\ttotal: 3.41s\tremaining: 28.2s\n",
            "108:\tlearn: 0.3458087\ttotal: 3.44s\tremaining: 28.1s\n",
            "109:\tlearn: 0.3444890\ttotal: 3.47s\tremaining: 28.1s\n",
            "110:\tlearn: 0.3430273\ttotal: 3.51s\tremaining: 28.1s\n",
            "111:\tlearn: 0.3413495\ttotal: 3.54s\tremaining: 28.1s\n",
            "112:\tlearn: 0.3404338\ttotal: 3.58s\tremaining: 28.1s\n",
            "113:\tlearn: 0.3397422\ttotal: 3.61s\tremaining: 28s\n",
            "114:\tlearn: 0.3383850\ttotal: 3.64s\tremaining: 28s\n",
            "115:\tlearn: 0.3374662\ttotal: 3.67s\tremaining: 28s\n",
            "116:\tlearn: 0.3366719\ttotal: 3.7s\tremaining: 27.9s\n",
            "117:\tlearn: 0.3353299\ttotal: 3.73s\tremaining: 27.9s\n",
            "118:\tlearn: 0.3340900\ttotal: 3.77s\tremaining: 27.9s\n",
            "119:\tlearn: 0.3331958\ttotal: 3.79s\tremaining: 27.8s\n",
            "120:\tlearn: 0.3317229\ttotal: 3.83s\tremaining: 27.8s\n",
            "121:\tlearn: 0.3308759\ttotal: 3.85s\tremaining: 27.7s\n",
            "122:\tlearn: 0.3299867\ttotal: 3.88s\tremaining: 27.7s\n",
            "123:\tlearn: 0.3291188\ttotal: 3.91s\tremaining: 27.6s\n",
            "124:\tlearn: 0.3286427\ttotal: 3.95s\tremaining: 27.6s\n",
            "125:\tlearn: 0.3276342\ttotal: 3.98s\tremaining: 27.6s\n",
            "126:\tlearn: 0.3266061\ttotal: 4s\tremaining: 27.5s\n",
            "127:\tlearn: 0.3254885\ttotal: 4.03s\tremaining: 27.5s\n",
            "128:\tlearn: 0.3242123\ttotal: 4.06s\tremaining: 27.4s\n",
            "129:\tlearn: 0.3231032\ttotal: 4.09s\tremaining: 27.4s\n",
            "130:\tlearn: 0.3223539\ttotal: 4.13s\tremaining: 27.4s\n",
            "131:\tlearn: 0.3211878\ttotal: 4.17s\tremaining: 27.4s\n",
            "132:\tlearn: 0.3202990\ttotal: 4.2s\tremaining: 27.4s\n",
            "133:\tlearn: 0.3197764\ttotal: 4.22s\tremaining: 27.3s\n",
            "134:\tlearn: 0.3184319\ttotal: 4.26s\tremaining: 27.3s\n",
            "135:\tlearn: 0.3175228\ttotal: 4.29s\tremaining: 27.3s\n",
            "136:\tlearn: 0.3164393\ttotal: 4.32s\tremaining: 27.2s\n",
            "137:\tlearn: 0.3152962\ttotal: 4.35s\tremaining: 27.2s\n",
            "138:\tlearn: 0.3146473\ttotal: 4.39s\tremaining: 27.2s\n",
            "139:\tlearn: 0.3136981\ttotal: 4.42s\tremaining: 27.1s\n",
            "140:\tlearn: 0.3125869\ttotal: 4.45s\tremaining: 27.1s\n",
            "141:\tlearn: 0.3115003\ttotal: 4.48s\tremaining: 27.1s\n",
            "142:\tlearn: 0.3105171\ttotal: 4.51s\tremaining: 27s\n",
            "143:\tlearn: 0.3097098\ttotal: 4.54s\tremaining: 27s\n",
            "144:\tlearn: 0.3090813\ttotal: 4.57s\tremaining: 26.9s\n",
            "145:\tlearn: 0.3086622\ttotal: 4.6s\tremaining: 26.9s\n",
            "146:\tlearn: 0.3079619\ttotal: 4.63s\tremaining: 26.9s\n",
            "147:\tlearn: 0.3073580\ttotal: 4.66s\tremaining: 26.8s\n",
            "148:\tlearn: 0.3063160\ttotal: 4.69s\tremaining: 26.8s\n",
            "149:\tlearn: 0.3054968\ttotal: 4.72s\tremaining: 26.8s\n",
            "150:\tlearn: 0.3051412\ttotal: 4.75s\tremaining: 26.7s\n",
            "151:\tlearn: 0.3041842\ttotal: 4.79s\tremaining: 26.7s\n",
            "152:\tlearn: 0.3035710\ttotal: 4.82s\tremaining: 26.7s\n",
            "153:\tlearn: 0.3026354\ttotal: 4.85s\tremaining: 26.6s\n",
            "154:\tlearn: 0.3020772\ttotal: 4.88s\tremaining: 26.6s\n",
            "155:\tlearn: 0.3013263\ttotal: 4.91s\tremaining: 26.6s\n",
            "156:\tlearn: 0.3007803\ttotal: 4.94s\tremaining: 26.5s\n",
            "157:\tlearn: 0.3001822\ttotal: 4.97s\tremaining: 26.5s\n",
            "158:\tlearn: 0.2997186\ttotal: 5s\tremaining: 26.4s\n",
            "159:\tlearn: 0.2988413\ttotal: 5.03s\tremaining: 26.4s\n",
            "160:\tlearn: 0.2983666\ttotal: 5.06s\tremaining: 26.4s\n",
            "161:\tlearn: 0.2973257\ttotal: 5.09s\tremaining: 26.4s\n",
            "162:\tlearn: 0.2968770\ttotal: 5.13s\tremaining: 26.4s\n",
            "163:\tlearn: 0.2962430\ttotal: 5.17s\tremaining: 26.3s\n",
            "164:\tlearn: 0.2954823\ttotal: 5.21s\tremaining: 26.3s\n",
            "165:\tlearn: 0.2944386\ttotal: 5.24s\tremaining: 26.3s\n",
            "166:\tlearn: 0.2937486\ttotal: 5.27s\tremaining: 26.3s\n",
            "167:\tlearn: 0.2931823\ttotal: 5.3s\tremaining: 26.3s\n",
            "168:\tlearn: 0.2927247\ttotal: 5.33s\tremaining: 26.2s\n",
            "169:\tlearn: 0.2919871\ttotal: 5.36s\tremaining: 26.2s\n",
            "170:\tlearn: 0.2912881\ttotal: 5.39s\tremaining: 26.1s\n",
            "171:\tlearn: 0.2904799\ttotal: 5.42s\tremaining: 26.1s\n",
            "172:\tlearn: 0.2902074\ttotal: 5.45s\tremaining: 26.1s\n",
            "173:\tlearn: 0.2891249\ttotal: 5.49s\tremaining: 26s\n",
            "174:\tlearn: 0.2881922\ttotal: 5.52s\tremaining: 26s\n",
            "175:\tlearn: 0.2872580\ttotal: 5.55s\tremaining: 26s\n",
            "176:\tlearn: 0.2864363\ttotal: 5.58s\tremaining: 25.9s\n",
            "177:\tlearn: 0.2856790\ttotal: 5.61s\tremaining: 25.9s\n",
            "178:\tlearn: 0.2851245\ttotal: 5.64s\tremaining: 25.9s\n",
            "179:\tlearn: 0.2844700\ttotal: 5.67s\tremaining: 25.8s\n",
            "180:\tlearn: 0.2838564\ttotal: 5.7s\tremaining: 25.8s\n",
            "181:\tlearn: 0.2832459\ttotal: 5.73s\tremaining: 25.8s\n",
            "182:\tlearn: 0.2825076\ttotal: 5.76s\tremaining: 25.7s\n",
            "183:\tlearn: 0.2819747\ttotal: 5.79s\tremaining: 25.7s\n",
            "184:\tlearn: 0.2805928\ttotal: 5.83s\tremaining: 25.7s\n",
            "185:\tlearn: 0.2800388\ttotal: 5.86s\tremaining: 25.6s\n",
            "186:\tlearn: 0.2793998\ttotal: 5.89s\tremaining: 25.6s\n",
            "187:\tlearn: 0.2782259\ttotal: 5.92s\tremaining: 25.6s\n",
            "188:\tlearn: 0.2775431\ttotal: 5.95s\tremaining: 25.6s\n",
            "189:\tlearn: 0.2768403\ttotal: 5.98s\tremaining: 25.5s\n",
            "190:\tlearn: 0.2764616\ttotal: 6.01s\tremaining: 25.5s\n",
            "191:\tlearn: 0.2755913\ttotal: 6.04s\tremaining: 25.4s\n",
            "192:\tlearn: 0.2750552\ttotal: 6.08s\tremaining: 25.4s\n",
            "193:\tlearn: 0.2744559\ttotal: 6.11s\tremaining: 25.4s\n",
            "194:\tlearn: 0.2740856\ttotal: 6.14s\tremaining: 25.4s\n",
            "195:\tlearn: 0.2736399\ttotal: 6.17s\tremaining: 25.3s\n",
            "196:\tlearn: 0.2732354\ttotal: 6.2s\tremaining: 25.3s\n",
            "197:\tlearn: 0.2726580\ttotal: 6.23s\tremaining: 25.3s\n",
            "198:\tlearn: 0.2718841\ttotal: 6.26s\tremaining: 25.2s\n",
            "199:\tlearn: 0.2714106\ttotal: 6.29s\tremaining: 25.2s\n",
            "200:\tlearn: 0.2710617\ttotal: 6.33s\tremaining: 25.2s\n",
            "201:\tlearn: 0.2707739\ttotal: 6.36s\tremaining: 25.1s\n",
            "202:\tlearn: 0.2704323\ttotal: 6.39s\tremaining: 25.1s\n",
            "203:\tlearn: 0.2698716\ttotal: 6.42s\tremaining: 25s\n",
            "204:\tlearn: 0.2691674\ttotal: 6.45s\tremaining: 25s\n",
            "205:\tlearn: 0.2683384\ttotal: 6.48s\tremaining: 25s\n",
            "206:\tlearn: 0.2678964\ttotal: 6.51s\tremaining: 24.9s\n",
            "207:\tlearn: 0.2674823\ttotal: 6.54s\tremaining: 24.9s\n",
            "208:\tlearn: 0.2671845\ttotal: 6.57s\tremaining: 24.9s\n",
            "209:\tlearn: 0.2667782\ttotal: 6.6s\tremaining: 24.8s\n",
            "210:\tlearn: 0.2661295\ttotal: 6.63s\tremaining: 24.8s\n",
            "211:\tlearn: 0.2655303\ttotal: 6.66s\tremaining: 24.8s\n",
            "212:\tlearn: 0.2651534\ttotal: 6.69s\tremaining: 24.7s\n",
            "213:\tlearn: 0.2643974\ttotal: 6.72s\tremaining: 24.7s\n",
            "214:\tlearn: 0.2637348\ttotal: 6.76s\tremaining: 24.7s\n",
            "215:\tlearn: 0.2634527\ttotal: 6.79s\tremaining: 24.6s\n",
            "216:\tlearn: 0.2622169\ttotal: 6.82s\tremaining: 24.6s\n",
            "217:\tlearn: 0.2616958\ttotal: 6.85s\tremaining: 24.6s\n",
            "218:\tlearn: 0.2610675\ttotal: 6.88s\tremaining: 24.6s\n",
            "219:\tlearn: 0.2607382\ttotal: 6.92s\tremaining: 24.5s\n",
            "220:\tlearn: 0.2603460\ttotal: 6.95s\tremaining: 24.5s\n",
            "221:\tlearn: 0.2597116\ttotal: 6.98s\tremaining: 24.5s\n",
            "222:\tlearn: 0.2593850\ttotal: 7.01s\tremaining: 24.4s\n",
            "223:\tlearn: 0.2589033\ttotal: 7.04s\tremaining: 24.4s\n",
            "224:\tlearn: 0.2583550\ttotal: 7.07s\tremaining: 24.3s\n",
            "225:\tlearn: 0.2579137\ttotal: 7.1s\tremaining: 24.3s\n",
            "226:\tlearn: 0.2574262\ttotal: 7.13s\tremaining: 24.3s\n",
            "227:\tlearn: 0.2571791\ttotal: 7.17s\tremaining: 24.3s\n",
            "228:\tlearn: 0.2567918\ttotal: 7.2s\tremaining: 24.2s\n",
            "229:\tlearn: 0.2565744\ttotal: 7.23s\tremaining: 24.2s\n",
            "230:\tlearn: 0.2562634\ttotal: 7.26s\tremaining: 24.2s\n",
            "231:\tlearn: 0.2558599\ttotal: 7.29s\tremaining: 24.1s\n",
            "232:\tlearn: 0.2556699\ttotal: 7.32s\tremaining: 24.1s\n",
            "233:\tlearn: 0.2553198\ttotal: 7.35s\tremaining: 24.1s\n",
            "234:\tlearn: 0.2542299\ttotal: 7.38s\tremaining: 24s\n",
            "235:\tlearn: 0.2533425\ttotal: 7.42s\tremaining: 24s\n",
            "236:\tlearn: 0.2526099\ttotal: 7.45s\tremaining: 24s\n",
            "237:\tlearn: 0.2520125\ttotal: 7.48s\tremaining: 23.9s\n",
            "238:\tlearn: 0.2511341\ttotal: 7.51s\tremaining: 23.9s\n",
            "239:\tlearn: 0.2508200\ttotal: 7.54s\tremaining: 23.9s\n",
            "240:\tlearn: 0.2504975\ttotal: 7.57s\tremaining: 23.9s\n",
            "241:\tlearn: 0.2500479\ttotal: 7.6s\tremaining: 23.8s\n",
            "242:\tlearn: 0.2498080\ttotal: 7.63s\tremaining: 23.8s\n",
            "243:\tlearn: 0.2495080\ttotal: 7.66s\tremaining: 23.7s\n",
            "244:\tlearn: 0.2492971\ttotal: 7.69s\tremaining: 23.7s\n",
            "245:\tlearn: 0.2490260\ttotal: 7.72s\tremaining: 23.7s\n",
            "246:\tlearn: 0.2485750\ttotal: 7.77s\tremaining: 23.7s\n",
            "247:\tlearn: 0.2481463\ttotal: 7.81s\tremaining: 23.7s\n",
            "248:\tlearn: 0.2477556\ttotal: 7.84s\tremaining: 23.7s\n",
            "249:\tlearn: 0.2475364\ttotal: 7.87s\tremaining: 23.6s\n",
            "250:\tlearn: 0.2471421\ttotal: 7.9s\tremaining: 23.6s\n",
            "251:\tlearn: 0.2466426\ttotal: 7.93s\tremaining: 23.5s\n",
            "252:\tlearn: 0.2463579\ttotal: 7.96s\tremaining: 23.5s\n",
            "253:\tlearn: 0.2459370\ttotal: 7.99s\tremaining: 23.5s\n",
            "254:\tlearn: 0.2454971\ttotal: 8.02s\tremaining: 23.4s\n",
            "255:\tlearn: 0.2449492\ttotal: 8.06s\tremaining: 23.4s\n",
            "256:\tlearn: 0.2445696\ttotal: 8.09s\tremaining: 23.4s\n",
            "257:\tlearn: 0.2443059\ttotal: 8.12s\tremaining: 23.3s\n",
            "258:\tlearn: 0.2439191\ttotal: 8.15s\tremaining: 23.3s\n",
            "259:\tlearn: 0.2435663\ttotal: 8.18s\tremaining: 23.3s\n",
            "260:\tlearn: 0.2433085\ttotal: 8.21s\tremaining: 23.3s\n",
            "261:\tlearn: 0.2428724\ttotal: 8.24s\tremaining: 23.2s\n",
            "262:\tlearn: 0.2423693\ttotal: 8.28s\tremaining: 23.2s\n",
            "263:\tlearn: 0.2420895\ttotal: 8.31s\tremaining: 23.2s\n",
            "264:\tlearn: 0.2415622\ttotal: 8.34s\tremaining: 23.1s\n",
            "265:\tlearn: 0.2412745\ttotal: 8.37s\tremaining: 23.1s\n",
            "266:\tlearn: 0.2409086\ttotal: 8.4s\tremaining: 23.1s\n",
            "267:\tlearn: 0.2405944\ttotal: 8.43s\tremaining: 23s\n",
            "268:\tlearn: 0.2404413\ttotal: 8.46s\tremaining: 23s\n",
            "269:\tlearn: 0.2396702\ttotal: 8.5s\tremaining: 23s\n",
            "270:\tlearn: 0.2393833\ttotal: 8.53s\tremaining: 22.9s\n",
            "271:\tlearn: 0.2391893\ttotal: 8.56s\tremaining: 22.9s\n",
            "272:\tlearn: 0.2390566\ttotal: 8.59s\tremaining: 22.9s\n",
            "273:\tlearn: 0.2385826\ttotal: 8.62s\tremaining: 22.8s\n",
            "274:\tlearn: 0.2380611\ttotal: 8.65s\tremaining: 22.8s\n",
            "275:\tlearn: 0.2377755\ttotal: 8.68s\tremaining: 22.8s\n",
            "276:\tlearn: 0.2375350\ttotal: 8.72s\tremaining: 22.8s\n",
            "277:\tlearn: 0.2371946\ttotal: 8.75s\tremaining: 22.7s\n",
            "278:\tlearn: 0.2367613\ttotal: 8.78s\tremaining: 22.7s\n",
            "279:\tlearn: 0.2365576\ttotal: 8.81s\tremaining: 22.6s\n",
            "280:\tlearn: 0.2362716\ttotal: 8.84s\tremaining: 22.6s\n",
            "281:\tlearn: 0.2358769\ttotal: 8.87s\tremaining: 22.6s\n",
            "282:\tlearn: 0.2356162\ttotal: 8.9s\tremaining: 22.6s\n",
            "283:\tlearn: 0.2354117\ttotal: 8.93s\tremaining: 22.5s\n",
            "284:\tlearn: 0.2351871\ttotal: 8.96s\tremaining: 22.5s\n",
            "285:\tlearn: 0.2347333\ttotal: 9s\tremaining: 22.5s\n",
            "286:\tlearn: 0.2342874\ttotal: 9.03s\tremaining: 22.4s\n",
            "287:\tlearn: 0.2339480\ttotal: 9.06s\tremaining: 22.4s\n",
            "288:\tlearn: 0.2338363\ttotal: 9.09s\tremaining: 22.4s\n",
            "289:\tlearn: 0.2336666\ttotal: 9.12s\tremaining: 22.3s\n",
            "290:\tlearn: 0.2334195\ttotal: 9.16s\tremaining: 22.3s\n",
            "291:\tlearn: 0.2331339\ttotal: 9.19s\tremaining: 22.3s\n",
            "292:\tlearn: 0.2329406\ttotal: 9.22s\tremaining: 22.3s\n",
            "293:\tlearn: 0.2327650\ttotal: 9.25s\tremaining: 22.2s\n",
            "294:\tlearn: 0.2324357\ttotal: 9.28s\tremaining: 22.2s\n",
            "295:\tlearn: 0.2321433\ttotal: 9.31s\tremaining: 22.2s\n",
            "296:\tlearn: 0.2319588\ttotal: 9.34s\tremaining: 22.1s\n",
            "297:\tlearn: 0.2317454\ttotal: 9.38s\tremaining: 22.1s\n",
            "298:\tlearn: 0.2315621\ttotal: 9.41s\tremaining: 22.1s\n",
            "299:\tlearn: 0.2314312\ttotal: 9.44s\tremaining: 22s\n",
            "300:\tlearn: 0.2311972\ttotal: 9.47s\tremaining: 22s\n",
            "301:\tlearn: 0.2309585\ttotal: 9.5s\tremaining: 22s\n",
            "302:\tlearn: 0.2307401\ttotal: 9.53s\tremaining: 21.9s\n",
            "303:\tlearn: 0.2303360\ttotal: 9.56s\tremaining: 21.9s\n",
            "304:\tlearn: 0.2297666\ttotal: 9.6s\tremaining: 21.9s\n",
            "305:\tlearn: 0.2295667\ttotal: 9.63s\tremaining: 21.8s\n",
            "306:\tlearn: 0.2291839\ttotal: 9.66s\tremaining: 21.8s\n",
            "307:\tlearn: 0.2290080\ttotal: 9.69s\tremaining: 21.8s\n",
            "308:\tlearn: 0.2286171\ttotal: 9.72s\tremaining: 21.7s\n",
            "309:\tlearn: 0.2283816\ttotal: 9.75s\tremaining: 21.7s\n",
            "310:\tlearn: 0.2279545\ttotal: 9.78s\tremaining: 21.7s\n",
            "311:\tlearn: 0.2278066\ttotal: 9.81s\tremaining: 21.6s\n",
            "312:\tlearn: 0.2274305\ttotal: 9.84s\tremaining: 21.6s\n",
            "313:\tlearn: 0.2267332\ttotal: 9.88s\tremaining: 21.6s\n",
            "314:\tlearn: 0.2264830\ttotal: 9.91s\tremaining: 21.5s\n",
            "315:\tlearn: 0.2262184\ttotal: 9.94s\tremaining: 21.5s\n",
            "316:\tlearn: 0.2260616\ttotal: 9.96s\tremaining: 21.5s\n",
            "317:\tlearn: 0.2257534\ttotal: 10s\tremaining: 21.4s\n",
            "318:\tlearn: 0.2254644\ttotal: 10s\tremaining: 21.4s\n",
            "319:\tlearn: 0.2250177\ttotal: 10.1s\tremaining: 21.4s\n",
            "320:\tlearn: 0.2246823\ttotal: 10.1s\tremaining: 21.4s\n",
            "321:\tlearn: 0.2245531\ttotal: 10.1s\tremaining: 21.3s\n",
            "322:\tlearn: 0.2244568\ttotal: 10.2s\tremaining: 21.3s\n",
            "323:\tlearn: 0.2242972\ttotal: 10.2s\tremaining: 21.3s\n",
            "324:\tlearn: 0.2238155\ttotal: 10.2s\tremaining: 21.2s\n",
            "325:\tlearn: 0.2233523\ttotal: 10.3s\tremaining: 21.2s\n",
            "326:\tlearn: 0.2231037\ttotal: 10.3s\tremaining: 21.2s\n",
            "327:\tlearn: 0.2229331\ttotal: 10.3s\tremaining: 21.2s\n",
            "328:\tlearn: 0.2228215\ttotal: 10.4s\tremaining: 21.1s\n",
            "329:\tlearn: 0.2226694\ttotal: 10.4s\tremaining: 21.1s\n",
            "330:\tlearn: 0.2222414\ttotal: 10.4s\tremaining: 21.1s\n",
            "331:\tlearn: 0.2220327\ttotal: 10.5s\tremaining: 21.1s\n",
            "332:\tlearn: 0.2217847\ttotal: 10.5s\tremaining: 21s\n",
            "333:\tlearn: 0.2214146\ttotal: 10.5s\tremaining: 21s\n",
            "334:\tlearn: 0.2212501\ttotal: 10.6s\tremaining: 21s\n",
            "335:\tlearn: 0.2208893\ttotal: 10.6s\tremaining: 20.9s\n",
            "336:\tlearn: 0.2207309\ttotal: 10.6s\tremaining: 20.9s\n",
            "337:\tlearn: 0.2201561\ttotal: 10.7s\tremaining: 20.9s\n",
            "338:\tlearn: 0.2199106\ttotal: 10.7s\tremaining: 20.8s\n",
            "339:\tlearn: 0.2195764\ttotal: 10.7s\tremaining: 20.8s\n",
            "340:\tlearn: 0.2191849\ttotal: 10.8s\tremaining: 20.8s\n",
            "341:\tlearn: 0.2186831\ttotal: 10.8s\tremaining: 20.8s\n",
            "342:\tlearn: 0.2185644\ttotal: 10.8s\tremaining: 20.7s\n",
            "343:\tlearn: 0.2183618\ttotal: 10.8s\tremaining: 20.7s\n",
            "344:\tlearn: 0.2181196\ttotal: 10.9s\tremaining: 20.7s\n",
            "345:\tlearn: 0.2179291\ttotal: 10.9s\tremaining: 20.6s\n",
            "346:\tlearn: 0.2177516\ttotal: 10.9s\tremaining: 20.6s\n",
            "347:\tlearn: 0.2176714\ttotal: 11s\tremaining: 20.6s\n",
            "348:\tlearn: 0.2174956\ttotal: 11s\tremaining: 20.5s\n",
            "349:\tlearn: 0.2174003\ttotal: 11s\tremaining: 20.5s\n",
            "350:\tlearn: 0.2173135\ttotal: 11.1s\tremaining: 20.4s\n",
            "351:\tlearn: 0.2170435\ttotal: 11.1s\tremaining: 20.4s\n",
            "352:\tlearn: 0.2167405\ttotal: 11.1s\tremaining: 20.4s\n",
            "353:\tlearn: 0.2165099\ttotal: 11.2s\tremaining: 20.4s\n",
            "354:\tlearn: 0.2163999\ttotal: 11.2s\tremaining: 20.3s\n",
            "355:\tlearn: 0.2159365\ttotal: 11.2s\tremaining: 20.3s\n",
            "356:\tlearn: 0.2158336\ttotal: 11.3s\tremaining: 20.3s\n",
            "357:\tlearn: 0.2156533\ttotal: 11.3s\tremaining: 20.2s\n",
            "358:\tlearn: 0.2155529\ttotal: 11.3s\tremaining: 20.2s\n",
            "359:\tlearn: 0.2152705\ttotal: 11.4s\tremaining: 20.2s\n",
            "360:\tlearn: 0.2151473\ttotal: 11.4s\tremaining: 20.1s\n",
            "361:\tlearn: 0.2150530\ttotal: 11.4s\tremaining: 20.1s\n",
            "362:\tlearn: 0.2148716\ttotal: 11.4s\tremaining: 20.1s\n",
            "363:\tlearn: 0.2144647\ttotal: 11.5s\tremaining: 20.1s\n",
            "364:\tlearn: 0.2143965\ttotal: 11.5s\tremaining: 20s\n",
            "365:\tlearn: 0.2142292\ttotal: 11.5s\tremaining: 20s\n",
            "366:\tlearn: 0.2140732\ttotal: 11.6s\tremaining: 20s\n",
            "367:\tlearn: 0.2137307\ttotal: 11.6s\tremaining: 19.9s\n",
            "368:\tlearn: 0.2135994\ttotal: 11.6s\tremaining: 19.9s\n",
            "369:\tlearn: 0.2133870\ttotal: 11.7s\tremaining: 19.9s\n",
            "370:\tlearn: 0.2132384\ttotal: 11.7s\tremaining: 19.8s\n",
            "371:\tlearn: 0.2131090\ttotal: 11.7s\tremaining: 19.8s\n",
            "372:\tlearn: 0.2126726\ttotal: 11.8s\tremaining: 19.8s\n",
            "373:\tlearn: 0.2124238\ttotal: 11.8s\tremaining: 19.7s\n",
            "374:\tlearn: 0.2119501\ttotal: 11.8s\tremaining: 19.7s\n",
            "375:\tlearn: 0.2117651\ttotal: 11.9s\tremaining: 19.7s\n",
            "376:\tlearn: 0.2114310\ttotal: 11.9s\tremaining: 19.6s\n",
            "377:\tlearn: 0.2113543\ttotal: 11.9s\tremaining: 19.6s\n",
            "378:\tlearn: 0.2110633\ttotal: 11.9s\tremaining: 19.6s\n",
            "379:\tlearn: 0.2108320\ttotal: 12s\tremaining: 19.5s\n",
            "380:\tlearn: 0.2105139\ttotal: 12s\tremaining: 19.5s\n",
            "381:\tlearn: 0.2103668\ttotal: 12s\tremaining: 19.5s\n",
            "382:\tlearn: 0.2102089\ttotal: 12.1s\tremaining: 19.4s\n",
            "383:\tlearn: 0.2100597\ttotal: 12.1s\tremaining: 19.4s\n",
            "384:\tlearn: 0.2099466\ttotal: 12.1s\tremaining: 19.4s\n",
            "385:\tlearn: 0.2096980\ttotal: 12.2s\tremaining: 19.4s\n",
            "386:\tlearn: 0.2093517\ttotal: 12.2s\tremaining: 19.3s\n",
            "387:\tlearn: 0.2091810\ttotal: 12.2s\tremaining: 19.3s\n",
            "388:\tlearn: 0.2087655\ttotal: 12.3s\tremaining: 19.3s\n",
            "389:\tlearn: 0.2086395\ttotal: 12.3s\tremaining: 19.2s\n",
            "390:\tlearn: 0.2084535\ttotal: 12.3s\tremaining: 19.2s\n",
            "391:\tlearn: 0.2082200\ttotal: 12.4s\tremaining: 19.2s\n",
            "392:\tlearn: 0.2080920\ttotal: 12.4s\tremaining: 19.1s\n",
            "393:\tlearn: 0.2079614\ttotal: 12.4s\tremaining: 19.1s\n",
            "394:\tlearn: 0.2076005\ttotal: 12.5s\tremaining: 19.1s\n",
            "395:\tlearn: 0.2075076\ttotal: 12.5s\tremaining: 19s\n",
            "396:\tlearn: 0.2071991\ttotal: 12.5s\tremaining: 19s\n",
            "397:\tlearn: 0.2071091\ttotal: 12.5s\tremaining: 19s\n",
            "398:\tlearn: 0.2068207\ttotal: 12.6s\tremaining: 18.9s\n",
            "399:\tlearn: 0.2065641\ttotal: 12.6s\tremaining: 18.9s\n",
            "400:\tlearn: 0.2064659\ttotal: 12.6s\tremaining: 18.9s\n",
            "401:\tlearn: 0.2063351\ttotal: 12.7s\tremaining: 18.8s\n",
            "402:\tlearn: 0.2059943\ttotal: 12.7s\tremaining: 18.8s\n",
            "403:\tlearn: 0.2057821\ttotal: 12.7s\tremaining: 18.8s\n",
            "404:\tlearn: 0.2055630\ttotal: 12.8s\tremaining: 18.8s\n",
            "405:\tlearn: 0.2054743\ttotal: 12.8s\tremaining: 18.7s\n",
            "406:\tlearn: 0.2053024\ttotal: 12.8s\tremaining: 18.7s\n",
            "407:\tlearn: 0.2051267\ttotal: 12.9s\tremaining: 18.7s\n",
            "408:\tlearn: 0.2048422\ttotal: 12.9s\tremaining: 18.6s\n",
            "409:\tlearn: 0.2045462\ttotal: 12.9s\tremaining: 18.6s\n",
            "410:\tlearn: 0.2044253\ttotal: 12.9s\tremaining: 18.6s\n",
            "411:\tlearn: 0.2043355\ttotal: 13s\tremaining: 18.5s\n",
            "412:\tlearn: 0.2042564\ttotal: 13s\tremaining: 18.5s\n",
            "413:\tlearn: 0.2040786\ttotal: 13s\tremaining: 18.5s\n",
            "414:\tlearn: 0.2038194\ttotal: 13.1s\tremaining: 18.4s\n",
            "415:\tlearn: 0.2035909\ttotal: 13.1s\tremaining: 18.4s\n",
            "416:\tlearn: 0.2032388\ttotal: 13.1s\tremaining: 18.4s\n",
            "417:\tlearn: 0.2030823\ttotal: 13.2s\tremaining: 18.4s\n",
            "418:\tlearn: 0.2029326\ttotal: 13.2s\tremaining: 18.3s\n",
            "419:\tlearn: 0.2026691\ttotal: 13.2s\tremaining: 18.3s\n",
            "420:\tlearn: 0.2023197\ttotal: 13.3s\tremaining: 18.3s\n",
            "421:\tlearn: 0.2022253\ttotal: 13.3s\tremaining: 18.2s\n",
            "422:\tlearn: 0.2021275\ttotal: 13.3s\tremaining: 18.2s\n",
            "423:\tlearn: 0.2019963\ttotal: 13.4s\tremaining: 18.2s\n",
            "424:\tlearn: 0.2018739\ttotal: 13.4s\tremaining: 18.1s\n",
            "425:\tlearn: 0.2017631\ttotal: 13.4s\tremaining: 18.1s\n",
            "426:\tlearn: 0.2015240\ttotal: 13.5s\tremaining: 18.1s\n",
            "427:\tlearn: 0.2013923\ttotal: 13.5s\tremaining: 18s\n",
            "428:\tlearn: 0.2010877\ttotal: 13.5s\tremaining: 18s\n",
            "429:\tlearn: 0.2007718\ttotal: 13.6s\tremaining: 18s\n",
            "430:\tlearn: 0.2006702\ttotal: 13.6s\tremaining: 17.9s\n",
            "431:\tlearn: 0.2005716\ttotal: 13.6s\tremaining: 17.9s\n",
            "432:\tlearn: 0.2000923\ttotal: 13.6s\tremaining: 17.9s\n",
            "433:\tlearn: 0.1999074\ttotal: 13.7s\tremaining: 17.8s\n",
            "434:\tlearn: 0.1997287\ttotal: 13.7s\tremaining: 17.8s\n",
            "435:\tlearn: 0.1996082\ttotal: 13.7s\tremaining: 17.8s\n",
            "436:\tlearn: 0.1991632\ttotal: 13.8s\tremaining: 17.7s\n",
            "437:\tlearn: 0.1990659\ttotal: 13.8s\tremaining: 17.7s\n",
            "438:\tlearn: 0.1989230\ttotal: 13.8s\tremaining: 17.7s\n",
            "439:\tlearn: 0.1987780\ttotal: 13.9s\tremaining: 17.6s\n",
            "440:\tlearn: 0.1985177\ttotal: 13.9s\tremaining: 17.6s\n",
            "441:\tlearn: 0.1982064\ttotal: 13.9s\tremaining: 17.6s\n",
            "442:\tlearn: 0.1980592\ttotal: 14s\tremaining: 17.5s\n",
            "443:\tlearn: 0.1979940\ttotal: 14s\tremaining: 17.5s\n",
            "444:\tlearn: 0.1977875\ttotal: 14s\tremaining: 17.5s\n",
            "445:\tlearn: 0.1976927\ttotal: 14.1s\tremaining: 17.5s\n",
            "446:\tlearn: 0.1975668\ttotal: 14.1s\tremaining: 17.4s\n",
            "447:\tlearn: 0.1974733\ttotal: 14.1s\tremaining: 17.4s\n",
            "448:\tlearn: 0.1973334\ttotal: 14.1s\tremaining: 17.4s\n",
            "449:\tlearn: 0.1972614\ttotal: 14.2s\tremaining: 17.3s\n",
            "450:\tlearn: 0.1971490\ttotal: 14.2s\tremaining: 17.3s\n",
            "451:\tlearn: 0.1970385\ttotal: 14.2s\tremaining: 17.3s\n",
            "452:\tlearn: 0.1969072\ttotal: 14.3s\tremaining: 17.2s\n",
            "453:\tlearn: 0.1968105\ttotal: 14.3s\tremaining: 17.2s\n",
            "454:\tlearn: 0.1967121\ttotal: 14.3s\tremaining: 17.2s\n",
            "455:\tlearn: 0.1965490\ttotal: 14.4s\tremaining: 17.1s\n",
            "456:\tlearn: 0.1964547\ttotal: 14.4s\tremaining: 17.1s\n",
            "457:\tlearn: 0.1961907\ttotal: 14.4s\tremaining: 17.1s\n",
            "458:\tlearn: 0.1960959\ttotal: 14.5s\tremaining: 17s\n",
            "459:\tlearn: 0.1958834\ttotal: 14.5s\tremaining: 17s\n",
            "460:\tlearn: 0.1958044\ttotal: 14.5s\tremaining: 17s\n",
            "461:\tlearn: 0.1957273\ttotal: 14.6s\tremaining: 16.9s\n",
            "462:\tlearn: 0.1955975\ttotal: 14.6s\tremaining: 16.9s\n",
            "463:\tlearn: 0.1955390\ttotal: 14.6s\tremaining: 16.9s\n",
            "464:\tlearn: 0.1952287\ttotal: 14.6s\tremaining: 16.8s\n",
            "465:\tlearn: 0.1949510\ttotal: 14.7s\tremaining: 16.8s\n",
            "466:\tlearn: 0.1946704\ttotal: 14.7s\tremaining: 16.8s\n",
            "467:\tlearn: 0.1945504\ttotal: 14.7s\tremaining: 16.8s\n",
            "468:\tlearn: 0.1944410\ttotal: 14.8s\tremaining: 16.7s\n",
            "469:\tlearn: 0.1942880\ttotal: 14.8s\tremaining: 16.7s\n",
            "470:\tlearn: 0.1941456\ttotal: 14.8s\tremaining: 16.7s\n",
            "471:\tlearn: 0.1940512\ttotal: 14.9s\tremaining: 16.6s\n",
            "472:\tlearn: 0.1939330\ttotal: 14.9s\tremaining: 16.6s\n",
            "473:\tlearn: 0.1936409\ttotal: 14.9s\tremaining: 16.6s\n",
            "474:\tlearn: 0.1935425\ttotal: 15s\tremaining: 16.5s\n",
            "475:\tlearn: 0.1934107\ttotal: 15s\tremaining: 16.5s\n",
            "476:\tlearn: 0.1933043\ttotal: 15s\tremaining: 16.5s\n",
            "477:\tlearn: 0.1931622\ttotal: 15s\tremaining: 16.4s\n",
            "478:\tlearn: 0.1929400\ttotal: 15.1s\tremaining: 16.4s\n",
            "479:\tlearn: 0.1928371\ttotal: 15.1s\tremaining: 16.4s\n",
            "480:\tlearn: 0.1926870\ttotal: 15.1s\tremaining: 16.3s\n",
            "481:\tlearn: 0.1923341\ttotal: 15.2s\tremaining: 16.3s\n",
            "482:\tlearn: 0.1922789\ttotal: 15.2s\tremaining: 16.3s\n",
            "483:\tlearn: 0.1918828\ttotal: 15.2s\tremaining: 16.3s\n",
            "484:\tlearn: 0.1917440\ttotal: 15.3s\tremaining: 16.2s\n",
            "485:\tlearn: 0.1916544\ttotal: 15.3s\tremaining: 16.2s\n",
            "486:\tlearn: 0.1915186\ttotal: 15.3s\tremaining: 16.2s\n",
            "487:\tlearn: 0.1913726\ttotal: 15.4s\tremaining: 16.1s\n",
            "488:\tlearn: 0.1912451\ttotal: 15.4s\tremaining: 16.1s\n",
            "489:\tlearn: 0.1912080\ttotal: 15.4s\tremaining: 16.1s\n",
            "490:\tlearn: 0.1911415\ttotal: 15.5s\tremaining: 16s\n",
            "491:\tlearn: 0.1910531\ttotal: 15.5s\tremaining: 16s\n",
            "492:\tlearn: 0.1908429\ttotal: 15.5s\tremaining: 16s\n",
            "493:\tlearn: 0.1907022\ttotal: 15.6s\tremaining: 15.9s\n",
            "494:\tlearn: 0.1905662\ttotal: 15.6s\tremaining: 15.9s\n",
            "495:\tlearn: 0.1904999\ttotal: 15.6s\tremaining: 15.9s\n",
            "496:\tlearn: 0.1903462\ttotal: 15.7s\tremaining: 15.8s\n",
            "497:\tlearn: 0.1900413\ttotal: 15.7s\tremaining: 15.8s\n",
            "498:\tlearn: 0.1896610\ttotal: 15.7s\tremaining: 15.8s\n",
            "499:\tlearn: 0.1892933\ttotal: 15.8s\tremaining: 15.8s\n",
            "500:\tlearn: 0.1891567\ttotal: 15.8s\tremaining: 15.7s\n",
            "501:\tlearn: 0.1890892\ttotal: 15.8s\tremaining: 15.7s\n",
            "502:\tlearn: 0.1890114\ttotal: 15.8s\tremaining: 15.7s\n",
            "503:\tlearn: 0.1887770\ttotal: 15.9s\tremaining: 15.6s\n",
            "504:\tlearn: 0.1886879\ttotal: 15.9s\tremaining: 15.6s\n",
            "505:\tlearn: 0.1885398\ttotal: 15.9s\tremaining: 15.6s\n",
            "506:\tlearn: 0.1883919\ttotal: 16s\tremaining: 15.5s\n",
            "507:\tlearn: 0.1882925\ttotal: 16s\tremaining: 15.5s\n",
            "508:\tlearn: 0.1882351\ttotal: 16s\tremaining: 15.5s\n",
            "509:\tlearn: 0.1880969\ttotal: 16.1s\tremaining: 15.4s\n",
            "510:\tlearn: 0.1880040\ttotal: 16.1s\tremaining: 15.4s\n",
            "511:\tlearn: 0.1879374\ttotal: 16.1s\tremaining: 15.4s\n",
            "512:\tlearn: 0.1876541\ttotal: 16.2s\tremaining: 15.3s\n",
            "513:\tlearn: 0.1875931\ttotal: 16.2s\tremaining: 15.3s\n",
            "514:\tlearn: 0.1873887\ttotal: 16.2s\tremaining: 15.3s\n",
            "515:\tlearn: 0.1872990\ttotal: 16.3s\tremaining: 15.3s\n",
            "516:\tlearn: 0.1872277\ttotal: 16.3s\tremaining: 15.2s\n",
            "517:\tlearn: 0.1871248\ttotal: 16.3s\tremaining: 15.2s\n",
            "518:\tlearn: 0.1870143\ttotal: 16.4s\tremaining: 15.2s\n",
            "519:\tlearn: 0.1867226\ttotal: 16.4s\tremaining: 15.1s\n",
            "520:\tlearn: 0.1866241\ttotal: 16.4s\tremaining: 15.1s\n",
            "521:\tlearn: 0.1864814\ttotal: 16.4s\tremaining: 15.1s\n",
            "522:\tlearn: 0.1864192\ttotal: 16.5s\tremaining: 15s\n",
            "523:\tlearn: 0.1862215\ttotal: 16.5s\tremaining: 15s\n",
            "524:\tlearn: 0.1861182\ttotal: 16.5s\tremaining: 15s\n",
            "525:\tlearn: 0.1860069\ttotal: 16.6s\tremaining: 14.9s\n",
            "526:\tlearn: 0.1859096\ttotal: 16.6s\tremaining: 14.9s\n",
            "527:\tlearn: 0.1857342\ttotal: 16.6s\tremaining: 14.9s\n",
            "528:\tlearn: 0.1856869\ttotal: 16.7s\tremaining: 14.8s\n",
            "529:\tlearn: 0.1856168\ttotal: 16.7s\tremaining: 14.8s\n",
            "530:\tlearn: 0.1854715\ttotal: 16.7s\tremaining: 14.8s\n",
            "531:\tlearn: 0.1853528\ttotal: 16.8s\tremaining: 14.7s\n",
            "532:\tlearn: 0.1851168\ttotal: 16.8s\tremaining: 14.7s\n",
            "533:\tlearn: 0.1850578\ttotal: 16.8s\tremaining: 14.7s\n",
            "534:\tlearn: 0.1848306\ttotal: 16.8s\tremaining: 14.6s\n",
            "535:\tlearn: 0.1847277\ttotal: 16.9s\tremaining: 14.6s\n",
            "536:\tlearn: 0.1846265\ttotal: 16.9s\tremaining: 14.6s\n",
            "537:\tlearn: 0.1844752\ttotal: 16.9s\tremaining: 14.5s\n",
            "538:\tlearn: 0.1844142\ttotal: 17s\tremaining: 14.5s\n",
            "539:\tlearn: 0.1843308\ttotal: 17s\tremaining: 14.5s\n",
            "540:\tlearn: 0.1841511\ttotal: 17s\tremaining: 14.5s\n",
            "541:\tlearn: 0.1839695\ttotal: 17.1s\tremaining: 14.4s\n",
            "542:\tlearn: 0.1838380\ttotal: 17.1s\tremaining: 14.4s\n",
            "543:\tlearn: 0.1836494\ttotal: 17.1s\tremaining: 14.4s\n",
            "544:\tlearn: 0.1835542\ttotal: 17.2s\tremaining: 14.3s\n",
            "545:\tlearn: 0.1834246\ttotal: 17.2s\tremaining: 14.3s\n",
            "546:\tlearn: 0.1833796\ttotal: 17.2s\tremaining: 14.3s\n",
            "547:\tlearn: 0.1832631\ttotal: 17.3s\tremaining: 14.2s\n",
            "548:\tlearn: 0.1832210\ttotal: 17.3s\tremaining: 14.2s\n",
            "549:\tlearn: 0.1831299\ttotal: 17.3s\tremaining: 14.2s\n",
            "550:\tlearn: 0.1830098\ttotal: 17.4s\tremaining: 14.1s\n",
            "551:\tlearn: 0.1829100\ttotal: 17.4s\tremaining: 14.1s\n",
            "552:\tlearn: 0.1827488\ttotal: 17.4s\tremaining: 14.1s\n",
            "553:\tlearn: 0.1826704\ttotal: 17.5s\tremaining: 14.1s\n",
            "554:\tlearn: 0.1826112\ttotal: 17.5s\tremaining: 14s\n",
            "555:\tlearn: 0.1823925\ttotal: 17.5s\tremaining: 14s\n",
            "556:\tlearn: 0.1822979\ttotal: 17.5s\tremaining: 14s\n",
            "557:\tlearn: 0.1820258\ttotal: 17.6s\tremaining: 13.9s\n",
            "558:\tlearn: 0.1818792\ttotal: 17.6s\tremaining: 13.9s\n",
            "559:\tlearn: 0.1818038\ttotal: 17.6s\tremaining: 13.9s\n",
            "560:\tlearn: 0.1817059\ttotal: 17.7s\tremaining: 13.8s\n",
            "561:\tlearn: 0.1814968\ttotal: 17.7s\tremaining: 13.8s\n",
            "562:\tlearn: 0.1813064\ttotal: 17.7s\tremaining: 13.8s\n",
            "563:\tlearn: 0.1812128\ttotal: 17.8s\tremaining: 13.7s\n",
            "564:\tlearn: 0.1811432\ttotal: 17.8s\tremaining: 13.7s\n",
            "565:\tlearn: 0.1809654\ttotal: 17.8s\tremaining: 13.7s\n",
            "566:\tlearn: 0.1808728\ttotal: 17.9s\tremaining: 13.6s\n",
            "567:\tlearn: 0.1807823\ttotal: 17.9s\tremaining: 13.6s\n",
            "568:\tlearn: 0.1806152\ttotal: 17.9s\tremaining: 13.6s\n",
            "569:\tlearn: 0.1805225\ttotal: 18s\tremaining: 13.5s\n",
            "570:\tlearn: 0.1804370\ttotal: 18s\tremaining: 13.5s\n",
            "571:\tlearn: 0.1801466\ttotal: 18s\tremaining: 13.5s\n",
            "572:\tlearn: 0.1800457\ttotal: 18s\tremaining: 13.4s\n",
            "573:\tlearn: 0.1799473\ttotal: 18.1s\tremaining: 13.4s\n",
            "574:\tlearn: 0.1797409\ttotal: 18.1s\tremaining: 13.4s\n",
            "575:\tlearn: 0.1796008\ttotal: 18.1s\tremaining: 13.4s\n",
            "576:\tlearn: 0.1794581\ttotal: 18.2s\tremaining: 13.3s\n",
            "577:\tlearn: 0.1794187\ttotal: 18.2s\tremaining: 13.3s\n",
            "578:\tlearn: 0.1792779\ttotal: 18.2s\tremaining: 13.3s\n",
            "579:\tlearn: 0.1791770\ttotal: 18.3s\tremaining: 13.2s\n",
            "580:\tlearn: 0.1790632\ttotal: 18.3s\tremaining: 13.2s\n",
            "581:\tlearn: 0.1788837\ttotal: 18.3s\tremaining: 13.2s\n",
            "582:\tlearn: 0.1788082\ttotal: 18.4s\tremaining: 13.2s\n",
            "583:\tlearn: 0.1786129\ttotal: 18.4s\tremaining: 13.1s\n",
            "584:\tlearn: 0.1784967\ttotal: 18.5s\tremaining: 13.1s\n",
            "585:\tlearn: 0.1784560\ttotal: 18.5s\tremaining: 13.1s\n",
            "586:\tlearn: 0.1782982\ttotal: 18.5s\tremaining: 13s\n",
            "587:\tlearn: 0.1780460\ttotal: 18.5s\tremaining: 13s\n",
            "588:\tlearn: 0.1778490\ttotal: 18.6s\tremaining: 13s\n",
            "589:\tlearn: 0.1777538\ttotal: 18.6s\tremaining: 12.9s\n",
            "590:\tlearn: 0.1776695\ttotal: 18.6s\tremaining: 12.9s\n",
            "591:\tlearn: 0.1775967\ttotal: 18.7s\tremaining: 12.9s\n",
            "592:\tlearn: 0.1774641\ttotal: 18.7s\tremaining: 12.8s\n",
            "593:\tlearn: 0.1773625\ttotal: 18.7s\tremaining: 12.8s\n",
            "594:\tlearn: 0.1773126\ttotal: 18.8s\tremaining: 12.8s\n",
            "595:\tlearn: 0.1772684\ttotal: 18.8s\tremaining: 12.7s\n",
            "596:\tlearn: 0.1772248\ttotal: 18.8s\tremaining: 12.7s\n",
            "597:\tlearn: 0.1771211\ttotal: 18.9s\tremaining: 12.7s\n",
            "598:\tlearn: 0.1770430\ttotal: 18.9s\tremaining: 12.6s\n",
            "599:\tlearn: 0.1769986\ttotal: 18.9s\tremaining: 12.6s\n",
            "600:\tlearn: 0.1769298\ttotal: 18.9s\tremaining: 12.6s\n",
            "601:\tlearn: 0.1768172\ttotal: 19s\tremaining: 12.5s\n",
            "602:\tlearn: 0.1767696\ttotal: 19s\tremaining: 12.5s\n",
            "603:\tlearn: 0.1767152\ttotal: 19s\tremaining: 12.5s\n",
            "604:\tlearn: 0.1766251\ttotal: 19.1s\tremaining: 12.4s\n",
            "605:\tlearn: 0.1765155\ttotal: 19.1s\tremaining: 12.4s\n",
            "606:\tlearn: 0.1764703\ttotal: 19.1s\tremaining: 12.4s\n",
            "607:\tlearn: 0.1762490\ttotal: 19.2s\tremaining: 12.3s\n",
            "608:\tlearn: 0.1761676\ttotal: 19.2s\tremaining: 12.3s\n",
            "609:\tlearn: 0.1760362\ttotal: 19.2s\tremaining: 12.3s\n",
            "610:\tlearn: 0.1759600\ttotal: 19.3s\tremaining: 12.3s\n",
            "611:\tlearn: 0.1758946\ttotal: 19.3s\tremaining: 12.2s\n",
            "612:\tlearn: 0.1758307\ttotal: 19.3s\tremaining: 12.2s\n",
            "613:\tlearn: 0.1756503\ttotal: 19.3s\tremaining: 12.2s\n",
            "614:\tlearn: 0.1755041\ttotal: 19.4s\tremaining: 12.1s\n",
            "615:\tlearn: 0.1753938\ttotal: 19.4s\tremaining: 12.1s\n",
            "616:\tlearn: 0.1752360\ttotal: 19.4s\tremaining: 12.1s\n",
            "617:\tlearn: 0.1751682\ttotal: 19.5s\tremaining: 12s\n",
            "618:\tlearn: 0.1748205\ttotal: 19.5s\tremaining: 12s\n",
            "619:\tlearn: 0.1747120\ttotal: 19.5s\tremaining: 12s\n",
            "620:\tlearn: 0.1746388\ttotal: 19.6s\tremaining: 11.9s\n",
            "621:\tlearn: 0.1745842\ttotal: 19.6s\tremaining: 11.9s\n",
            "622:\tlearn: 0.1744263\ttotal: 19.6s\tremaining: 11.9s\n",
            "623:\tlearn: 0.1743831\ttotal: 19.7s\tremaining: 11.8s\n",
            "624:\tlearn: 0.1743427\ttotal: 19.7s\tremaining: 11.8s\n",
            "625:\tlearn: 0.1742155\ttotal: 19.7s\tremaining: 11.8s\n",
            "626:\tlearn: 0.1741427\ttotal: 19.7s\tremaining: 11.7s\n",
            "627:\tlearn: 0.1741015\ttotal: 19.8s\tremaining: 11.7s\n",
            "628:\tlearn: 0.1740166\ttotal: 19.8s\tremaining: 11.7s\n",
            "629:\tlearn: 0.1738679\ttotal: 19.8s\tremaining: 11.6s\n",
            "630:\tlearn: 0.1737006\ttotal: 19.9s\tremaining: 11.6s\n",
            "631:\tlearn: 0.1735955\ttotal: 19.9s\tremaining: 11.6s\n",
            "632:\tlearn: 0.1735099\ttotal: 19.9s\tremaining: 11.6s\n",
            "633:\tlearn: 0.1734603\ttotal: 20s\tremaining: 11.5s\n",
            "634:\tlearn: 0.1733766\ttotal: 20s\tremaining: 11.5s\n",
            "635:\tlearn: 0.1731557\ttotal: 20s\tremaining: 11.5s\n",
            "636:\tlearn: 0.1731105\ttotal: 20.1s\tremaining: 11.4s\n",
            "637:\tlearn: 0.1730431\ttotal: 20.1s\tremaining: 11.4s\n",
            "638:\tlearn: 0.1729841\ttotal: 20.1s\tremaining: 11.4s\n",
            "639:\tlearn: 0.1729125\ttotal: 20.2s\tremaining: 11.3s\n",
            "640:\tlearn: 0.1728663\ttotal: 20.2s\tremaining: 11.3s\n",
            "641:\tlearn: 0.1728001\ttotal: 20.2s\tremaining: 11.3s\n",
            "642:\tlearn: 0.1727278\ttotal: 20.3s\tremaining: 11.2s\n",
            "643:\tlearn: 0.1726474\ttotal: 20.3s\tremaining: 11.2s\n",
            "644:\tlearn: 0.1725455\ttotal: 20.3s\tremaining: 11.2s\n",
            "645:\tlearn: 0.1724278\ttotal: 20.3s\tremaining: 11.1s\n",
            "646:\tlearn: 0.1722830\ttotal: 20.4s\tremaining: 11.1s\n",
            "647:\tlearn: 0.1722010\ttotal: 20.4s\tremaining: 11.1s\n",
            "648:\tlearn: 0.1721674\ttotal: 20.4s\tremaining: 11.1s\n",
            "649:\tlearn: 0.1721009\ttotal: 20.5s\tremaining: 11s\n",
            "650:\tlearn: 0.1719834\ttotal: 20.5s\tremaining: 11s\n",
            "651:\tlearn: 0.1718621\ttotal: 20.5s\tremaining: 11s\n",
            "652:\tlearn: 0.1717695\ttotal: 20.6s\tremaining: 10.9s\n",
            "653:\tlearn: 0.1716915\ttotal: 20.6s\tremaining: 10.9s\n",
            "654:\tlearn: 0.1716578\ttotal: 20.6s\tremaining: 10.9s\n",
            "655:\tlearn: 0.1716265\ttotal: 20.6s\tremaining: 10.8s\n",
            "656:\tlearn: 0.1715410\ttotal: 20.7s\tremaining: 10.8s\n",
            "657:\tlearn: 0.1714260\ttotal: 20.7s\tremaining: 10.8s\n",
            "658:\tlearn: 0.1713764\ttotal: 20.7s\tremaining: 10.7s\n",
            "659:\tlearn: 0.1713243\ttotal: 20.8s\tremaining: 10.7s\n",
            "660:\tlearn: 0.1712685\ttotal: 20.8s\tremaining: 10.7s\n",
            "661:\tlearn: 0.1711902\ttotal: 20.8s\tremaining: 10.6s\n",
            "662:\tlearn: 0.1711260\ttotal: 20.9s\tremaining: 10.6s\n",
            "663:\tlearn: 0.1710584\ttotal: 20.9s\tremaining: 10.6s\n",
            "664:\tlearn: 0.1709573\ttotal: 20.9s\tremaining: 10.5s\n",
            "665:\tlearn: 0.1708925\ttotal: 21s\tremaining: 10.5s\n",
            "666:\tlearn: 0.1708609\ttotal: 21s\tremaining: 10.5s\n",
            "667:\tlearn: 0.1707208\ttotal: 21s\tremaining: 10.4s\n",
            "668:\tlearn: 0.1706972\ttotal: 21s\tremaining: 10.4s\n",
            "669:\tlearn: 0.1706157\ttotal: 21.1s\tremaining: 10.4s\n",
            "670:\tlearn: 0.1705659\ttotal: 21.1s\tremaining: 10.3s\n",
            "671:\tlearn: 0.1704735\ttotal: 21.1s\tremaining: 10.3s\n",
            "672:\tlearn: 0.1703760\ttotal: 21.2s\tremaining: 10.3s\n",
            "673:\tlearn: 0.1702541\ttotal: 21.2s\tremaining: 10.3s\n",
            "674:\tlearn: 0.1701897\ttotal: 21.2s\tremaining: 10.2s\n",
            "675:\tlearn: 0.1701076\ttotal: 21.3s\tremaining: 10.2s\n",
            "676:\tlearn: 0.1700329\ttotal: 21.3s\tremaining: 10.2s\n",
            "677:\tlearn: 0.1699521\ttotal: 21.3s\tremaining: 10.1s\n",
            "678:\tlearn: 0.1699189\ttotal: 21.4s\tremaining: 10.1s\n",
            "679:\tlearn: 0.1697381\ttotal: 21.4s\tremaining: 10.1s\n",
            "680:\tlearn: 0.1695919\ttotal: 21.4s\tremaining: 10s\n",
            "681:\tlearn: 0.1695353\ttotal: 21.4s\tremaining: 10s\n",
            "682:\tlearn: 0.1693525\ttotal: 21.5s\tremaining: 9.97s\n",
            "683:\tlearn: 0.1693073\ttotal: 21.5s\tremaining: 9.94s\n",
            "684:\tlearn: 0.1692588\ttotal: 21.5s\tremaining: 9.91s\n",
            "685:\tlearn: 0.1691704\ttotal: 21.6s\tremaining: 9.88s\n",
            "686:\tlearn: 0.1691033\ttotal: 21.6s\tremaining: 9.84s\n",
            "687:\tlearn: 0.1690214\ttotal: 21.6s\tremaining: 9.81s\n",
            "688:\tlearn: 0.1688609\ttotal: 21.7s\tremaining: 9.78s\n",
            "689:\tlearn: 0.1687233\ttotal: 21.7s\tremaining: 9.75s\n",
            "690:\tlearn: 0.1686627\ttotal: 21.7s\tremaining: 9.72s\n",
            "691:\tlearn: 0.1685963\ttotal: 21.8s\tremaining: 9.69s\n",
            "692:\tlearn: 0.1685569\ttotal: 21.8s\tremaining: 9.65s\n",
            "693:\tlearn: 0.1685178\ttotal: 21.8s\tremaining: 9.62s\n",
            "694:\tlearn: 0.1684030\ttotal: 21.9s\tremaining: 9.59s\n",
            "695:\tlearn: 0.1683358\ttotal: 21.9s\tremaining: 9.56s\n",
            "696:\tlearn: 0.1681617\ttotal: 21.9s\tremaining: 9.53s\n",
            "697:\tlearn: 0.1680189\ttotal: 21.9s\tremaining: 9.49s\n",
            "698:\tlearn: 0.1679924\ttotal: 22s\tremaining: 9.46s\n",
            "699:\tlearn: 0.1679413\ttotal: 22s\tremaining: 9.43s\n",
            "700:\tlearn: 0.1678957\ttotal: 22s\tremaining: 9.39s\n",
            "701:\tlearn: 0.1677839\ttotal: 22.1s\tremaining: 9.37s\n",
            "702:\tlearn: 0.1677462\ttotal: 22.1s\tremaining: 9.33s\n",
            "703:\tlearn: 0.1676957\ttotal: 22.1s\tremaining: 9.3s\n",
            "704:\tlearn: 0.1676580\ttotal: 22.2s\tremaining: 9.27s\n",
            "705:\tlearn: 0.1675820\ttotal: 22.2s\tremaining: 9.24s\n",
            "706:\tlearn: 0.1675380\ttotal: 22.2s\tremaining: 9.2s\n",
            "707:\tlearn: 0.1674631\ttotal: 22.3s\tremaining: 9.18s\n",
            "708:\tlearn: 0.1672844\ttotal: 22.3s\tremaining: 9.15s\n",
            "709:\tlearn: 0.1672168\ttotal: 22.3s\tremaining: 9.12s\n",
            "710:\tlearn: 0.1671393\ttotal: 22.3s\tremaining: 9.08s\n",
            "711:\tlearn: 0.1670910\ttotal: 22.4s\tremaining: 9.05s\n",
            "712:\tlearn: 0.1670198\ttotal: 22.4s\tremaining: 9.02s\n",
            "713:\tlearn: 0.1669041\ttotal: 22.4s\tremaining: 8.99s\n",
            "714:\tlearn: 0.1668746\ttotal: 22.5s\tremaining: 8.95s\n",
            "715:\tlearn: 0.1666807\ttotal: 22.5s\tremaining: 8.92s\n",
            "716:\tlearn: 0.1666234\ttotal: 22.5s\tremaining: 8.89s\n",
            "717:\tlearn: 0.1665903\ttotal: 22.6s\tremaining: 8.86s\n",
            "718:\tlearn: 0.1664830\ttotal: 22.6s\tremaining: 8.83s\n",
            "719:\tlearn: 0.1663826\ttotal: 22.6s\tremaining: 8.79s\n",
            "720:\tlearn: 0.1662369\ttotal: 22.6s\tremaining: 8.76s\n",
            "721:\tlearn: 0.1659358\ttotal: 22.7s\tremaining: 8.73s\n",
            "722:\tlearn: 0.1659132\ttotal: 22.7s\tremaining: 8.7s\n",
            "723:\tlearn: 0.1658198\ttotal: 22.7s\tremaining: 8.67s\n",
            "724:\tlearn: 0.1657553\ttotal: 22.8s\tremaining: 8.64s\n",
            "725:\tlearn: 0.1656374\ttotal: 22.8s\tremaining: 8.6s\n",
            "726:\tlearn: 0.1655857\ttotal: 22.8s\tremaining: 8.57s\n",
            "727:\tlearn: 0.1654732\ttotal: 22.9s\tremaining: 8.54s\n",
            "728:\tlearn: 0.1653845\ttotal: 22.9s\tremaining: 8.51s\n",
            "729:\tlearn: 0.1653470\ttotal: 22.9s\tremaining: 8.48s\n",
            "730:\tlearn: 0.1652845\ttotal: 23s\tremaining: 8.45s\n",
            "731:\tlearn: 0.1652099\ttotal: 23s\tremaining: 8.41s\n",
            "732:\tlearn: 0.1651451\ttotal: 23s\tremaining: 8.38s\n",
            "733:\tlearn: 0.1650962\ttotal: 23s\tremaining: 8.35s\n",
            "734:\tlearn: 0.1650602\ttotal: 23.1s\tremaining: 8.32s\n",
            "735:\tlearn: 0.1649826\ttotal: 23.1s\tremaining: 8.29s\n",
            "736:\tlearn: 0.1649089\ttotal: 23.1s\tremaining: 8.26s\n",
            "737:\tlearn: 0.1647055\ttotal: 23.2s\tremaining: 8.22s\n",
            "738:\tlearn: 0.1646602\ttotal: 23.2s\tremaining: 8.19s\n",
            "739:\tlearn: 0.1644395\ttotal: 23.2s\tremaining: 8.16s\n",
            "740:\tlearn: 0.1643476\ttotal: 23.3s\tremaining: 8.13s\n",
            "741:\tlearn: 0.1642657\ttotal: 23.3s\tremaining: 8.1s\n",
            "742:\tlearn: 0.1641933\ttotal: 23.3s\tremaining: 8.07s\n",
            "743:\tlearn: 0.1641186\ttotal: 23.4s\tremaining: 8.04s\n",
            "744:\tlearn: 0.1640484\ttotal: 23.4s\tremaining: 8.01s\n",
            "745:\tlearn: 0.1640152\ttotal: 23.4s\tremaining: 7.98s\n",
            "746:\tlearn: 0.1639389\ttotal: 23.5s\tremaining: 7.95s\n",
            "747:\tlearn: 0.1638760\ttotal: 23.5s\tremaining: 7.91s\n",
            "748:\tlearn: 0.1638247\ttotal: 23.5s\tremaining: 7.88s\n",
            "749:\tlearn: 0.1637164\ttotal: 23.5s\tremaining: 7.85s\n",
            "750:\tlearn: 0.1636529\ttotal: 23.6s\tremaining: 7.82s\n",
            "751:\tlearn: 0.1635800\ttotal: 23.6s\tremaining: 7.79s\n",
            "752:\tlearn: 0.1635438\ttotal: 23.6s\tremaining: 7.75s\n",
            "753:\tlearn: 0.1634349\ttotal: 23.7s\tremaining: 7.72s\n",
            "754:\tlearn: 0.1633858\ttotal: 23.7s\tremaining: 7.69s\n",
            "755:\tlearn: 0.1633356\ttotal: 23.7s\tremaining: 7.66s\n",
            "756:\tlearn: 0.1632764\ttotal: 23.8s\tremaining: 7.63s\n",
            "757:\tlearn: 0.1630703\ttotal: 23.8s\tremaining: 7.59s\n",
            "758:\tlearn: 0.1629778\ttotal: 23.8s\tremaining: 7.56s\n",
            "759:\tlearn: 0.1629047\ttotal: 23.9s\tremaining: 7.53s\n",
            "760:\tlearn: 0.1628019\ttotal: 23.9s\tremaining: 7.5s\n",
            "761:\tlearn: 0.1627535\ttotal: 23.9s\tremaining: 7.47s\n",
            "762:\tlearn: 0.1626573\ttotal: 23.9s\tremaining: 7.43s\n",
            "763:\tlearn: 0.1625741\ttotal: 24s\tremaining: 7.4s\n",
            "764:\tlearn: 0.1624811\ttotal: 24s\tremaining: 7.37s\n",
            "765:\tlearn: 0.1624220\ttotal: 24s\tremaining: 7.34s\n",
            "766:\tlearn: 0.1623015\ttotal: 24.1s\tremaining: 7.31s\n",
            "767:\tlearn: 0.1622677\ttotal: 24.1s\tremaining: 7.28s\n",
            "768:\tlearn: 0.1621555\ttotal: 24.1s\tremaining: 7.25s\n",
            "769:\tlearn: 0.1620739\ttotal: 24.2s\tremaining: 7.21s\n",
            "770:\tlearn: 0.1619531\ttotal: 24.2s\tremaining: 7.18s\n",
            "771:\tlearn: 0.1618938\ttotal: 24.2s\tremaining: 7.15s\n",
            "772:\tlearn: 0.1618353\ttotal: 24.3s\tremaining: 7.12s\n",
            "773:\tlearn: 0.1617725\ttotal: 24.3s\tremaining: 7.09s\n",
            "774:\tlearn: 0.1617288\ttotal: 24.3s\tremaining: 7.06s\n",
            "775:\tlearn: 0.1616488\ttotal: 24.3s\tremaining: 7.03s\n",
            "776:\tlearn: 0.1616274\ttotal: 24.4s\tremaining: 7s\n",
            "777:\tlearn: 0.1615430\ttotal: 24.4s\tremaining: 6.96s\n",
            "778:\tlearn: 0.1615151\ttotal: 24.4s\tremaining: 6.93s\n",
            "779:\tlearn: 0.1613748\ttotal: 24.5s\tremaining: 6.9s\n",
            "780:\tlearn: 0.1611919\ttotal: 24.5s\tremaining: 6.87s\n",
            "781:\tlearn: 0.1610909\ttotal: 24.5s\tremaining: 6.84s\n",
            "782:\tlearn: 0.1610051\ttotal: 24.6s\tremaining: 6.81s\n",
            "783:\tlearn: 0.1608629\ttotal: 24.6s\tremaining: 6.78s\n",
            "784:\tlearn: 0.1605236\ttotal: 24.6s\tremaining: 6.75s\n",
            "785:\tlearn: 0.1604898\ttotal: 24.7s\tremaining: 6.71s\n",
            "786:\tlearn: 0.1603147\ttotal: 24.7s\tremaining: 6.68s\n",
            "787:\tlearn: 0.1602262\ttotal: 24.7s\tremaining: 6.65s\n",
            "788:\tlearn: 0.1601016\ttotal: 24.8s\tremaining: 6.62s\n",
            "789:\tlearn: 0.1600182\ttotal: 24.8s\tremaining: 6.59s\n",
            "790:\tlearn: 0.1599669\ttotal: 24.8s\tremaining: 6.56s\n",
            "791:\tlearn: 0.1599213\ttotal: 24.8s\tremaining: 6.52s\n",
            "792:\tlearn: 0.1598706\ttotal: 24.9s\tremaining: 6.49s\n",
            "793:\tlearn: 0.1598267\ttotal: 24.9s\tremaining: 6.46s\n",
            "794:\tlearn: 0.1597521\ttotal: 24.9s\tremaining: 6.43s\n",
            "795:\tlearn: 0.1596616\ttotal: 25s\tremaining: 6.4s\n",
            "796:\tlearn: 0.1595602\ttotal: 25s\tremaining: 6.37s\n",
            "797:\tlearn: 0.1595003\ttotal: 25s\tremaining: 6.33s\n",
            "798:\tlearn: 0.1594089\ttotal: 25.1s\tremaining: 6.3s\n",
            "799:\tlearn: 0.1593407\ttotal: 25.1s\tremaining: 6.27s\n",
            "800:\tlearn: 0.1593174\ttotal: 25.1s\tremaining: 6.24s\n",
            "801:\tlearn: 0.1592557\ttotal: 25.1s\tremaining: 6.21s\n",
            "802:\tlearn: 0.1591439\ttotal: 25.2s\tremaining: 6.18s\n",
            "803:\tlearn: 0.1590733\ttotal: 25.2s\tremaining: 6.14s\n",
            "804:\tlearn: 0.1589719\ttotal: 25.2s\tremaining: 6.12s\n",
            "805:\tlearn: 0.1589101\ttotal: 25.3s\tremaining: 6.08s\n",
            "806:\tlearn: 0.1588420\ttotal: 25.3s\tremaining: 6.05s\n",
            "807:\tlearn: 0.1587861\ttotal: 25.3s\tremaining: 6.02s\n",
            "808:\tlearn: 0.1587313\ttotal: 25.4s\tremaining: 5.99s\n",
            "809:\tlearn: 0.1586617\ttotal: 25.4s\tremaining: 5.96s\n",
            "810:\tlearn: 0.1586215\ttotal: 25.4s\tremaining: 5.93s\n",
            "811:\tlearn: 0.1585672\ttotal: 25.5s\tremaining: 5.89s\n",
            "812:\tlearn: 0.1584899\ttotal: 25.5s\tremaining: 5.86s\n",
            "813:\tlearn: 0.1584423\ttotal: 25.5s\tremaining: 5.83s\n",
            "814:\tlearn: 0.1583892\ttotal: 25.6s\tremaining: 5.8s\n",
            "815:\tlearn: 0.1582925\ttotal: 25.6s\tremaining: 5.77s\n",
            "816:\tlearn: 0.1582599\ttotal: 25.6s\tremaining: 5.74s\n",
            "817:\tlearn: 0.1582252\ttotal: 25.6s\tremaining: 5.71s\n",
            "818:\tlearn: 0.1581807\ttotal: 25.7s\tremaining: 5.67s\n",
            "819:\tlearn: 0.1580857\ttotal: 25.7s\tremaining: 5.64s\n",
            "820:\tlearn: 0.1580345\ttotal: 25.7s\tremaining: 5.61s\n",
            "821:\tlearn: 0.1579976\ttotal: 25.8s\tremaining: 5.58s\n",
            "822:\tlearn: 0.1579373\ttotal: 25.8s\tremaining: 5.55s\n",
            "823:\tlearn: 0.1578621\ttotal: 25.8s\tremaining: 5.52s\n",
            "824:\tlearn: 0.1577506\ttotal: 25.9s\tremaining: 5.48s\n",
            "825:\tlearn: 0.1576806\ttotal: 25.9s\tremaining: 5.45s\n",
            "826:\tlearn: 0.1576504\ttotal: 25.9s\tremaining: 5.42s\n",
            "827:\tlearn: 0.1576231\ttotal: 25.9s\tremaining: 5.39s\n",
            "828:\tlearn: 0.1575628\ttotal: 26s\tremaining: 5.36s\n",
            "829:\tlearn: 0.1574892\ttotal: 26s\tremaining: 5.33s\n",
            "830:\tlearn: 0.1574437\ttotal: 26s\tremaining: 5.29s\n",
            "831:\tlearn: 0.1572812\ttotal: 26.1s\tremaining: 5.26s\n",
            "832:\tlearn: 0.1572347\ttotal: 26.1s\tremaining: 5.23s\n",
            "833:\tlearn: 0.1571316\ttotal: 26.1s\tremaining: 5.2s\n",
            "834:\tlearn: 0.1570643\ttotal: 26.2s\tremaining: 5.17s\n",
            "835:\tlearn: 0.1569961\ttotal: 26.2s\tremaining: 5.14s\n",
            "836:\tlearn: 0.1569229\ttotal: 26.2s\tremaining: 5.11s\n",
            "837:\tlearn: 0.1568951\ttotal: 26.3s\tremaining: 5.08s\n",
            "838:\tlearn: 0.1568134\ttotal: 26.3s\tremaining: 5.05s\n",
            "839:\tlearn: 0.1567712\ttotal: 26.3s\tremaining: 5.01s\n",
            "840:\tlearn: 0.1566679\ttotal: 26.4s\tremaining: 4.98s\n",
            "841:\tlearn: 0.1565475\ttotal: 26.4s\tremaining: 4.95s\n",
            "842:\tlearn: 0.1565074\ttotal: 26.4s\tremaining: 4.92s\n",
            "843:\tlearn: 0.1564463\ttotal: 26.5s\tremaining: 4.89s\n",
            "844:\tlearn: 0.1564108\ttotal: 26.5s\tremaining: 4.86s\n",
            "845:\tlearn: 0.1563547\ttotal: 26.5s\tremaining: 4.83s\n",
            "846:\tlearn: 0.1562886\ttotal: 26.5s\tremaining: 4.79s\n",
            "847:\tlearn: 0.1562245\ttotal: 26.6s\tremaining: 4.76s\n",
            "848:\tlearn: 0.1560959\ttotal: 26.6s\tremaining: 4.73s\n",
            "849:\tlearn: 0.1559062\ttotal: 26.6s\tremaining: 4.7s\n",
            "850:\tlearn: 0.1558637\ttotal: 26.7s\tremaining: 4.67s\n",
            "851:\tlearn: 0.1558081\ttotal: 26.7s\tremaining: 4.64s\n",
            "852:\tlearn: 0.1557689\ttotal: 26.7s\tremaining: 4.61s\n",
            "853:\tlearn: 0.1557029\ttotal: 26.8s\tremaining: 4.57s\n",
            "854:\tlearn: 0.1556467\ttotal: 26.8s\tremaining: 4.54s\n",
            "855:\tlearn: 0.1555283\ttotal: 26.8s\tremaining: 4.51s\n",
            "856:\tlearn: 0.1554476\ttotal: 26.9s\tremaining: 4.48s\n",
            "857:\tlearn: 0.1553937\ttotal: 26.9s\tremaining: 4.45s\n",
            "858:\tlearn: 0.1552212\ttotal: 26.9s\tremaining: 4.42s\n",
            "859:\tlearn: 0.1551511\ttotal: 26.9s\tremaining: 4.38s\n",
            "860:\tlearn: 0.1551313\ttotal: 27s\tremaining: 4.35s\n",
            "861:\tlearn: 0.1550459\ttotal: 27s\tremaining: 4.32s\n",
            "862:\tlearn: 0.1550014\ttotal: 27s\tremaining: 4.29s\n",
            "863:\tlearn: 0.1549553\ttotal: 27.1s\tremaining: 4.26s\n",
            "864:\tlearn: 0.1549076\ttotal: 27.1s\tremaining: 4.23s\n",
            "865:\tlearn: 0.1548071\ttotal: 27.1s\tremaining: 4.2s\n",
            "866:\tlearn: 0.1547851\ttotal: 27.2s\tremaining: 4.17s\n",
            "867:\tlearn: 0.1547465\ttotal: 27.2s\tremaining: 4.13s\n",
            "868:\tlearn: 0.1546808\ttotal: 27.2s\tremaining: 4.1s\n",
            "869:\tlearn: 0.1546365\ttotal: 27.3s\tremaining: 4.07s\n",
            "870:\tlearn: 0.1545608\ttotal: 27.3s\tremaining: 4.04s\n",
            "871:\tlearn: 0.1544792\ttotal: 27.3s\tremaining: 4.01s\n",
            "872:\tlearn: 0.1544071\ttotal: 27.3s\tremaining: 3.98s\n",
            "873:\tlearn: 0.1542645\ttotal: 27.4s\tremaining: 3.95s\n",
            "874:\tlearn: 0.1541645\ttotal: 27.4s\tremaining: 3.92s\n",
            "875:\tlearn: 0.1541508\ttotal: 27.4s\tremaining: 3.88s\n",
            "876:\tlearn: 0.1540668\ttotal: 27.5s\tremaining: 3.85s\n",
            "877:\tlearn: 0.1540024\ttotal: 27.5s\tremaining: 3.82s\n",
            "878:\tlearn: 0.1538747\ttotal: 27.5s\tremaining: 3.79s\n",
            "879:\tlearn: 0.1537853\ttotal: 27.6s\tremaining: 3.76s\n",
            "880:\tlearn: 0.1537538\ttotal: 27.6s\tremaining: 3.73s\n",
            "881:\tlearn: 0.1537116\ttotal: 27.6s\tremaining: 3.69s\n",
            "882:\tlearn: 0.1535602\ttotal: 27.7s\tremaining: 3.66s\n",
            "883:\tlearn: 0.1535312\ttotal: 27.7s\tremaining: 3.63s\n",
            "884:\tlearn: 0.1534673\ttotal: 27.7s\tremaining: 3.6s\n",
            "885:\tlearn: 0.1534103\ttotal: 27.8s\tremaining: 3.57s\n",
            "886:\tlearn: 0.1533635\ttotal: 27.8s\tremaining: 3.54s\n",
            "887:\tlearn: 0.1533116\ttotal: 27.8s\tremaining: 3.51s\n",
            "888:\tlearn: 0.1532449\ttotal: 27.9s\tremaining: 3.48s\n",
            "889:\tlearn: 0.1531691\ttotal: 27.9s\tremaining: 3.45s\n",
            "890:\tlearn: 0.1531333\ttotal: 27.9s\tremaining: 3.42s\n",
            "891:\tlearn: 0.1531100\ttotal: 27.9s\tremaining: 3.38s\n",
            "892:\tlearn: 0.1530250\ttotal: 28s\tremaining: 3.35s\n",
            "893:\tlearn: 0.1529905\ttotal: 28s\tremaining: 3.32s\n",
            "894:\tlearn: 0.1529086\ttotal: 28s\tremaining: 3.29s\n",
            "895:\tlearn: 0.1527951\ttotal: 28.1s\tremaining: 3.26s\n",
            "896:\tlearn: 0.1527498\ttotal: 28.1s\tremaining: 3.23s\n",
            "897:\tlearn: 0.1527211\ttotal: 28.1s\tremaining: 3.19s\n",
            "898:\tlearn: 0.1524944\ttotal: 28.2s\tremaining: 3.16s\n",
            "899:\tlearn: 0.1523518\ttotal: 28.2s\tremaining: 3.13s\n",
            "900:\tlearn: 0.1522869\ttotal: 28.2s\tremaining: 3.1s\n",
            "901:\tlearn: 0.1522434\ttotal: 28.3s\tremaining: 3.07s\n",
            "902:\tlearn: 0.1521017\ttotal: 28.3s\tremaining: 3.04s\n",
            "903:\tlearn: 0.1518651\ttotal: 28.3s\tremaining: 3.01s\n",
            "904:\tlearn: 0.1518447\ttotal: 28.4s\tremaining: 2.98s\n",
            "905:\tlearn: 0.1518079\ttotal: 28.4s\tremaining: 2.94s\n",
            "906:\tlearn: 0.1517533\ttotal: 28.4s\tremaining: 2.91s\n",
            "907:\tlearn: 0.1517256\ttotal: 28.4s\tremaining: 2.88s\n",
            "908:\tlearn: 0.1516546\ttotal: 28.5s\tremaining: 2.85s\n",
            "909:\tlearn: 0.1515909\ttotal: 28.5s\tremaining: 2.82s\n",
            "910:\tlearn: 0.1515317\ttotal: 28.5s\tremaining: 2.79s\n",
            "911:\tlearn: 0.1514844\ttotal: 28.6s\tremaining: 2.76s\n",
            "912:\tlearn: 0.1513505\ttotal: 28.6s\tremaining: 2.73s\n",
            "913:\tlearn: 0.1512960\ttotal: 28.6s\tremaining: 2.69s\n",
            "914:\tlearn: 0.1512283\ttotal: 28.7s\tremaining: 2.66s\n",
            "915:\tlearn: 0.1511801\ttotal: 28.7s\tremaining: 2.63s\n",
            "916:\tlearn: 0.1511168\ttotal: 28.7s\tremaining: 2.6s\n",
            "917:\tlearn: 0.1509909\ttotal: 28.8s\tremaining: 2.57s\n",
            "918:\tlearn: 0.1509349\ttotal: 28.8s\tremaining: 2.54s\n",
            "919:\tlearn: 0.1507837\ttotal: 28.8s\tremaining: 2.5s\n",
            "920:\tlearn: 0.1507424\ttotal: 28.8s\tremaining: 2.47s\n",
            "921:\tlearn: 0.1506857\ttotal: 28.9s\tremaining: 2.44s\n",
            "922:\tlearn: 0.1505952\ttotal: 28.9s\tremaining: 2.41s\n",
            "923:\tlearn: 0.1505340\ttotal: 28.9s\tremaining: 2.38s\n",
            "924:\tlearn: 0.1504645\ttotal: 29s\tremaining: 2.35s\n",
            "925:\tlearn: 0.1504162\ttotal: 29s\tremaining: 2.32s\n",
            "926:\tlearn: 0.1503551\ttotal: 29s\tremaining: 2.29s\n",
            "927:\tlearn: 0.1503134\ttotal: 29.1s\tremaining: 2.25s\n",
            "928:\tlearn: 0.1502562\ttotal: 29.1s\tremaining: 2.22s\n",
            "929:\tlearn: 0.1501972\ttotal: 29.1s\tremaining: 2.19s\n",
            "930:\tlearn: 0.1501508\ttotal: 29.1s\tremaining: 2.16s\n",
            "931:\tlearn: 0.1501162\ttotal: 29.2s\tremaining: 2.13s\n",
            "932:\tlearn: 0.1500824\ttotal: 29.2s\tremaining: 2.1s\n",
            "933:\tlearn: 0.1500078\ttotal: 29.2s\tremaining: 2.07s\n",
            "934:\tlearn: 0.1499706\ttotal: 29.3s\tremaining: 2.04s\n",
            "935:\tlearn: 0.1499161\ttotal: 29.3s\tremaining: 2s\n",
            "936:\tlearn: 0.1498646\ttotal: 29.3s\tremaining: 1.97s\n",
            "937:\tlearn: 0.1498101\ttotal: 29.4s\tremaining: 1.94s\n",
            "938:\tlearn: 0.1497319\ttotal: 29.4s\tremaining: 1.91s\n",
            "939:\tlearn: 0.1496761\ttotal: 29.4s\tremaining: 1.88s\n",
            "940:\tlearn: 0.1496162\ttotal: 29.5s\tremaining: 1.85s\n",
            "941:\tlearn: 0.1495624\ttotal: 29.5s\tremaining: 1.82s\n",
            "942:\tlearn: 0.1495322\ttotal: 29.5s\tremaining: 1.78s\n",
            "943:\tlearn: 0.1494335\ttotal: 29.6s\tremaining: 1.75s\n",
            "944:\tlearn: 0.1493815\ttotal: 29.6s\tremaining: 1.72s\n",
            "945:\tlearn: 0.1492876\ttotal: 29.6s\tremaining: 1.69s\n",
            "946:\tlearn: 0.1492577\ttotal: 29.7s\tremaining: 1.66s\n",
            "947:\tlearn: 0.1491835\ttotal: 29.7s\tremaining: 1.63s\n",
            "948:\tlearn: 0.1491234\ttotal: 29.7s\tremaining: 1.6s\n",
            "949:\tlearn: 0.1490722\ttotal: 29.8s\tremaining: 1.57s\n",
            "950:\tlearn: 0.1490392\ttotal: 29.8s\tremaining: 1.53s\n",
            "951:\tlearn: 0.1489708\ttotal: 29.8s\tremaining: 1.5s\n",
            "952:\tlearn: 0.1489298\ttotal: 29.8s\tremaining: 1.47s\n",
            "953:\tlearn: 0.1488863\ttotal: 29.9s\tremaining: 1.44s\n",
            "954:\tlearn: 0.1488348\ttotal: 29.9s\tremaining: 1.41s\n",
            "955:\tlearn: 0.1487724\ttotal: 29.9s\tremaining: 1.38s\n",
            "956:\tlearn: 0.1487221\ttotal: 30s\tremaining: 1.35s\n",
            "957:\tlearn: 0.1485793\ttotal: 30s\tremaining: 1.31s\n",
            "958:\tlearn: 0.1484919\ttotal: 30s\tremaining: 1.28s\n",
            "959:\tlearn: 0.1484353\ttotal: 30.1s\tremaining: 1.25s\n",
            "960:\tlearn: 0.1483956\ttotal: 30.1s\tremaining: 1.22s\n",
            "961:\tlearn: 0.1483222\ttotal: 30.1s\tremaining: 1.19s\n",
            "962:\tlearn: 0.1482754\ttotal: 30.2s\tremaining: 1.16s\n",
            "963:\tlearn: 0.1482197\ttotal: 30.2s\tremaining: 1.13s\n",
            "964:\tlearn: 0.1481386\ttotal: 30.2s\tremaining: 1.1s\n",
            "965:\tlearn: 0.1480619\ttotal: 30.3s\tremaining: 1.06s\n",
            "966:\tlearn: 0.1480241\ttotal: 30.3s\tremaining: 1.03s\n",
            "967:\tlearn: 0.1479795\ttotal: 30.3s\tremaining: 1s\n",
            "968:\tlearn: 0.1478944\ttotal: 30.4s\tremaining: 971ms\n",
            "969:\tlearn: 0.1478400\ttotal: 30.4s\tremaining: 940ms\n",
            "970:\tlearn: 0.1477549\ttotal: 30.4s\tremaining: 908ms\n",
            "971:\tlearn: 0.1476923\ttotal: 30.4s\tremaining: 877ms\n",
            "972:\tlearn: 0.1476561\ttotal: 30.5s\tremaining: 846ms\n",
            "973:\tlearn: 0.1476073\ttotal: 30.5s\tremaining: 814ms\n",
            "974:\tlearn: 0.1475167\ttotal: 30.5s\tremaining: 783ms\n",
            "975:\tlearn: 0.1474505\ttotal: 30.6s\tremaining: 752ms\n",
            "976:\tlearn: 0.1474142\ttotal: 30.6s\tremaining: 720ms\n",
            "977:\tlearn: 0.1473719\ttotal: 30.6s\tremaining: 689ms\n",
            "978:\tlearn: 0.1473399\ttotal: 30.7s\tremaining: 658ms\n",
            "979:\tlearn: 0.1473030\ttotal: 30.7s\tremaining: 626ms\n",
            "980:\tlearn: 0.1472574\ttotal: 30.7s\tremaining: 595ms\n",
            "981:\tlearn: 0.1472277\ttotal: 30.7s\tremaining: 564ms\n",
            "982:\tlearn: 0.1472035\ttotal: 30.8s\tremaining: 532ms\n",
            "983:\tlearn: 0.1471352\ttotal: 30.8s\tremaining: 501ms\n",
            "984:\tlearn: 0.1469533\ttotal: 30.8s\tremaining: 470ms\n",
            "985:\tlearn: 0.1469004\ttotal: 30.9s\tremaining: 438ms\n",
            "986:\tlearn: 0.1468211\ttotal: 30.9s\tremaining: 407ms\n",
            "987:\tlearn: 0.1467710\ttotal: 30.9s\tremaining: 376ms\n",
            "988:\tlearn: 0.1467149\ttotal: 31s\tremaining: 344ms\n",
            "989:\tlearn: 0.1466890\ttotal: 31s\tremaining: 313ms\n",
            "990:\tlearn: 0.1466259\ttotal: 31s\tremaining: 282ms\n",
            "991:\tlearn: 0.1465049\ttotal: 31.1s\tremaining: 250ms\n",
            "992:\tlearn: 0.1464543\ttotal: 31.1s\tremaining: 219ms\n",
            "993:\tlearn: 0.1464016\ttotal: 31.1s\tremaining: 188ms\n",
            "994:\tlearn: 0.1463732\ttotal: 31.1s\tremaining: 156ms\n",
            "995:\tlearn: 0.1463060\ttotal: 31.2s\tremaining: 125ms\n",
            "996:\tlearn: 0.1462420\ttotal: 31.2s\tremaining: 93.9ms\n",
            "997:\tlearn: 0.1461303\ttotal: 31.3s\tremaining: 62.6ms\n",
            "998:\tlearn: 0.1460401\ttotal: 31.3s\tremaining: 31.3ms\n",
            "999:\tlearn: 0.1459884\ttotal: 31.3s\tremaining: 0us\n"
          ],
          "name": "stdout"
        },
        {
          "output_type": "execute_result",
          "data": {
            "text/plain": [
              "VotingClassifier(estimators=[('clf1',\n",
              "                              LogisticRegression(C=1.0, class_weight=None,\n",
              "                                                 dual=False, fit_intercept=True,\n",
              "                                                 intercept_scaling=1,\n",
              "                                                 l1_ratio=None, max_iter=100,\n",
              "                                                 multi_class='auto',\n",
              "                                                 n_jobs=None, penalty='l2',\n",
              "                                                 random_state=0, solver='lbfgs',\n",
              "                                                 tol=0.0001, verbose=0,\n",
              "                                                 warm_start=False)),\n",
              "                             ('clf2',\n",
              "                              GradientBoostingClassifier(ccp_alpha=0.0,\n",
              "                                                         criterion='friedman_mse',\n",
              "                                                         init=...\n",
              "                                                         min_samples_leaf=1,\n",
              "                                                         min_samples_split=2,\n",
              "                                                         min_weight_fraction_leaf=0.0,\n",
              "                                                         n_estimators=100,\n",
              "                                                         n_iter_no_change=None,\n",
              "                                                         presort='deprecated',\n",
              "                                                         random_state=0,\n",
              "                                                         subsample=1.0,\n",
              "                                                         tol=0.0001,\n",
              "                                                         validation_fraction=0.1,\n",
              "                                                         verbose=0,\n",
              "                                                         warm_start=False)),\n",
              "                             ('clf4',\n",
              "                              <catboost.core.CatBoostClassifier object at 0x7f4b64e3c6d8>)],\n",
              "                 flatten_transform=True, n_jobs=None, voting='soft',\n",
              "                 weights=None)"
            ]
          },
          "metadata": {
            "tags": []
          },
          "execution_count": 436
        }
      ]
    },
    {
      "cell_type": "code",
      "metadata": {
        "id": "J6sbHpcZuHUx",
        "colab": {
          "base_uri": "https://localhost:8080/",
          "height": 370
        },
        "outputId": "7be429b6-c4c1-43b2-ff18-885095301a61"
      },
      "source": [
        "main_test=test_df.to_numpy()\n",
        "print(main_test.shape)\n",
        "final_pred_breed=model_breed.predict(test_df)\n"
      ],
      "execution_count": null,
      "outputs": [
        {
          "output_type": "stream",
          "text": [
            "(8072, 7)\n"
          ],
          "name": "stdout"
        },
        {
          "output_type": "error",
          "ename": "ValueError",
          "evalue": "ignored",
          "traceback": [
            "\u001b[0;31m---------------------------------------------------------------------------\u001b[0m",
            "\u001b[0;31mValueError\u001b[0m                                Traceback (most recent call last)",
            "\u001b[0;32m<ipython-input-99-4b20be4552a7>\u001b[0m in \u001b[0;36m<module>\u001b[0;34m()\u001b[0m\n\u001b[1;32m      1\u001b[0m \u001b[0mmain_test\u001b[0m\u001b[0;34m=\u001b[0m\u001b[0mtest_df\u001b[0m\u001b[0;34m.\u001b[0m\u001b[0mto_numpy\u001b[0m\u001b[0;34m(\u001b[0m\u001b[0;34m)\u001b[0m\u001b[0;34m\u001b[0m\u001b[0;34m\u001b[0m\u001b[0m\n\u001b[1;32m      2\u001b[0m \u001b[0mprint\u001b[0m\u001b[0;34m(\u001b[0m\u001b[0mmain_test\u001b[0m\u001b[0;34m.\u001b[0m\u001b[0mshape\u001b[0m\u001b[0;34m)\u001b[0m\u001b[0;34m\u001b[0m\u001b[0;34m\u001b[0m\u001b[0m\n\u001b[0;32m----> 3\u001b[0;31m \u001b[0mfinal_pred_breed\u001b[0m\u001b[0;34m=\u001b[0m\u001b[0mmodel_breed\u001b[0m\u001b[0;34m.\u001b[0m\u001b[0mpredict\u001b[0m\u001b[0;34m(\u001b[0m\u001b[0mtest_df\u001b[0m\u001b[0;34m)\u001b[0m\u001b[0;34m\u001b[0m\u001b[0;34m\u001b[0m\u001b[0m\n\u001b[0m",
            "\u001b[0;32m/usr/local/lib/python3.6/dist-packages/sklearn/ensemble/_voting.py\u001b[0m in \u001b[0;36mpredict\u001b[0;34m(self, X)\u001b[0m\n\u001b[1;32m    240\u001b[0m \u001b[0;34m\u001b[0m\u001b[0m\n\u001b[1;32m    241\u001b[0m         \u001b[0;32melse\u001b[0m\u001b[0;34m:\u001b[0m  \u001b[0;31m# 'hard' voting\u001b[0m\u001b[0;34m\u001b[0m\u001b[0;34m\u001b[0m\u001b[0m\n\u001b[0;32m--> 242\u001b[0;31m             \u001b[0mpredictions\u001b[0m \u001b[0;34m=\u001b[0m \u001b[0mself\u001b[0m\u001b[0;34m.\u001b[0m\u001b[0m_predict\u001b[0m\u001b[0;34m(\u001b[0m\u001b[0mX\u001b[0m\u001b[0;34m)\u001b[0m\u001b[0;34m\u001b[0m\u001b[0;34m\u001b[0m\u001b[0m\n\u001b[0m\u001b[1;32m    243\u001b[0m             maj = np.apply_along_axis(\n\u001b[1;32m    244\u001b[0m                 lambda x: np.argmax(\n",
            "\u001b[0;32m/usr/local/lib/python3.6/dist-packages/sklearn/ensemble/_voting.py\u001b[0m in \u001b[0;36m_predict\u001b[0;34m(self, X)\u001b[0m\n\u001b[1;32m     50\u001b[0m     \u001b[0;32mdef\u001b[0m \u001b[0m_predict\u001b[0m\u001b[0;34m(\u001b[0m\u001b[0mself\u001b[0m\u001b[0;34m,\u001b[0m \u001b[0mX\u001b[0m\u001b[0;34m)\u001b[0m\u001b[0;34m:\u001b[0m\u001b[0;34m\u001b[0m\u001b[0;34m\u001b[0m\u001b[0m\n\u001b[1;32m     51\u001b[0m         \u001b[0;34m\"\"\"Collect results from clf.predict calls.\"\"\"\u001b[0m\u001b[0;34m\u001b[0m\u001b[0;34m\u001b[0m\u001b[0m\n\u001b[0;32m---> 52\u001b[0;31m         \u001b[0;32mreturn\u001b[0m \u001b[0mnp\u001b[0m\u001b[0;34m.\u001b[0m\u001b[0masarray\u001b[0m\u001b[0;34m(\u001b[0m\u001b[0;34m[\u001b[0m\u001b[0mest\u001b[0m\u001b[0;34m.\u001b[0m\u001b[0mpredict\u001b[0m\u001b[0;34m(\u001b[0m\u001b[0mX\u001b[0m\u001b[0;34m)\u001b[0m \u001b[0;32mfor\u001b[0m \u001b[0mest\u001b[0m \u001b[0;32min\u001b[0m \u001b[0mself\u001b[0m\u001b[0;34m.\u001b[0m\u001b[0mestimators_\u001b[0m\u001b[0;34m]\u001b[0m\u001b[0;34m)\u001b[0m\u001b[0;34m.\u001b[0m\u001b[0mT\u001b[0m\u001b[0;34m\u001b[0m\u001b[0;34m\u001b[0m\u001b[0m\n\u001b[0m\u001b[1;32m     53\u001b[0m \u001b[0;34m\u001b[0m\u001b[0m\n\u001b[1;32m     54\u001b[0m     \u001b[0;34m@\u001b[0m\u001b[0mabstractmethod\u001b[0m\u001b[0;34m\u001b[0m\u001b[0;34m\u001b[0m\u001b[0m\n",
            "\u001b[0;32m/usr/local/lib/python3.6/dist-packages/numpy/core/_asarray.py\u001b[0m in \u001b[0;36masarray\u001b[0;34m(a, dtype, order)\u001b[0m\n\u001b[1;32m     83\u001b[0m \u001b[0;34m\u001b[0m\u001b[0m\n\u001b[1;32m     84\u001b[0m     \"\"\"\n\u001b[0;32m---> 85\u001b[0;31m     \u001b[0;32mreturn\u001b[0m \u001b[0marray\u001b[0m\u001b[0;34m(\u001b[0m\u001b[0ma\u001b[0m\u001b[0;34m,\u001b[0m \u001b[0mdtype\u001b[0m\u001b[0;34m,\u001b[0m \u001b[0mcopy\u001b[0m\u001b[0;34m=\u001b[0m\u001b[0;32mFalse\u001b[0m\u001b[0;34m,\u001b[0m \u001b[0morder\u001b[0m\u001b[0;34m=\u001b[0m\u001b[0morder\u001b[0m\u001b[0;34m)\u001b[0m\u001b[0;34m\u001b[0m\u001b[0;34m\u001b[0m\u001b[0m\n\u001b[0m\u001b[1;32m     86\u001b[0m \u001b[0;34m\u001b[0m\u001b[0m\n\u001b[1;32m     87\u001b[0m \u001b[0;34m\u001b[0m\u001b[0m\n",
            "\u001b[0;31mValueError\u001b[0m: could not broadcast input array from shape (8072,1) into shape (8072)"
          ]
        }
      ]
    },
    {
      "cell_type": "code",
      "metadata": {
        "id": "HQ2hP2pz8Bzb"
      },
      "source": [
        "\n",
        "final_pred_pet=model_pet.predict(main_test)"
      ],
      "execution_count": null,
      "outputs": []
    },
    {
      "cell_type": "code",
      "metadata": {
        "id": "WLzUA9hwwstr"
      },
      "source": [
        "final_pred_pet_df=pd.DataFrame(final_pred_pet,columns=['pet_category'])"
      ],
      "execution_count": null,
      "outputs": []
    },
    {
      "cell_type": "code",
      "metadata": {
        "id": "PkCuD1AFuuyZ"
      },
      "source": [
        "final_pred_breed_df=pd.DataFrame(final_pred_breed,columns=['breed_category'])"
      ],
      "execution_count": null,
      "outputs": []
    },
    {
      "cell_type": "code",
      "metadata": {
        "id": "bcsCOHYJu5Da",
        "colab": {
          "base_uri": "https://localhost:8080/",
          "height": 70
        },
        "outputId": "4e2a56a6-933f-4b75-eb8d-8d55f5ef1ee0"
      },
      "source": [
        "final_pred_breed_df['breed_category'].value_counts()"
      ],
      "execution_count": null,
      "outputs": [
        {
          "output_type": "execute_result",
          "data": {
            "text/plain": [
              "0.0    7532\n",
              "1.0     540\n",
              "Name: breed_category, dtype: int64"
            ]
          },
          "metadata": {
            "tags": []
          },
          "execution_count": 394
        }
      ]
    },
    {
      "cell_type": "code",
      "metadata": {
        "id": "lnST8OoFu9uc"
      },
      "source": [
        "submission_df=pd.DataFrame(test_pet_id,columns=['pet_id'])"
      ],
      "execution_count": null,
      "outputs": []
    },
    {
      "cell_type": "code",
      "metadata": {
        "id": "cgJ3JRMkxFHY",
        "colab": {
          "base_uri": "https://localhost:8080/",
          "height": 197
        },
        "outputId": "b4123551-7bfb-49ed-87e5-eb34ea83e49a"
      },
      "source": [
        "submission_df.head()"
      ],
      "execution_count": null,
      "outputs": [
        {
          "output_type": "execute_result",
          "data": {
            "text/html": [
              "<div>\n",
              "<style scoped>\n",
              "    .dataframe tbody tr th:only-of-type {\n",
              "        vertical-align: middle;\n",
              "    }\n",
              "\n",
              "    .dataframe tbody tr th {\n",
              "        vertical-align: top;\n",
              "    }\n",
              "\n",
              "    .dataframe thead th {\n",
              "        text-align: right;\n",
              "    }\n",
              "</style>\n",
              "<table border=\"1\" class=\"dataframe\">\n",
              "  <thead>\n",
              "    <tr style=\"text-align: right;\">\n",
              "      <th></th>\n",
              "      <th>pet_id</th>\n",
              "    </tr>\n",
              "  </thead>\n",
              "  <tbody>\n",
              "    <tr>\n",
              "      <th>0</th>\n",
              "      <td>ANSL_75005</td>\n",
              "    </tr>\n",
              "    <tr>\n",
              "      <th>1</th>\n",
              "      <td>ANSL_76663</td>\n",
              "    </tr>\n",
              "    <tr>\n",
              "      <th>2</th>\n",
              "      <td>ANSL_58259</td>\n",
              "    </tr>\n",
              "    <tr>\n",
              "      <th>3</th>\n",
              "      <td>ANSL_67171</td>\n",
              "    </tr>\n",
              "    <tr>\n",
              "      <th>4</th>\n",
              "      <td>ANSL_72871</td>\n",
              "    </tr>\n",
              "  </tbody>\n",
              "</table>\n",
              "</div>"
            ],
            "text/plain": [
              "       pet_id\n",
              "0  ANSL_75005\n",
              "1  ANSL_76663\n",
              "2  ANSL_58259\n",
              "3  ANSL_67171\n",
              "4  ANSL_72871"
            ]
          },
          "metadata": {
            "tags": []
          },
          "execution_count": 440
        }
      ]
    },
    {
      "cell_type": "code",
      "metadata": {
        "id": "V-cjNp0-xHI-"
      },
      "source": [
        "submission_df=pd.concat([submission_df,final_pred_breed_df],axis=1)"
      ],
      "execution_count": null,
      "outputs": []
    },
    {
      "cell_type": "code",
      "metadata": {
        "id": "2dPZzCWNxVjR",
        "colab": {
          "base_uri": "https://localhost:8080/",
          "height": 197
        },
        "outputId": "a252f042-466c-490e-f0e7-0b7a95548f2c"
      },
      "source": [
        "submission_df.head()"
      ],
      "execution_count": null,
      "outputs": [
        {
          "output_type": "execute_result",
          "data": {
            "text/html": [
              "<div>\n",
              "<style scoped>\n",
              "    .dataframe tbody tr th:only-of-type {\n",
              "        vertical-align: middle;\n",
              "    }\n",
              "\n",
              "    .dataframe tbody tr th {\n",
              "        vertical-align: top;\n",
              "    }\n",
              "\n",
              "    .dataframe thead th {\n",
              "        text-align: right;\n",
              "    }\n",
              "</style>\n",
              "<table border=\"1\" class=\"dataframe\">\n",
              "  <thead>\n",
              "    <tr style=\"text-align: right;\">\n",
              "      <th></th>\n",
              "      <th>pet_id</th>\n",
              "      <th>breed_category</th>\n",
              "    </tr>\n",
              "  </thead>\n",
              "  <tbody>\n",
              "    <tr>\n",
              "      <th>0</th>\n",
              "      <td>ANSL_75005</td>\n",
              "      <td>0.0</td>\n",
              "    </tr>\n",
              "    <tr>\n",
              "      <th>1</th>\n",
              "      <td>ANSL_76663</td>\n",
              "      <td>0.0</td>\n",
              "    </tr>\n",
              "    <tr>\n",
              "      <th>2</th>\n",
              "      <td>ANSL_58259</td>\n",
              "      <td>0.0</td>\n",
              "    </tr>\n",
              "    <tr>\n",
              "      <th>3</th>\n",
              "      <td>ANSL_67171</td>\n",
              "      <td>0.0</td>\n",
              "    </tr>\n",
              "    <tr>\n",
              "      <th>4</th>\n",
              "      <td>ANSL_72871</td>\n",
              "      <td>0.0</td>\n",
              "    </tr>\n",
              "  </tbody>\n",
              "</table>\n",
              "</div>"
            ],
            "text/plain": [
              "       pet_id  breed_category\n",
              "0  ANSL_75005             0.0\n",
              "1  ANSL_76663             0.0\n",
              "2  ANSL_58259             0.0\n",
              "3  ANSL_67171             0.0\n",
              "4  ANSL_72871             0.0"
            ]
          },
          "metadata": {
            "tags": []
          },
          "execution_count": 442
        }
      ]
    },
    {
      "cell_type": "code",
      "metadata": {
        "id": "MAZVroD7xYq4"
      },
      "source": [
        "submission_df=pd.concat([submission_df,final_pred_pet_df],axis=1)"
      ],
      "execution_count": null,
      "outputs": []
    },
    {
      "cell_type": "code",
      "metadata": {
        "id": "yCLuC6boxgMU",
        "colab": {
          "base_uri": "https://localhost:8080/",
          "height": 197
        },
        "outputId": "835a9403-e1ab-4a44-d749-f4f74856dd83"
      },
      "source": [
        "submission_df.head()"
      ],
      "execution_count": null,
      "outputs": [
        {
          "output_type": "execute_result",
          "data": {
            "text/html": [
              "<div>\n",
              "<style scoped>\n",
              "    .dataframe tbody tr th:only-of-type {\n",
              "        vertical-align: middle;\n",
              "    }\n",
              "\n",
              "    .dataframe tbody tr th {\n",
              "        vertical-align: top;\n",
              "    }\n",
              "\n",
              "    .dataframe thead th {\n",
              "        text-align: right;\n",
              "    }\n",
              "</style>\n",
              "<table border=\"1\" class=\"dataframe\">\n",
              "  <thead>\n",
              "    <tr style=\"text-align: right;\">\n",
              "      <th></th>\n",
              "      <th>pet_id</th>\n",
              "      <th>breed_category</th>\n",
              "      <th>pet_category</th>\n",
              "    </tr>\n",
              "  </thead>\n",
              "  <tbody>\n",
              "    <tr>\n",
              "      <th>0</th>\n",
              "      <td>ANSL_75005</td>\n",
              "      <td>0.0</td>\n",
              "      <td>2</td>\n",
              "    </tr>\n",
              "    <tr>\n",
              "      <th>1</th>\n",
              "      <td>ANSL_76663</td>\n",
              "      <td>0.0</td>\n",
              "      <td>2</td>\n",
              "    </tr>\n",
              "    <tr>\n",
              "      <th>2</th>\n",
              "      <td>ANSL_58259</td>\n",
              "      <td>0.0</td>\n",
              "      <td>2</td>\n",
              "    </tr>\n",
              "    <tr>\n",
              "      <th>3</th>\n",
              "      <td>ANSL_67171</td>\n",
              "      <td>0.0</td>\n",
              "      <td>2</td>\n",
              "    </tr>\n",
              "    <tr>\n",
              "      <th>4</th>\n",
              "      <td>ANSL_72871</td>\n",
              "      <td>0.0</td>\n",
              "      <td>2</td>\n",
              "    </tr>\n",
              "  </tbody>\n",
              "</table>\n",
              "</div>"
            ],
            "text/plain": [
              "       pet_id  breed_category  pet_category\n",
              "0  ANSL_75005             0.0             2\n",
              "1  ANSL_76663             0.0             2\n",
              "2  ANSL_58259             0.0             2\n",
              "3  ANSL_67171             0.0             2\n",
              "4  ANSL_72871             0.0             2"
            ]
          },
          "metadata": {
            "tags": []
          },
          "execution_count": 444
        }
      ]
    },
    {
      "cell_type": "code",
      "metadata": {
        "id": "myPyQnKlxipb"
      },
      "source": [
        "submission_df.to_csv('finalsub7.csv',index=False)"
      ],
      "execution_count": null,
      "outputs": []
    },
    {
      "cell_type": "code",
      "metadata": {
        "id": "wLP31a8hxzHX"
      },
      "source": [
        ""
      ],
      "execution_count": null,
      "outputs": []
    }
  ]
}